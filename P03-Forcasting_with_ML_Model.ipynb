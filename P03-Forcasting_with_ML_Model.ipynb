{
 "cells": [
  {
   "cell_type": "markdown",
   "metadata": {},
   "source": [
    "# EUR/PLN Time series - Currency exchange rate predictions 3/3 - Machine Learning Models\n"
   ]
  },
  {
   "cell_type": "markdown",
   "metadata": {},
   "source": [
    "## Introduction\n",
    "\n",
    "In this notebook, on the data already prepared, I will apply the Machine Learning approach to predicting values in time series. For this I will use 15 ML models and one neural network from the sklearn library.\n",
    "\n",
    "Models used:\n",
    "1. ElasticNet\n",
    "2. Lasso\n",
    "3. Ridge\n",
    "4. Linear Regression\n",
    "5. SVR - Kernel: RBF\n",
    "6. Decision Tree\n",
    "7. Random Forest\n",
    "8. KNN\n",
    "9. Ensamble estimator: BaggingRegressor with Decision Tree and Ridge models\n",
    "11. Extra Tree\n",
    "12. Ada Boost\n",
    "13. Gradient Boost\n",
    "14. XGBoost with Random and Grid Search\n",
    "16. Multi-layer Perceptron regressor"
   ]
  },
  {
   "cell_type": "markdown",
   "metadata": {},
   "source": [
    "## Imports"
   ]
  },
  {
   "cell_type": "code",
   "execution_count": 1,
   "metadata": {},
   "outputs": [],
   "source": [
    "#Basic\n",
    "import numpy as np\n",
    "import pandas as pd\n",
    "import matplotlib.pyplot as plt\n",
    "import seaborn as sns\n",
    "import pprint\n",
    "from scipy import stats\n",
    "from datetime import datetime\n",
    "\n",
    "#Pipeline & Split\n",
    "from sklearn.pipeline import make_pipeline\n",
    "from sklearn.model_selection import TimeSeriesSplit\n",
    "from sklearn.model_selection import train_test_split\n",
    "from sklearn.model_selection import GridSearchCV\n",
    "from sklearn.model_selection import cross_val_score\n",
    "from sklearn.model_selection import RandomizedSearchCV\n",
    "from sklearn.pipeline import Pipeline\n",
    "\n",
    "\n",
    "#Utilitis\n",
    "from scipy.stats.distributions import uniform, randint\n",
    "import missingno as msno\n",
    "import glob\n",
    "import re\n",
    "\n",
    "#Preprocessing\n",
    "from sklearn.preprocessing import PolynomialFeatures\n",
    "from sklearn.preprocessing import MinMaxScaler, PowerTransformer, StandardScaler\n",
    "from sklearn.base import BaseEstimator, TransformerMixin\n",
    "from sklearn.decomposition import PCA\n",
    "from statsmodels.tsa.seasonal import seasonal_decompose\n",
    "\n",
    "\n",
    "#Models\n",
    "from sklearn.linear_model import ElasticNet\n",
    "from sklearn.linear_model import Ridge\n",
    "from sklearn.linear_model import Lasso\n",
    "from sklearn.linear_model import LinearRegression\n",
    "from sklearn.neural_network import MLPRegressor\n",
    "from sklearn.tree import DecisionTreeRegressor\n",
    "from sklearn.svm import SVR\n",
    "from sklearn.ensemble import RandomForestRegressor\n",
    "from sklearn.ensemble import BaggingRegressor\n",
    "from sklearn.ensemble import AdaBoostRegressor\n",
    "from sklearn.ensemble import GradientBoostingRegressor\n",
    "from sklearn.ensemble import VotingRegressor\n",
    "from sklearn.ensemble import ExtraTreesRegressor\n",
    "from sklearn.neighbors import KNeighborsRegressor\n",
    "\n",
    "from xgboost import XGBRegressor\n",
    "from xgboost import XGBRFRegressor\n",
    "\n",
    "#Metrics\n",
    "from sklearn import metrics\n",
    "\n",
    "\n",
    "\n",
    "import warnings\n",
    "warnings.filterwarnings(\"ignore\")\n",
    "\n",
    "import pickle"
   ]
  },
  {
   "cell_type": "markdown",
   "metadata": {},
   "source": [
    "### Loading data"
   ]
  },
  {
   "cell_type": "code",
   "execution_count": 235,
   "metadata": {},
   "outputs": [],
   "source": [
    "df = pd.read_csv('Data/currencies_and_indicators.csv', index_col = 'Date')"
   ]
  },
  {
   "cell_type": "code",
   "execution_count": 236,
   "metadata": {
    "scrolled": false
   },
   "outputs": [
    {
     "data": {
      "text/html": [
       "<div>\n",
       "<style scoped>\n",
       "    .dataframe tbody tr th:only-of-type {\n",
       "        vertical-align: middle;\n",
       "    }\n",
       "\n",
       "    .dataframe tbody tr th {\n",
       "        vertical-align: top;\n",
       "    }\n",
       "\n",
       "    .dataframe thead th {\n",
       "        text-align: right;\n",
       "    }\n",
       "</style>\n",
       "<table border=\"1\" class=\"dataframe\">\n",
       "  <thead>\n",
       "    <tr style=\"text-align: right;\">\n",
       "      <th></th>\n",
       "      <th>USD</th>\n",
       "      <th>JPY</th>\n",
       "      <th>BGN</th>\n",
       "      <th>CZK</th>\n",
       "      <th>DKK</th>\n",
       "      <th>GBP</th>\n",
       "      <th>HUF</th>\n",
       "      <th>PLN</th>\n",
       "      <th>RON</th>\n",
       "      <th>SEK</th>\n",
       "      <th>...</th>\n",
       "      <th>Wydajność pracy (% r/r)</th>\n",
       "      <th>Jednostkowe koszty pracy (% r/r)</th>\n",
       "      <th>Produkt potencjalny (% r/r)</th>\n",
       "      <th>Luka popytowa (% PKB potencjalnego)</th>\n",
       "      <th>Indeks cen surowców rolnych (USD; 2010=1,00)</th>\n",
       "      <th>Indeks cen surowców energetycznych (USD; 2010=1,00)</th>\n",
       "      <th>Poziom cen za granicą (% r/r)</th>\n",
       "      <th>PKB za granicą (% r/r)</th>\n",
       "      <th>Saldo rachunku bieżącego i rachunku kapitałowego (% PKB)</th>\n",
       "      <th>WIBOR 3M (%)</th>\n",
       "    </tr>\n",
       "    <tr>\n",
       "      <th>Date</th>\n",
       "      <th></th>\n",
       "      <th></th>\n",
       "      <th></th>\n",
       "      <th></th>\n",
       "      <th></th>\n",
       "      <th></th>\n",
       "      <th></th>\n",
       "      <th></th>\n",
       "      <th></th>\n",
       "      <th></th>\n",
       "      <th></th>\n",
       "      <th></th>\n",
       "      <th></th>\n",
       "      <th></th>\n",
       "      <th></th>\n",
       "      <th></th>\n",
       "      <th></th>\n",
       "      <th></th>\n",
       "      <th></th>\n",
       "      <th></th>\n",
       "      <th></th>\n",
       "    </tr>\n",
       "  </thead>\n",
       "  <tbody>\n",
       "    <tr>\n",
       "      <th>1999-01-04</th>\n",
       "      <td>1.1789</td>\n",
       "      <td>133.73</td>\n",
       "      <td>NaN</td>\n",
       "      <td>35.107</td>\n",
       "      <td>7.4501</td>\n",
       "      <td>0.71110</td>\n",
       "      <td>251.48</td>\n",
       "      <td>4.0712</td>\n",
       "      <td>NaN</td>\n",
       "      <td>9.4696</td>\n",
       "      <td>...</td>\n",
       "      <td>NaN</td>\n",
       "      <td>NaN</td>\n",
       "      <td>NaN</td>\n",
       "      <td>NaN</td>\n",
       "      <td>NaN</td>\n",
       "      <td>NaN</td>\n",
       "      <td>NaN</td>\n",
       "      <td>NaN</td>\n",
       "      <td>NaN</td>\n",
       "      <td>NaN</td>\n",
       "    </tr>\n",
       "    <tr>\n",
       "      <th>1999-01-05</th>\n",
       "      <td>1.1790</td>\n",
       "      <td>130.96</td>\n",
       "      <td>NaN</td>\n",
       "      <td>34.917</td>\n",
       "      <td>7.4495</td>\n",
       "      <td>0.71220</td>\n",
       "      <td>250.80</td>\n",
       "      <td>4.0245</td>\n",
       "      <td>NaN</td>\n",
       "      <td>9.4025</td>\n",
       "      <td>...</td>\n",
       "      <td>NaN</td>\n",
       "      <td>NaN</td>\n",
       "      <td>NaN</td>\n",
       "      <td>NaN</td>\n",
       "      <td>NaN</td>\n",
       "      <td>NaN</td>\n",
       "      <td>NaN</td>\n",
       "      <td>NaN</td>\n",
       "      <td>NaN</td>\n",
       "      <td>NaN</td>\n",
       "    </tr>\n",
       "    <tr>\n",
       "      <th>1999-01-06</th>\n",
       "      <td>1.1743</td>\n",
       "      <td>131.42</td>\n",
       "      <td>NaN</td>\n",
       "      <td>34.850</td>\n",
       "      <td>7.4452</td>\n",
       "      <td>0.70760</td>\n",
       "      <td>250.67</td>\n",
       "      <td>4.0065</td>\n",
       "      <td>NaN</td>\n",
       "      <td>9.3050</td>\n",
       "      <td>...</td>\n",
       "      <td>NaN</td>\n",
       "      <td>NaN</td>\n",
       "      <td>NaN</td>\n",
       "      <td>NaN</td>\n",
       "      <td>NaN</td>\n",
       "      <td>NaN</td>\n",
       "      <td>NaN</td>\n",
       "      <td>NaN</td>\n",
       "      <td>NaN</td>\n",
       "      <td>NaN</td>\n",
       "    </tr>\n",
       "    <tr>\n",
       "      <th>1999-01-07</th>\n",
       "      <td>1.1632</td>\n",
       "      <td>129.43</td>\n",
       "      <td>NaN</td>\n",
       "      <td>34.886</td>\n",
       "      <td>7.4431</td>\n",
       "      <td>0.70585</td>\n",
       "      <td>250.09</td>\n",
       "      <td>4.0165</td>\n",
       "      <td>NaN</td>\n",
       "      <td>9.1800</td>\n",
       "      <td>...</td>\n",
       "      <td>NaN</td>\n",
       "      <td>NaN</td>\n",
       "      <td>NaN</td>\n",
       "      <td>NaN</td>\n",
       "      <td>NaN</td>\n",
       "      <td>NaN</td>\n",
       "      <td>NaN</td>\n",
       "      <td>NaN</td>\n",
       "      <td>NaN</td>\n",
       "      <td>NaN</td>\n",
       "    </tr>\n",
       "    <tr>\n",
       "      <th>1999-01-08</th>\n",
       "      <td>1.1659</td>\n",
       "      <td>130.09</td>\n",
       "      <td>NaN</td>\n",
       "      <td>34.938</td>\n",
       "      <td>7.4433</td>\n",
       "      <td>0.70940</td>\n",
       "      <td>250.15</td>\n",
       "      <td>4.0363</td>\n",
       "      <td>NaN</td>\n",
       "      <td>9.1650</td>\n",
       "      <td>...</td>\n",
       "      <td>NaN</td>\n",
       "      <td>NaN</td>\n",
       "      <td>NaN</td>\n",
       "      <td>NaN</td>\n",
       "      <td>NaN</td>\n",
       "      <td>NaN</td>\n",
       "      <td>NaN</td>\n",
       "      <td>NaN</td>\n",
       "      <td>NaN</td>\n",
       "      <td>NaN</td>\n",
       "    </tr>\n",
       "  </tbody>\n",
       "</table>\n",
       "<p>5 rows × 76 columns</p>\n",
       "</div>"
      ],
      "text/plain": [
       "               USD     JPY  BGN     CZK     DKK      GBP     HUF     PLN  RON  \\\n",
       "Date                                                                            \n",
       "1999-01-04  1.1789  133.73  NaN  35.107  7.4501  0.71110  251.48  4.0712  NaN   \n",
       "1999-01-05  1.1790  130.96  NaN  34.917  7.4495  0.71220  250.80  4.0245  NaN   \n",
       "1999-01-06  1.1743  131.42  NaN  34.850  7.4452  0.70760  250.67  4.0065  NaN   \n",
       "1999-01-07  1.1632  129.43  NaN  34.886  7.4431  0.70585  250.09  4.0165  NaN   \n",
       "1999-01-08  1.1659  130.09  NaN  34.938  7.4433  0.70940  250.15  4.0363  NaN   \n",
       "\n",
       "               SEK  ...  Wydajność pracy (% r/r)  \\\n",
       "Date                ...                            \n",
       "1999-01-04  9.4696  ...                      NaN   \n",
       "1999-01-05  9.4025  ...                      NaN   \n",
       "1999-01-06  9.3050  ...                      NaN   \n",
       "1999-01-07  9.1800  ...                      NaN   \n",
       "1999-01-08  9.1650  ...                      NaN   \n",
       "\n",
       "            Jednostkowe koszty pracy (% r/r)  Produkt potencjalny (% r/r)  \\\n",
       "Date                                                                        \n",
       "1999-01-04                               NaN                          NaN   \n",
       "1999-01-05                               NaN                          NaN   \n",
       "1999-01-06                               NaN                          NaN   \n",
       "1999-01-07                               NaN                          NaN   \n",
       "1999-01-08                               NaN                          NaN   \n",
       "\n",
       "            Luka popytowa (% PKB potencjalnego)  \\\n",
       "Date                                              \n",
       "1999-01-04                                  NaN   \n",
       "1999-01-05                                  NaN   \n",
       "1999-01-06                                  NaN   \n",
       "1999-01-07                                  NaN   \n",
       "1999-01-08                                  NaN   \n",
       "\n",
       "            Indeks cen surowców rolnych (USD; 2010=1,00)  \\\n",
       "Date                                                       \n",
       "1999-01-04                                           NaN   \n",
       "1999-01-05                                           NaN   \n",
       "1999-01-06                                           NaN   \n",
       "1999-01-07                                           NaN   \n",
       "1999-01-08                                           NaN   \n",
       "\n",
       "            Indeks cen surowców energetycznych (USD; 2010=1,00)  \\\n",
       "Date                                                              \n",
       "1999-01-04                                                NaN     \n",
       "1999-01-05                                                NaN     \n",
       "1999-01-06                                                NaN     \n",
       "1999-01-07                                                NaN     \n",
       "1999-01-08                                                NaN     \n",
       "\n",
       "            Poziom cen za granicą (% r/r)  PKB za granicą (% r/r)  \\\n",
       "Date                                                                \n",
       "1999-01-04                            NaN                     NaN   \n",
       "1999-01-05                            NaN                     NaN   \n",
       "1999-01-06                            NaN                     NaN   \n",
       "1999-01-07                            NaN                     NaN   \n",
       "1999-01-08                            NaN                     NaN   \n",
       "\n",
       "            Saldo rachunku bieżącego i rachunku kapitałowego (% PKB)  \\\n",
       "Date                                                                   \n",
       "1999-01-04                                                NaN          \n",
       "1999-01-05                                                NaN          \n",
       "1999-01-06                                                NaN          \n",
       "1999-01-07                                                NaN          \n",
       "1999-01-08                                                NaN          \n",
       "\n",
       "            WIBOR 3M (%)  \n",
       "Date                      \n",
       "1999-01-04           NaN  \n",
       "1999-01-05           NaN  \n",
       "1999-01-06           NaN  \n",
       "1999-01-07           NaN  \n",
       "1999-01-08           NaN  \n",
       "\n",
       "[5 rows x 76 columns]"
      ]
     },
     "execution_count": 236,
     "metadata": {},
     "output_type": "execute_result"
    }
   ],
   "source": [
    "df.head()"
   ]
  },
  {
   "cell_type": "code",
   "execution_count": 237,
   "metadata": {
    "scrolled": true
   },
   "outputs": [
    {
     "name": "stdout",
     "output_type": "stream",
     "text": [
      "<class 'pandas.core.frame.DataFrame'>\n",
      "Index: 5701 entries, 1999-01-04 to 2020-11-09\n",
      "Data columns (total 76 columns):\n",
      " #   Column                                                                          Non-Null Count  Dtype  \n",
      "---  ------                                                                          --------------  -----  \n",
      " 0   USD                                                                             5701 non-null   float64\n",
      " 1   JPY                                                                             5701 non-null   float64\n",
      " 2   BGN                                                                             5299 non-null   float64\n",
      " 3   CZK                                                                             5701 non-null   float64\n",
      " 4   DKK                                                                             5701 non-null   float64\n",
      " 5   GBP                                                                             5701 non-null   float64\n",
      " 6   HUF                                                                             5701 non-null   float64\n",
      " 7   PLN                                                                             5701 non-null   float64\n",
      " 8   RON                                                                             4007 non-null   float64\n",
      " 9   SEK                                                                             5701 non-null   float64\n",
      " 10  CHF                                                                             5701 non-null   float64\n",
      " 11  NOK                                                                             5701 non-null   float64\n",
      " 12  HRK                                                                             4072 non-null   float64\n",
      " 13  RUB                                                                             4072 non-null   float64\n",
      " 14  TRY                                                                             4136 non-null   float64\n",
      " 15  AUD                                                                             5701 non-null   float64\n",
      " 16  BRL                                                                             3354 non-null   float64\n",
      " 17  CAD                                                                             5701 non-null   float64\n",
      " 18  CNY                                                                             4072 non-null   float64\n",
      " 19  HKD                                                                             5701 non-null   float64\n",
      " 20  IDR                                                                             4072 non-null   float64\n",
      " 21  ILS                                                                             2571 non-null   float64\n",
      " 22  INR                                                                             3092 non-null   float64\n",
      " 23  KRW                                                                             5701 non-null   float64\n",
      " 24  MXN                                                                             3354 non-null   float64\n",
      " 25  MYR                                                                             4072 non-null   float64\n",
      " 26  NZD                                                                             5701 non-null   float64\n",
      " 27  PHP                                                                             4072 non-null   float64\n",
      " 28  SGD                                                                             5701 non-null   float64\n",
      " 29  THB                                                                             4072 non-null   float64\n",
      " 30  ZAR                                                                             5701 non-null   float64\n",
      " 31  Bieżąca ogólna sytuacja gospodarcza przedsiębiorstwa, ogółem                    5420 non-null   float64\n",
      " 32  Bieżący wskaźnik ufności konsumenckiej                                          4224 non-null   float64\n",
      " 33  Ceny towarów i usług konsumpcyjnych - ogółem                                    4897 non-null   float64\n",
      " 34  Dług skarbu państwa, ogółem                                                     5158 non-null   float64\n",
      " 35  Dług zagraniczny skarbu państwa, ogółem                                         5158 non-null   float64\n",
      " 36  Handel zagraniczny wg GUS - eksport ogółem                                      4356 non-null   float64\n",
      " 37  Handel zagraniczny wg GUS - saldo ogółem                                        4356 non-null   float64\n",
      " 38  Handel zagraniczny wg GUS - import ogółem                                       4356 non-null   float64\n",
      " 39  Mediana prognoz wzrostu PKB Polski w 2020 r.                                    650 non-null    float64\n",
      " 40  Międzynarodowa pozycja inwestycyjna, międzynarodowa pozycja inwestycyjna netto  4290 non-null   float64\n",
      " 41  Nakłady brutto na środki trwałe                                                 5595 non-null   float64\n",
      " 42  Oprocentowanie nowych depozytów, ogółem                                         4115 non-null   float64\n",
      " 43  Oprocentowanie nowych kredytów, ogółem                                          4115 non-null   float64\n",
      " 44  Produkt krajowy brutto (PKB)                                                    5595 non-null   float64\n",
      " 45  Sprzedaż produkcji budowlano-montażowej - ogółem                                4897 non-null   float64\n",
      " 46  Stopa bezrobocia rejestrowanego                                                 4897 non-null   float64\n",
      " 47  Stopa referencyjna NBP                                                          5440 non-null   float64\n",
      " 48  Exch rate                                                                       5701 non-null   float64\n",
      " 49  Wskaźnik cen konsumenta CPI (% r/r)                                             3355 non-null   float64\n",
      " 50      Ceny żywności (% r/r)                                                       3355 non-null   float64\n",
      " 51      Ceny energii (% r/r)                                                        3355 non-null   float64\n",
      " 52      Wskaźnik cen inflacji bazowej po wyłączeniu cen żywności i energii (% r/r)  3355 non-null   float64\n",
      " 53  PKB (% r/r)                                                                     3355 non-null   float64\n",
      " 54      Popyt krajowy (% r/r)                                                       3355 non-null   float64\n",
      " 55          Spożycie indywidualne (% r/r)                                           3355 non-null   float64\n",
      " 56          Spożycie zbiorowe (% r/r)                                               3355 non-null   float64\n",
      " 57          Nakłady inwestycyjne (% r/r)                                            3355 non-null   float64\n",
      " 58      Wkład eksportu netto (pkt. proc. r/r)                                       3355 non-null   float64\n",
      " 59          Eksport (% r/r)                                                         3355 non-null   float64\n",
      " 60          Import (% r/r)                                                          3355 non-null   float64\n",
      " 61  Płace brutto (% r/r)                                                            3355 non-null   float64\n",
      " 62  Liczba pracujących (% r/r)                                                      3355 non-null   float64\n",
      " 63  Stopa bezrobocia (%)                                                            3355 non-null   float64\n",
      " 64  NAWRU (%)                                                                       3355 non-null   float64\n",
      " 65  Stopa aktywności zawodowej (%)                                                  3355 non-null   float64\n",
      " 66  Wydajność pracy (% r/r)                                                         3355 non-null   float64\n",
      " 67  Jednostkowe koszty pracy (% r/r)                                                3355 non-null   float64\n",
      " 68  Produkt potencjalny (% r/r)                                                     3355 non-null   float64\n",
      " 69  Luka popytowa (% PKB potencjalnego)                                             3355 non-null   float64\n",
      " 70  Indeks cen surowców rolnych (USD; 2010=1,00)                                    3355 non-null   float64\n",
      " 71  Indeks cen surowców energetycznych (USD; 2010=1,00)                             3355 non-null   float64\n",
      " 72  Poziom cen za granicą (% r/r)                                                   3355 non-null   float64\n",
      " 73  PKB za granicą (% r/r)                                                          3355 non-null   float64\n",
      " 74  Saldo rachunku bieżącego i rachunku kapitałowego (% PKB)                        3355 non-null   float64\n",
      " 75  WIBOR 3M (%)                                                                    3355 non-null   float64\n",
      "dtypes: float64(76)\n",
      "memory usage: 3.3+ MB\n"
     ]
    }
   ],
   "source": [
    "df.info()"
   ]
  },
  {
   "cell_type": "code",
   "execution_count": 238,
   "metadata": {
    "scrolled": true
   },
   "outputs": [
    {
     "data": {
      "text/plain": [
       "USD                                                            0\n",
       "JPY                                                            0\n",
       "BGN                                                          402\n",
       "CZK                                                            0\n",
       "DKK                                                            0\n",
       "                                                            ... \n",
       "Indeks cen surowców energetycznych (USD; 2010=1,00)         2346\n",
       "Poziom cen za granicą (% r/r)                               2346\n",
       "PKB za granicą (% r/r)                                      2346\n",
       "Saldo rachunku bieżącego i rachunku kapitałowego (% PKB)    2346\n",
       "WIBOR 3M (%)                                                2346\n",
       "Length: 76, dtype: int64"
      ]
     },
     "execution_count": 238,
     "metadata": {},
     "output_type": "execute_result"
    }
   ],
   "source": [
    "df.isna().sum()"
   ]
  },
  {
   "cell_type": "code",
   "execution_count": 239,
   "metadata": {
    "scrolled": true
   },
   "outputs": [
    {
     "data": {
      "text/plain": [
       "array([   0,    0,    0,    0,    0,    0,    0,    0,    0,    0,    0,\n",
       "          0,    0,    0,    0,    0,    0,    0,    0,    0,    0,  782,\n",
       "        261,    0,    0,    0,    0,    0,    0,    0,    0,    0,    0,\n",
       "          0,    0,    0,    0,    0,    0, 2703,    0,    0,    0,    0,\n",
       "          0,    0,    0,    0,    0,    0,    0,    0,    0,    0,    0,\n",
       "          0,    0,    0,    0,    0,    0,    0,    0,    0,    0,    0,\n",
       "          0,    0,    0,    0,    0,    0,    0,    0,    0,    0],\n",
       "      dtype=int64)"
      ]
     },
     "execution_count": 239,
     "metadata": {},
     "output_type": "execute_result"
    }
   ],
   "source": [
    "df.loc['2008-01-03':].isna().sum().values"
   ]
  },
  {
   "cell_type": "code",
   "execution_count": 240,
   "metadata": {},
   "outputs": [],
   "source": [
    "df_cut = df.loc['2008-01-03':]"
   ]
  },
  {
   "cell_type": "code",
   "execution_count": 241,
   "metadata": {},
   "outputs": [],
   "source": [
    "df_cut = df.copy()"
   ]
  },
  {
   "cell_type": "code",
   "execution_count": 242,
   "metadata": {
    "scrolled": false
   },
   "outputs": [
    {
     "data": {
      "image/png": "[encoded data removed]",
      "text/plain": [
       "<Figure size 1800x720 with 2 Axes>"
      ]
     },
     "metadata": {
      "needs_background": "light"
     },
     "output_type": "display_data"
    }
   ],
   "source": [
    "msno.matrix(df_cut)\n",
    "plt.show()"
   ]
  },
  {
   "cell_type": "code",
   "execution_count": 243,
   "metadata": {},
   "outputs": [],
   "source": [
    "#df_cut = df_cut.dropna(axis=1)"
   ]
  },
  {
   "cell_type": "code",
   "execution_count": 244,
   "metadata": {},
   "outputs": [
    {
     "data": {
      "text/plain": [
       "Date\n",
       "1999-01-04    104.1583\n",
       "1999-01-05    104.7873\n",
       "1999-01-06    105.8575\n",
       "1999-01-07    105.8575\n",
       "1999-01-08    105.6341\n",
       "                ...   \n",
       "2020-11-03     91.6251\n",
       "2020-11-04     92.3143\n",
       "2020-11-05     92.8912\n",
       "2020-11-06     93.4708\n",
       "2020-11-09     93.2163\n",
       "Name: Exch rate, Length: 5701, dtype: float64"
      ]
     },
     "execution_count": 244,
     "metadata": {},
     "output_type": "execute_result"
    }
   ],
   "source": [
    "df_cut['Exch rate']"
   ]
  },
  {
   "cell_type": "code",
   "execution_count": 245,
   "metadata": {
    "scrolled": false
   },
   "outputs": [
    {
     "data": {
      "image/png": "[encoded data removed]",
      "text/plain": [
       "<Figure size 1800x720 with 2 Axes>"
      ]
     },
     "metadata": {
      "needs_background": "light"
     },
     "output_type": "display_data"
    }
   ],
   "source": [
    "msno.matrix(df_cut)\n",
    "plt.show()"
   ]
  },
  {
   "cell_type": "code",
   "execution_count": 246,
   "metadata": {},
   "outputs": [],
   "source": [
    "pln_corr_matrix = df_cut.corr()[['PLN']]"
   ]
  },
  {
   "cell_type": "code",
   "execution_count": 247,
   "metadata": {},
   "outputs": [
    {
     "data": {
      "text/html": [
       "<div>\n",
       "<style scoped>\n",
       "    .dataframe tbody tr th:only-of-type {\n",
       "        vertical-align: middle;\n",
       "    }\n",
       "\n",
       "    .dataframe tbody tr th {\n",
       "        vertical-align: top;\n",
       "    }\n",
       "\n",
       "    .dataframe thead th {\n",
       "        text-align: right;\n",
       "    }\n",
       "</style>\n",
       "<table border=\"1\" class=\"dataframe\">\n",
       "  <thead>\n",
       "    <tr style=\"text-align: right;\">\n",
       "      <th></th>\n",
       "      <th>PLN</th>\n",
       "    </tr>\n",
       "  </thead>\n",
       "  <tbody>\n",
       "    <tr>\n",
       "      <th>USD</th>\n",
       "      <td>-0.062179</td>\n",
       "    </tr>\n",
       "    <tr>\n",
       "      <th>JPY</th>\n",
       "      <td>-0.215017</td>\n",
       "    </tr>\n",
       "    <tr>\n",
       "      <th>BGN</th>\n",
       "      <td>0.107048</td>\n",
       "    </tr>\n",
       "    <tr>\n",
       "      <th>CZK</th>\n",
       "      <td>-0.013162</td>\n",
       "    </tr>\n",
       "    <tr>\n",
       "      <th>DKK</th>\n",
       "      <td>-0.189079</td>\n",
       "    </tr>\n",
       "    <tr>\n",
       "      <th>...</th>\n",
       "      <td>...</td>\n",
       "    </tr>\n",
       "    <tr>\n",
       "      <th>Indeks cen surowców energetycznych (USD; 2010=1,00)</th>\n",
       "      <td>-0.680038</td>\n",
       "    </tr>\n",
       "    <tr>\n",
       "      <th>Poziom cen za granicą (% r/r)</th>\n",
       "      <td>-0.362891</td>\n",
       "    </tr>\n",
       "    <tr>\n",
       "      <th>PKB za granicą (% r/r)</th>\n",
       "      <td>-0.322405</td>\n",
       "    </tr>\n",
       "    <tr>\n",
       "      <th>Saldo rachunku bieżącego i rachunku kapitałowego (% PKB)</th>\n",
       "      <td>0.678204</td>\n",
       "    </tr>\n",
       "    <tr>\n",
       "      <th>WIBOR 3M (%)</th>\n",
       "      <td>-0.658418</td>\n",
       "    </tr>\n",
       "  </tbody>\n",
       "</table>\n",
       "<p>76 rows × 1 columns</p>\n",
       "</div>"
      ],
      "text/plain": [
       "                                                         PLN\n",
       "USD                                                -0.062179\n",
       "JPY                                                -0.215017\n",
       "BGN                                                 0.107048\n",
       "CZK                                                -0.013162\n",
       "DKK                                                -0.189079\n",
       "...                                                      ...\n",
       "Indeks cen surowców energetycznych (USD; 2010=1... -0.680038\n",
       "Poziom cen za granicą (% r/r)                      -0.362891\n",
       "PKB za granicą (% r/r)                             -0.322405\n",
       "Saldo rachunku bieżącego i rachunku kapitałoweg...  0.678204\n",
       "WIBOR 3M (%)                                       -0.658418\n",
       "\n",
       "[76 rows x 1 columns]"
      ]
     },
     "execution_count": 247,
     "metadata": {},
     "output_type": "execute_result"
    }
   ],
   "source": [
    "pln_corr_matrix"
   ]
  },
  {
   "cell_type": "code",
   "execution_count": 248,
   "metadata": {
    "scrolled": false
   },
   "outputs": [
    {
     "data": {
      "image/png": "[encoded data removed]",
      "text/plain": [
       "<Figure size 1440x2160 with 2 Axes>"
      ]
     },
     "metadata": {
      "needs_background": "light"
     },
     "output_type": "display_data"
    }
   ],
   "source": [
    "f,ax = plt.subplots(figsize=(20, 30))\n",
    "sns.heatmap(pln_corr_matrix, vmin=-1, vmax=1, center=0, robust=False, annot=True, fmt='.1g', annot_kws=None, linewidths=0.2, linecolor='white', cbar=True, cbar_kws=None, cbar_ax=None, square=False, xticklabels='auto', yticklabels='auto', mask=None, ax=None)\n",
    "plt.show()"
   ]
  },
  {
   "cell_type": "markdown",
   "metadata": {},
   "source": [
    "#### Columns with high correlation"
   ]
  },
  {
   "cell_type": "code",
   "execution_count": 249,
   "metadata": {},
   "outputs": [],
   "source": [
    "treshold = 0.70"
   ]
  },
  {
   "cell_type": "code",
   "execution_count": 250,
   "metadata": {
    "scrolled": true
   },
   "outputs": [
    {
     "data": {
      "text/html": [
       "<div>\n",
       "<style scoped>\n",
       "    .dataframe tbody tr th:only-of-type {\n",
       "        vertical-align: middle;\n",
       "    }\n",
       "\n",
       "    .dataframe tbody tr th {\n",
       "        vertical-align: top;\n",
       "    }\n",
       "\n",
       "    .dataframe thead th {\n",
       "        text-align: right;\n",
       "    }\n",
       "</style>\n",
       "<table border=\"1\" class=\"dataframe\">\n",
       "  <thead>\n",
       "    <tr style=\"text-align: right;\">\n",
       "      <th></th>\n",
       "      <th>PLN</th>\n",
       "    </tr>\n",
       "  </thead>\n",
       "  <tbody>\n",
       "    <tr>\n",
       "      <th>PLN</th>\n",
       "      <td>1.000000</td>\n",
       "    </tr>\n",
       "    <tr>\n",
       "      <th>RON</th>\n",
       "      <td>0.775698</td>\n",
       "    </tr>\n",
       "    <tr>\n",
       "      <th>CNY</th>\n",
       "      <td>-0.706881</td>\n",
       "    </tr>\n",
       "    <tr>\n",
       "      <th>Mediana prognoz wzrostu PKB Polski w 2020 r.</th>\n",
       "      <td>-0.820346</td>\n",
       "    </tr>\n",
       "    <tr>\n",
       "      <th>Exch rate</th>\n",
       "      <td>-0.940972</td>\n",
       "    </tr>\n",
       "    <tr>\n",
       "      <th>Produkt potencjalny (% r/r)</th>\n",
       "      <td>-0.727067</td>\n",
       "    </tr>\n",
       "  </tbody>\n",
       "</table>\n",
       "</div>"
      ],
      "text/plain": [
       "                                                   PLN\n",
       "PLN                                           1.000000\n",
       "RON                                           0.775698\n",
       "CNY                                          -0.706881\n",
       "Mediana prognoz wzrostu PKB Polski w 2020 r. -0.820346\n",
       "Exch rate                                    -0.940972\n",
       "Produkt potencjalny (% r/r)                  -0.727067"
      ]
     },
     "execution_count": 250,
     "metadata": {},
     "output_type": "execute_result"
    }
   ],
   "source": [
    "corr_data_to_print = pln_corr_matrix[((pln_corr_matrix['PLN'] > treshold) | (pln_corr_matrix['PLN'] < - treshold))][['PLN']]\n",
    "corr_data_to_print"
   ]
  },
  {
   "cell_type": "markdown",
   "metadata": {},
   "source": [
    "#### Columns with low correlation"
   ]
  },
  {
   "cell_type": "code",
   "execution_count": 18,
   "metadata": {},
   "outputs": [
    {
     "data": {
      "text/html": [
       "<div>\n",
       "<style scoped>\n",
       "    .dataframe tbody tr th:only-of-type {\n",
       "        vertical-align: middle;\n",
       "    }\n",
       "\n",
       "    .dataframe tbody tr th {\n",
       "        vertical-align: top;\n",
       "    }\n",
       "\n",
       "    .dataframe thead th {\n",
       "        text-align: right;\n",
       "    }\n",
       "</style>\n",
       "<table border=\"1\" class=\"dataframe\">\n",
       "  <thead>\n",
       "    <tr style=\"text-align: right;\">\n",
       "      <th></th>\n",
       "      <th>PLN</th>\n",
       "    </tr>\n",
       "  </thead>\n",
       "  <tbody>\n",
       "    <tr>\n",
       "      <th>USD</th>\n",
       "      <td>-0.062179</td>\n",
       "    </tr>\n",
       "    <tr>\n",
       "      <th>JPY</th>\n",
       "      <td>-0.215017</td>\n",
       "    </tr>\n",
       "    <tr>\n",
       "      <th>CZK</th>\n",
       "      <td>-0.013162</td>\n",
       "    </tr>\n",
       "    <tr>\n",
       "      <th>DKK</th>\n",
       "      <td>-0.189079</td>\n",
       "    </tr>\n",
       "    <tr>\n",
       "      <th>GBP</th>\n",
       "      <td>0.347323</td>\n",
       "    </tr>\n",
       "    <tr>\n",
       "      <th>HUF</th>\n",
       "      <td>0.518417</td>\n",
       "    </tr>\n",
       "    <tr>\n",
       "      <th>SEK</th>\n",
       "      <td>0.236645</td>\n",
       "    </tr>\n",
       "    <tr>\n",
       "      <th>CHF</th>\n",
       "      <td>-0.430022</td>\n",
       "    </tr>\n",
       "    <tr>\n",
       "      <th>NOK</th>\n",
       "      <td>0.455641</td>\n",
       "    </tr>\n",
       "    <tr>\n",
       "      <th>AUD</th>\n",
       "      <td>-0.113065</td>\n",
       "    </tr>\n",
       "    <tr>\n",
       "      <th>CAD</th>\n",
       "      <td>0.297191</td>\n",
       "    </tr>\n",
       "    <tr>\n",
       "      <th>HKD</th>\n",
       "      <td>-0.066366</td>\n",
       "    </tr>\n",
       "    <tr>\n",
       "      <th>KRW</th>\n",
       "      <td>0.172620</td>\n",
       "    </tr>\n",
       "    <tr>\n",
       "      <th>NZD</th>\n",
       "      <td>-0.311809</td>\n",
       "    </tr>\n",
       "    <tr>\n",
       "      <th>SGD</th>\n",
       "      <td>-0.185491</td>\n",
       "    </tr>\n",
       "    <tr>\n",
       "      <th>ZAR</th>\n",
       "      <td>0.343992</td>\n",
       "    </tr>\n",
       "  </tbody>\n",
       "</table>\n",
       "</div>"
      ],
      "text/plain": [
       "          PLN\n",
       "USD -0.062179\n",
       "JPY -0.215017\n",
       "CZK -0.013162\n",
       "DKK -0.189079\n",
       "GBP  0.347323\n",
       "HUF  0.518417\n",
       "SEK  0.236645\n",
       "CHF -0.430022\n",
       "NOK  0.455641\n",
       "AUD -0.113065\n",
       "CAD  0.297191\n",
       "HKD -0.066366\n",
       "KRW  0.172620\n",
       "NZD -0.311809\n",
       "SGD -0.185491\n",
       "ZAR  0.343992"
      ]
     },
     "execution_count": 18,
     "metadata": {},
     "output_type": "execute_result"
    }
   ],
   "source": [
    "corr_data_to_print = pln_corr_matrix[((pln_corr_matrix['PLN'] < treshold) & (pln_corr_matrix['PLN'] > - treshold))][['PLN']]\n",
    "corr_data_to_print"
   ]
  },
  {
   "cell_type": "code",
   "execution_count": 19,
   "metadata": {},
   "outputs": [
    {
     "data": {
      "text/plain": [
       "['USD',\n",
       " 'JPY',\n",
       " 'CZK',\n",
       " 'DKK',\n",
       " 'GBP',\n",
       " 'HUF',\n",
       " 'SEK',\n",
       " 'CHF',\n",
       " 'NOK',\n",
       " 'AUD',\n",
       " 'CAD',\n",
       " 'HKD',\n",
       " 'KRW',\n",
       " 'NZD',\n",
       " 'SGD',\n",
       " 'ZAR']"
      ]
     },
     "execution_count": 19,
     "metadata": {},
     "output_type": "execute_result"
    }
   ],
   "source": [
    "to_shift = [c for c in corr_data_to_print.index if len(c) == 3 and c != 'PLN' ]\n",
    "to_shift"
   ]
  },
  {
   "cell_type": "code",
   "execution_count": 20,
   "metadata": {},
   "outputs": [],
   "source": [
    "if len(to_shift) == 0:\n",
    "    to_shift = None"
   ]
  },
  {
   "cell_type": "code",
   "execution_count": 21,
   "metadata": {},
   "outputs": [],
   "source": [
    "df_pl = df_cut[['PLN']]\n"
   ]
  },
  {
   "cell_type": "code",
   "execution_count": 22,
   "metadata": {
    "scrolled": true
   },
   "outputs": [
    {
     "data": {
      "text/html": [
       "<div>\n",
       "<style scoped>\n",
       "    .dataframe tbody tr th:only-of-type {\n",
       "        vertical-align: middle;\n",
       "    }\n",
       "\n",
       "    .dataframe tbody tr th {\n",
       "        vertical-align: top;\n",
       "    }\n",
       "\n",
       "    .dataframe thead th {\n",
       "        text-align: right;\n",
       "    }\n",
       "</style>\n",
       "<table border=\"1\" class=\"dataframe\">\n",
       "  <thead>\n",
       "    <tr style=\"text-align: right;\">\n",
       "      <th></th>\n",
       "      <th>PLN</th>\n",
       "    </tr>\n",
       "    <tr>\n",
       "      <th>Date</th>\n",
       "      <th></th>\n",
       "    </tr>\n",
       "  </thead>\n",
       "  <tbody>\n",
       "    <tr>\n",
       "      <th>1999-01-04</th>\n",
       "      <td>4.0712</td>\n",
       "    </tr>\n",
       "    <tr>\n",
       "      <th>1999-01-05</th>\n",
       "      <td>4.0245</td>\n",
       "    </tr>\n",
       "    <tr>\n",
       "      <th>1999-01-06</th>\n",
       "      <td>4.0065</td>\n",
       "    </tr>\n",
       "    <tr>\n",
       "      <th>1999-01-07</th>\n",
       "      <td>4.0165</td>\n",
       "    </tr>\n",
       "    <tr>\n",
       "      <th>1999-01-08</th>\n",
       "      <td>4.0363</td>\n",
       "    </tr>\n",
       "  </tbody>\n",
       "</table>\n",
       "</div>"
      ],
      "text/plain": [
       "               PLN\n",
       "Date              \n",
       "1999-01-04  4.0712\n",
       "1999-01-05  4.0245\n",
       "1999-01-06  4.0065\n",
       "1999-01-07  4.0165\n",
       "1999-01-08  4.0363"
      ]
     },
     "execution_count": 22,
     "metadata": {},
     "output_type": "execute_result"
    }
   ],
   "source": [
    "df_pl.head()"
   ]
  },
  {
   "cell_type": "markdown",
   "metadata": {},
   "source": [
    "### Multiply the value by 10,000 to make the results easier to read."
   ]
  },
  {
   "cell_type": "code",
   "execution_count": 23,
   "metadata": {},
   "outputs": [],
   "source": [
    "df_pl['PLN'] = df_pl['PLN'].mul(10000)\n"
   ]
  },
  {
   "cell_type": "code",
   "execution_count": 24,
   "metadata": {},
   "outputs": [
    {
     "data": {
      "text/plain": [
       "(5701, 1)"
      ]
     },
     "execution_count": 24,
     "metadata": {},
     "output_type": "execute_result"
    }
   ],
   "source": [
    "df_pl.shape"
   ]
  },
  {
   "cell_type": "code",
   "execution_count": 194,
   "metadata": {},
   "outputs": [
    {
     "data": {
      "text/html": [
       "<div>\n",
       "<style scoped>\n",
       "    .dataframe tbody tr th:only-of-type {\n",
       "        vertical-align: middle;\n",
       "    }\n",
       "\n",
       "    .dataframe tbody tr th {\n",
       "        vertical-align: top;\n",
       "    }\n",
       "\n",
       "    .dataframe thead th {\n",
       "        text-align: right;\n",
       "    }\n",
       "</style>\n",
       "<table border=\"1\" class=\"dataframe\">\n",
       "  <thead>\n",
       "    <tr style=\"text-align: right;\">\n",
       "      <th></th>\n",
       "      <th>PLN</th>\n",
       "    </tr>\n",
       "    <tr>\n",
       "      <th>Date</th>\n",
       "      <th></th>\n",
       "    </tr>\n",
       "  </thead>\n",
       "  <tbody>\n",
       "    <tr>\n",
       "      <th>2020-11-03</th>\n",
       "      <td>45680.0</td>\n",
       "    </tr>\n",
       "    <tr>\n",
       "      <th>2020-11-04</th>\n",
       "      <td>45368.0</td>\n",
       "    </tr>\n",
       "    <tr>\n",
       "      <th>2020-11-05</th>\n",
       "      <td>45134.0</td>\n",
       "    </tr>\n",
       "    <tr>\n",
       "      <th>2020-11-06</th>\n",
       "      <td>45263.0</td>\n",
       "    </tr>\n",
       "    <tr>\n",
       "      <th>2020-11-09</th>\n",
       "      <td>44670.0</td>\n",
       "    </tr>\n",
       "  </tbody>\n",
       "</table>\n",
       "</div>"
      ],
      "text/plain": [
       "                PLN\n",
       "Date               \n",
       "2020-11-03  45680.0\n",
       "2020-11-04  45368.0\n",
       "2020-11-05  45134.0\n",
       "2020-11-06  45263.0\n",
       "2020-11-09  44670.0"
      ]
     },
     "execution_count": 194,
     "metadata": {},
     "output_type": "execute_result"
    }
   ],
   "source": [
    "df_pl.tail()"
   ]
  },
  {
   "cell_type": "code",
   "execution_count": 25,
   "metadata": {
    "scrolled": false
   },
   "outputs": [
    {
     "name": "stdout",
     "output_type": "stream",
     "text": [
      "B\n"
     ]
    }
   ],
   "source": [
    "df_pl.index= pd.to_datetime(df_pl.index)\n",
    "print(pd.infer_freq(df_pl.index))"
   ]
  },
  {
   "cell_type": "markdown",
   "metadata": {},
   "source": [
    "## Important note"
   ]
  },
  {
   "cell_type": "markdown",
   "metadata": {},
   "source": [
    "Due to the problems I encountered while training models with additional parameters and the fact that many columns lacked historical data from 1999, they only started from 2008 etc. In the end, I only used additional generated features because I wanted the models to learn for the longest possible time frame."
   ]
  },
  {
   "cell_type": "markdown",
   "metadata": {},
   "source": [
    "## Feature Engineering Transformer"
   ]
  },
  {
   "cell_type": "code",
   "execution_count": 26,
   "metadata": {},
   "outputs": [],
   "source": [
    "class FeatureEngineeringTransformer(BaseEstimator, TransformerMixin):\n",
    "    def __init__(self, lags = 8, to_shift = None):\n",
    "        self.lags = lags\n",
    "        self.to_shift = to_shift\n",
    "    def fit( self, X, y = None ):\n",
    "        return self\n",
    "    def transform( self, X, y = None ):\n",
    "        df_features = X.copy()\n",
    "        # seasonality\n",
    "        df_features['seasonality'] = seasonal_decompose(df_features['PLN']).seasonal\n",
    "        df_features['trend'] = seasonal_decompose(df_features['PLN']).trend\n",
    "        # 'Rolling statistics'\n",
    "        moving_window = list(range(2,8)).extend([14,30])\n",
    "        for i in range(2,8):\n",
    "            df_features[f'mov_avg_{i}'] = df_features['PLN'].rolling(window=i).mean()\n",
    "            df_features[f'mov_std_{i}'] = df_features['PLN'].rolling(window=i).std()\n",
    "\n",
    "        # 'Generate traffic_lag'\n",
    "        for i in range(2, self.lags+1):\n",
    "            df_features[f'PLN_lag_{i}'] = df_features['PLN'].shift(i)\n",
    "        if self.to_shift is not None:\n",
    "            for c in self.to_shift:\n",
    "                df_features[f'{c}_lag_1'] = df_features[c].shift(1)\n",
    "        \n",
    "        # 'Generate Data-related features', 'is_weekend'\n",
    "        df_features['date'] = pd.to_datetime(df_features.index)\n",
    "        #df_features['month'] = df_features['date'].dt.month\n",
    "        #df_features['month_day'] = df_features['date'].dt.day\n",
    "        #df_features['day_of_week'] = df_features['date'].dt.dayofweek # 0 - Monday; 6 - Sunday\n",
    "        # drop missing values and unnecessary columns\n",
    "        df_features = df_features.dropna()\n",
    "        df_features = df_features.drop('date', axis=1)\n",
    "        if self.to_shift is not None:\n",
    "            df_features = df_features.drop(self.to_shift, axis=1)\n",
    "        return df_features"
   ]
  },
  {
   "cell_type": "code",
   "execution_count": 27,
   "metadata": {},
   "outputs": [
    {
     "name": "stdout",
     "output_type": "stream",
     "text": [
      "B\n"
     ]
    }
   ],
   "source": [
    "df_pl1 = df_pl.copy()\n",
    "print(pd.infer_freq(df_pl1.index))"
   ]
  },
  {
   "cell_type": "code",
   "execution_count": 28,
   "metadata": {},
   "outputs": [],
   "source": [
    "my_features = FeatureEngineeringTransformer(lags=14,to_shift=None)\n",
    "df_pl2 = my_features.fit_transform(df_pl1)"
   ]
  },
  {
   "cell_type": "code",
   "execution_count": 193,
   "metadata": {},
   "outputs": [
    {
     "data": {
      "text/html": [
       "<div>\n",
       "<style scoped>\n",
       "    .dataframe tbody tr th:only-of-type {\n",
       "        vertical-align: middle;\n",
       "    }\n",
       "\n",
       "    .dataframe tbody tr th {\n",
       "        vertical-align: top;\n",
       "    }\n",
       "\n",
       "    .dataframe thead th {\n",
       "        text-align: right;\n",
       "    }\n",
       "</style>\n",
       "<table border=\"1\" class=\"dataframe\">\n",
       "  <thead>\n",
       "    <tr style=\"text-align: right;\">\n",
       "      <th></th>\n",
       "      <th>PLN</th>\n",
       "      <th>seasonality</th>\n",
       "      <th>trend</th>\n",
       "      <th>mov_avg_2</th>\n",
       "      <th>mov_std_2</th>\n",
       "      <th>mov_avg_3</th>\n",
       "      <th>mov_std_3</th>\n",
       "      <th>mov_avg_4</th>\n",
       "      <th>mov_std_4</th>\n",
       "      <th>mov_avg_5</th>\n",
       "      <th>...</th>\n",
       "      <th>PLN_lag_5</th>\n",
       "      <th>PLN_lag_6</th>\n",
       "      <th>PLN_lag_7</th>\n",
       "      <th>PLN_lag_8</th>\n",
       "      <th>PLN_lag_9</th>\n",
       "      <th>PLN_lag_10</th>\n",
       "      <th>PLN_lag_11</th>\n",
       "      <th>PLN_lag_12</th>\n",
       "      <th>PLN_lag_13</th>\n",
       "      <th>PLN_lag_14</th>\n",
       "    </tr>\n",
       "    <tr>\n",
       "      <th>Date</th>\n",
       "      <th></th>\n",
       "      <th></th>\n",
       "      <th></th>\n",
       "      <th></th>\n",
       "      <th></th>\n",
       "      <th></th>\n",
       "      <th></th>\n",
       "      <th></th>\n",
       "      <th></th>\n",
       "      <th></th>\n",
       "      <th></th>\n",
       "      <th></th>\n",
       "      <th></th>\n",
       "      <th></th>\n",
       "      <th></th>\n",
       "      <th></th>\n",
       "      <th></th>\n",
       "      <th></th>\n",
       "      <th></th>\n",
       "      <th></th>\n",
       "      <th></th>\n",
       "    </tr>\n",
       "  </thead>\n",
       "  <tbody>\n",
       "    <tr>\n",
       "      <th>2020-10-30</th>\n",
       "      <td>46222.0</td>\n",
       "      <td>13.123838</td>\n",
       "      <td>46069.4</td>\n",
       "      <td>46223.5</td>\n",
       "      <td>2.121321</td>\n",
       "      <td>46216.333333</td>\n",
       "      <td>12.503333</td>\n",
       "      <td>46122.75</td>\n",
       "      <td>187.444881</td>\n",
       "      <td>46058.0</td>\n",
       "      <td>...</td>\n",
       "      <td>45823.0</td>\n",
       "      <td>45783.0</td>\n",
       "      <td>45740.0</td>\n",
       "      <td>45809.0</td>\n",
       "      <td>45723.0</td>\n",
       "      <td>45558.0</td>\n",
       "      <td>45518.0</td>\n",
       "      <td>45073.0</td>\n",
       "      <td>44851.0</td>\n",
       "      <td>44810.0</td>\n",
       "    </tr>\n",
       "    <tr>\n",
       "      <th>2020-11-02</th>\n",
       "      <td>46018.0</td>\n",
       "      <td>-10.321816</td>\n",
       "      <td>45902.6</td>\n",
       "      <td>46120.0</td>\n",
       "      <td>144.249783</td>\n",
       "      <td>46155.000000</td>\n",
       "      <td>118.654962</td>\n",
       "      <td>46166.75</td>\n",
       "      <td>99.690772</td>\n",
       "      <td>46101.8</td>\n",
       "      <td>...</td>\n",
       "      <td>45799.0</td>\n",
       "      <td>45823.0</td>\n",
       "      <td>45783.0</td>\n",
       "      <td>45740.0</td>\n",
       "      <td>45809.0</td>\n",
       "      <td>45723.0</td>\n",
       "      <td>45558.0</td>\n",
       "      <td>45518.0</td>\n",
       "      <td>45073.0</td>\n",
       "      <td>44851.0</td>\n",
       "    </tr>\n",
       "    <tr>\n",
       "      <th>2020-11-03</th>\n",
       "      <td>45680.0</td>\n",
       "      <td>-8.693897</td>\n",
       "      <td>45684.4</td>\n",
       "      <td>45849.0</td>\n",
       "      <td>239.002092</td>\n",
       "      <td>45973.333333</td>\n",
       "      <td>273.746842</td>\n",
       "      <td>46036.25</td>\n",
       "      <td>256.500000</td>\n",
       "      <td>46069.4</td>\n",
       "      <td>...</td>\n",
       "      <td>45842.0</td>\n",
       "      <td>45799.0</td>\n",
       "      <td>45823.0</td>\n",
       "      <td>45783.0</td>\n",
       "      <td>45740.0</td>\n",
       "      <td>45809.0</td>\n",
       "      <td>45723.0</td>\n",
       "      <td>45558.0</td>\n",
       "      <td>45518.0</td>\n",
       "      <td>45073.0</td>\n",
       "    </tr>\n",
       "    <tr>\n",
       "      <th>2020-11-04</th>\n",
       "      <td>45368.0</td>\n",
       "      <td>-1.295905</td>\n",
       "      <td>45492.6</td>\n",
       "      <td>45524.0</td>\n",
       "      <td>220.617316</td>\n",
       "      <td>45688.666667</td>\n",
       "      <td>325.086655</td>\n",
       "      <td>45822.00</td>\n",
       "      <td>376.251689</td>\n",
       "      <td>45902.6</td>\n",
       "      <td>...</td>\n",
       "      <td>46202.0</td>\n",
       "      <td>45842.0</td>\n",
       "      <td>45799.0</td>\n",
       "      <td>45823.0</td>\n",
       "      <td>45783.0</td>\n",
       "      <td>45740.0</td>\n",
       "      <td>45809.0</td>\n",
       "      <td>45723.0</td>\n",
       "      <td>45558.0</td>\n",
       "      <td>45518.0</td>\n",
       "    </tr>\n",
       "    <tr>\n",
       "      <th>2020-11-05</th>\n",
       "      <td>45134.0</td>\n",
       "      <td>7.187780</td>\n",
       "      <td>45223.0</td>\n",
       "      <td>45251.0</td>\n",
       "      <td>165.462987</td>\n",
       "      <td>45394.000000</td>\n",
       "      <td>273.926998</td>\n",
       "      <td>45550.00</td>\n",
       "      <td>383.885400</td>\n",
       "      <td>45684.4</td>\n",
       "      <td>...</td>\n",
       "      <td>46225.0</td>\n",
       "      <td>46202.0</td>\n",
       "      <td>45842.0</td>\n",
       "      <td>45799.0</td>\n",
       "      <td>45823.0</td>\n",
       "      <td>45783.0</td>\n",
       "      <td>45740.0</td>\n",
       "      <td>45809.0</td>\n",
       "      <td>45723.0</td>\n",
       "      <td>45558.0</td>\n",
       "    </tr>\n",
       "  </tbody>\n",
       "</table>\n",
       "<p>5 rows × 28 columns</p>\n",
       "</div>"
      ],
      "text/plain": [
       "                PLN  seasonality    trend  mov_avg_2   mov_std_2  \\\n",
       "Date                                                               \n",
       "2020-10-30  46222.0    13.123838  46069.4    46223.5    2.121321   \n",
       "2020-11-02  46018.0   -10.321816  45902.6    46120.0  144.249783   \n",
       "2020-11-03  45680.0    -8.693897  45684.4    45849.0  239.002092   \n",
       "2020-11-04  45368.0    -1.295905  45492.6    45524.0  220.617316   \n",
       "2020-11-05  45134.0     7.187780  45223.0    45251.0  165.462987   \n",
       "\n",
       "               mov_avg_3   mov_std_3  mov_avg_4   mov_std_4  mov_avg_5  ...  \\\n",
       "Date                                                                    ...   \n",
       "2020-10-30  46216.333333   12.503333   46122.75  187.444881    46058.0  ...   \n",
       "2020-11-02  46155.000000  118.654962   46166.75   99.690772    46101.8  ...   \n",
       "2020-11-03  45973.333333  273.746842   46036.25  256.500000    46069.4  ...   \n",
       "2020-11-04  45688.666667  325.086655   45822.00  376.251689    45902.6  ...   \n",
       "2020-11-05  45394.000000  273.926998   45550.00  383.885400    45684.4  ...   \n",
       "\n",
       "            PLN_lag_5  PLN_lag_6  PLN_lag_7  PLN_lag_8  PLN_lag_9  PLN_lag_10  \\\n",
       "Date                                                                            \n",
       "2020-10-30    45823.0    45783.0    45740.0    45809.0    45723.0     45558.0   \n",
       "2020-11-02    45799.0    45823.0    45783.0    45740.0    45809.0     45723.0   \n",
       "2020-11-03    45842.0    45799.0    45823.0    45783.0    45740.0     45809.0   \n",
       "2020-11-04    46202.0    45842.0    45799.0    45823.0    45783.0     45740.0   \n",
       "2020-11-05    46225.0    46202.0    45842.0    45799.0    45823.0     45783.0   \n",
       "\n",
       "            PLN_lag_11  PLN_lag_12  PLN_lag_13  PLN_lag_14  \n",
       "Date                                                        \n",
       "2020-10-30     45518.0     45073.0     44851.0     44810.0  \n",
       "2020-11-02     45558.0     45518.0     45073.0     44851.0  \n",
       "2020-11-03     45723.0     45558.0     45518.0     45073.0  \n",
       "2020-11-04     45809.0     45723.0     45558.0     45518.0  \n",
       "2020-11-05     45740.0     45809.0     45723.0     45558.0  \n",
       "\n",
       "[5 rows x 28 columns]"
      ]
     },
     "execution_count": 193,
     "metadata": {},
     "output_type": "execute_result"
    }
   ],
   "source": [
    "df_pl2.tail()"
   ]
  },
  {
   "cell_type": "code",
   "execution_count": 30,
   "metadata": {},
   "outputs": [
    {
     "data": {
      "text/plain": [
       "PLN            0\n",
       "seasonality    0\n",
       "trend          0\n",
       "mov_avg_2      0\n",
       "mov_std_2      0\n",
       "mov_avg_3      0\n",
       "mov_std_3      0\n",
       "mov_avg_4      0\n",
       "mov_std_4      0\n",
       "mov_avg_5      0\n",
       "mov_std_5      0\n",
       "mov_avg_6      0\n",
       "mov_std_6      0\n",
       "mov_avg_7      0\n",
       "mov_std_7      0\n",
       "PLN_lag_2      0\n",
       "PLN_lag_3      0\n",
       "PLN_lag_4      0\n",
       "PLN_lag_5      0\n",
       "PLN_lag_6      0\n",
       "PLN_lag_7      0\n",
       "PLN_lag_8      0\n",
       "PLN_lag_9      0\n",
       "PLN_lag_10     0\n",
       "PLN_lag_11     0\n",
       "PLN_lag_12     0\n",
       "PLN_lag_13     0\n",
       "PLN_lag_14     0\n",
       "dtype: int64"
      ]
     },
     "execution_count": 30,
     "metadata": {},
     "output_type": "execute_result"
    }
   ],
   "source": [
    "df_pl2.isna().sum()"
   ]
  },
  {
   "cell_type": "markdown",
   "metadata": {},
   "source": [
    "### Assinge y and X"
   ]
  },
  {
   "cell_type": "code",
   "execution_count": 31,
   "metadata": {},
   "outputs": [],
   "source": [
    "X = df_pl2.drop('PLN',axis=1)\n",
    "y = df_pl2[['PLN']]"
   ]
  },
  {
   "cell_type": "code",
   "execution_count": 32,
   "metadata": {},
   "outputs": [
    {
     "data": {
      "text/plain": [
       "(5685, 27)"
      ]
     },
     "execution_count": 32,
     "metadata": {},
     "output_type": "execute_result"
    }
   ],
   "source": [
    "X.shape"
   ]
  },
  {
   "cell_type": "markdown",
   "metadata": {},
   "source": [
    "### Spliting data"
   ]
  },
  {
   "cell_type": "code",
   "execution_count": 33,
   "metadata": {},
   "outputs": [],
   "source": [
    "X_train, X_test, y_train, y_test = train_test_split(X, y, test_size=0.20, shuffle = False)\n",
    "tss_cv = TimeSeriesSplit(n_splits = 5)"
   ]
  },
  {
   "cell_type": "code",
   "execution_count": 34,
   "metadata": {},
   "outputs": [
    {
     "data": {
      "text/plain": [
       "((4548, 27), (1137, 27))"
      ]
     },
     "execution_count": 34,
     "metadata": {},
     "output_type": "execute_result"
    }
   ],
   "source": [
    "X_train.shape, X_test.shape"
   ]
  },
  {
   "cell_type": "code",
   "execution_count": 35,
   "metadata": {},
   "outputs": [
    {
     "data": {
      "text/html": [
       "<div>\n",
       "<style scoped>\n",
       "    .dataframe tbody tr th:only-of-type {\n",
       "        vertical-align: middle;\n",
       "    }\n",
       "\n",
       "    .dataframe tbody tr th {\n",
       "        vertical-align: top;\n",
       "    }\n",
       "\n",
       "    .dataframe thead th {\n",
       "        text-align: right;\n",
       "    }\n",
       "</style>\n",
       "<table border=\"1\" class=\"dataframe\">\n",
       "  <thead>\n",
       "    <tr style=\"text-align: right;\">\n",
       "      <th></th>\n",
       "      <th>seasonality</th>\n",
       "      <th>trend</th>\n",
       "      <th>mov_avg_2</th>\n",
       "      <th>mov_std_2</th>\n",
       "      <th>mov_avg_3</th>\n",
       "      <th>mov_std_3</th>\n",
       "      <th>mov_avg_4</th>\n",
       "      <th>mov_std_4</th>\n",
       "      <th>mov_avg_5</th>\n",
       "      <th>mov_std_5</th>\n",
       "      <th>...</th>\n",
       "      <th>PLN_lag_5</th>\n",
       "      <th>PLN_lag_6</th>\n",
       "      <th>PLN_lag_7</th>\n",
       "      <th>PLN_lag_8</th>\n",
       "      <th>PLN_lag_9</th>\n",
       "      <th>PLN_lag_10</th>\n",
       "      <th>PLN_lag_11</th>\n",
       "      <th>PLN_lag_12</th>\n",
       "      <th>PLN_lag_13</th>\n",
       "      <th>PLN_lag_14</th>\n",
       "    </tr>\n",
       "    <tr>\n",
       "      <th>Date</th>\n",
       "      <th></th>\n",
       "      <th></th>\n",
       "      <th></th>\n",
       "      <th></th>\n",
       "      <th></th>\n",
       "      <th></th>\n",
       "      <th></th>\n",
       "      <th></th>\n",
       "      <th></th>\n",
       "      <th></th>\n",
       "      <th></th>\n",
       "      <th></th>\n",
       "      <th></th>\n",
       "      <th></th>\n",
       "      <th></th>\n",
       "      <th></th>\n",
       "      <th></th>\n",
       "      <th></th>\n",
       "      <th></th>\n",
       "      <th></th>\n",
       "      <th></th>\n",
       "    </tr>\n",
       "  </thead>\n",
       "  <tbody>\n",
       "    <tr>\n",
       "      <th>1999-01-22</th>\n",
       "      <td>13.123838</td>\n",
       "      <td>41431.0</td>\n",
       "      <td>41432.0</td>\n",
       "      <td>219.203102</td>\n",
       "      <td>41237.000000</td>\n",
       "      <td>371.618084</td>\n",
       "      <td>41171.00</td>\n",
       "      <td>330.893739</td>\n",
       "      <td>41070.2</td>\n",
       "      <td>364.583598</td>\n",
       "      <td>...</td>\n",
       "      <td>42000.0</td>\n",
       "      <td>41335.0</td>\n",
       "      <td>42033.0</td>\n",
       "      <td>40330.0</td>\n",
       "      <td>40320.0</td>\n",
       "      <td>40363.0</td>\n",
       "      <td>40165.0</td>\n",
       "      <td>40065.0</td>\n",
       "      <td>40245.0</td>\n",
       "      <td>40712.0</td>\n",
       "    </tr>\n",
       "    <tr>\n",
       "      <th>1999-01-25</th>\n",
       "      <td>-10.321816</td>\n",
       "      <td>41579.2</td>\n",
       "      <td>41597.0</td>\n",
       "      <td>14.142136</td>\n",
       "      <td>41490.333333</td>\n",
       "      <td>185.022521</td>\n",
       "      <td>41329.50</td>\n",
       "      <td>355.375388</td>\n",
       "      <td>41258.2</td>\n",
       "      <td>346.608136</td>\n",
       "      <td>...</td>\n",
       "      <td>40667.0</td>\n",
       "      <td>42000.0</td>\n",
       "      <td>41335.0</td>\n",
       "      <td>42033.0</td>\n",
       "      <td>40330.0</td>\n",
       "      <td>40320.0</td>\n",
       "      <td>40363.0</td>\n",
       "      <td>40165.0</td>\n",
       "      <td>40065.0</td>\n",
       "      <td>40245.0</td>\n",
       "    </tr>\n",
       "    <tr>\n",
       "      <th>1999-01-26</th>\n",
       "      <td>-8.693897</td>\n",
       "      <td>41600.0</td>\n",
       "      <td>41722.0</td>\n",
       "      <td>162.634560</td>\n",
       "      <td>41677.000000</td>\n",
       "      <td>138.924440</td>\n",
       "      <td>41577.00</td>\n",
       "      <td>229.927525</td>\n",
       "      <td>41431.0</td>\n",
       "      <td>382.400314</td>\n",
       "      <td>...</td>\n",
       "      <td>40973.0</td>\n",
       "      <td>40667.0</td>\n",
       "      <td>42000.0</td>\n",
       "      <td>41335.0</td>\n",
       "      <td>42033.0</td>\n",
       "      <td>40330.0</td>\n",
       "      <td>40320.0</td>\n",
       "      <td>40363.0</td>\n",
       "      <td>40165.0</td>\n",
       "      <td>40065.0</td>\n",
       "    </tr>\n",
       "    <tr>\n",
       "      <th>1999-01-27</th>\n",
       "      <td>-1.295905</td>\n",
       "      <td>41604.6</td>\n",
       "      <td>41712.5</td>\n",
       "      <td>176.069589</td>\n",
       "      <td>41677.333333</td>\n",
       "      <td>138.601347</td>\n",
       "      <td>41654.75</td>\n",
       "      <td>121.847924</td>\n",
       "      <td>41579.2</td>\n",
       "      <td>199.183835</td>\n",
       "      <td>...</td>\n",
       "      <td>40847.0</td>\n",
       "      <td>40973.0</td>\n",
       "      <td>40667.0</td>\n",
       "      <td>42000.0</td>\n",
       "      <td>41335.0</td>\n",
       "      <td>42033.0</td>\n",
       "      <td>40330.0</td>\n",
       "      <td>40320.0</td>\n",
       "      <td>40363.0</td>\n",
       "      <td>40165.0</td>\n",
       "    </tr>\n",
       "    <tr>\n",
       "      <th>1999-01-28</th>\n",
       "      <td>7.187780</td>\n",
       "      <td>41755.2</td>\n",
       "      <td>41484.5</td>\n",
       "      <td>146.371104</td>\n",
       "      <td>41602.000000</td>\n",
       "      <td>228.322141</td>\n",
       "      <td>41603.25</td>\n",
       "      <td>186.441009</td>\n",
       "      <td>41600.0</td>\n",
       "      <td>161.626112</td>\n",
       "      <td>...</td>\n",
       "      <td>41277.0</td>\n",
       "      <td>40847.0</td>\n",
       "      <td>40973.0</td>\n",
       "      <td>40667.0</td>\n",
       "      <td>42000.0</td>\n",
       "      <td>41335.0</td>\n",
       "      <td>42033.0</td>\n",
       "      <td>40330.0</td>\n",
       "      <td>40320.0</td>\n",
       "      <td>40363.0</td>\n",
       "    </tr>\n",
       "    <tr>\n",
       "      <th>...</th>\n",
       "      <td>...</td>\n",
       "      <td>...</td>\n",
       "      <td>...</td>\n",
       "      <td>...</td>\n",
       "      <td>...</td>\n",
       "      <td>...</td>\n",
       "      <td>...</td>\n",
       "      <td>...</td>\n",
       "      <td>...</td>\n",
       "      <td>...</td>\n",
       "      <td>...</td>\n",
       "      <td>...</td>\n",
       "      <td>...</td>\n",
       "      <td>...</td>\n",
       "      <td>...</td>\n",
       "      <td>...</td>\n",
       "      <td>...</td>\n",
       "      <td>...</td>\n",
       "      <td>...</td>\n",
       "      <td>...</td>\n",
       "      <td>...</td>\n",
       "    </tr>\n",
       "    <tr>\n",
       "      <th>2016-06-22</th>\n",
       "      <td>-1.295905</td>\n",
       "      <td>43964.4</td>\n",
       "      <td>43888.0</td>\n",
       "      <td>145.663997</td>\n",
       "      <td>43900.333333</td>\n",
       "      <td>105.191888</td>\n",
       "      <td>44041.00</td>\n",
       "      <td>294.151888</td>\n",
       "      <td>44130.8</td>\n",
       "      <td>324.367384</td>\n",
       "      <td>...</td>\n",
       "      <td>44119.0</td>\n",
       "      <td>44332.0</td>\n",
       "      <td>43884.0</td>\n",
       "      <td>43591.0</td>\n",
       "      <td>43321.0</td>\n",
       "      <td>43228.0</td>\n",
       "      <td>43486.0</td>\n",
       "      <td>43776.0</td>\n",
       "      <td>43861.0</td>\n",
       "      <td>43903.0</td>\n",
       "    </tr>\n",
       "    <tr>\n",
       "      <th>2016-06-23</th>\n",
       "      <td>7.187780</td>\n",
       "      <td>44103.2</td>\n",
       "      <td>43678.0</td>\n",
       "      <td>151.320851</td>\n",
       "      <td>43782.333333</td>\n",
       "      <td>210.012698</td>\n",
       "      <td>43818.00</td>\n",
       "      <td>185.720220</td>\n",
       "      <td>43947.0</td>\n",
       "      <td>330.263531</td>\n",
       "      <td>...</td>\n",
       "      <td>44490.0</td>\n",
       "      <td>44119.0</td>\n",
       "      <td>44332.0</td>\n",
       "      <td>43884.0</td>\n",
       "      <td>43591.0</td>\n",
       "      <td>43321.0</td>\n",
       "      <td>43228.0</td>\n",
       "      <td>43486.0</td>\n",
       "      <td>43776.0</td>\n",
       "      <td>43861.0</td>\n",
       "    </tr>\n",
       "    <tr>\n",
       "      <th>2016-06-24</th>\n",
       "      <td>13.123838</td>\n",
       "      <td>44187.6</td>\n",
       "      <td>44060.5</td>\n",
       "      <td>692.257539</td>\n",
       "      <td>43968.666667</td>\n",
       "      <td>514.694408</td>\n",
       "      <td>43974.25</td>\n",
       "      <td>420.394557</td>\n",
       "      <td>43964.4</td>\n",
       "      <td>364.737988</td>\n",
       "      <td>...</td>\n",
       "      <td>44463.0</td>\n",
       "      <td>44490.0</td>\n",
       "      <td>44119.0</td>\n",
       "      <td>44332.0</td>\n",
       "      <td>43884.0</td>\n",
       "      <td>43591.0</td>\n",
       "      <td>43321.0</td>\n",
       "      <td>43228.0</td>\n",
       "      <td>43486.0</td>\n",
       "      <td>43776.0</td>\n",
       "    </tr>\n",
       "    <tr>\n",
       "      <th>2016-06-27</th>\n",
       "      <td>-10.321816</td>\n",
       "      <td>44282.8</td>\n",
       "      <td>44584.5</td>\n",
       "      <td>48.790368</td>\n",
       "      <td>44246.666667</td>\n",
       "      <td>586.160672</td>\n",
       "      <td>44131.25</td>\n",
       "      <td>531.356989</td>\n",
       "      <td>44103.2</td>\n",
       "      <td>464.423514</td>\n",
       "      <td>...</td>\n",
       "      <td>43925.0</td>\n",
       "      <td>44463.0</td>\n",
       "      <td>44490.0</td>\n",
       "      <td>44119.0</td>\n",
       "      <td>44332.0</td>\n",
       "      <td>43884.0</td>\n",
       "      <td>43591.0</td>\n",
       "      <td>43321.0</td>\n",
       "      <td>43228.0</td>\n",
       "      <td>43486.0</td>\n",
       "    </tr>\n",
       "    <tr>\n",
       "      <th>2016-06-28</th>\n",
       "      <td>-8.693897</td>\n",
       "      <td>44441.0</td>\n",
       "      <td>44516.0</td>\n",
       "      <td>145.663997</td>\n",
       "      <td>44527.333333</td>\n",
       "      <td>104.853867</td>\n",
       "      <td>44288.25</td>\n",
       "      <td>485.770436</td>\n",
       "      <td>44187.6</td>\n",
       "      <td>477.107745</td>\n",
       "      <td>...</td>\n",
       "      <td>43991.0</td>\n",
       "      <td>43925.0</td>\n",
       "      <td>44463.0</td>\n",
       "      <td>44490.0</td>\n",
       "      <td>44119.0</td>\n",
       "      <td>44332.0</td>\n",
       "      <td>43884.0</td>\n",
       "      <td>43591.0</td>\n",
       "      <td>43321.0</td>\n",
       "      <td>43228.0</td>\n",
       "    </tr>\n",
       "  </tbody>\n",
       "</table>\n",
       "<p>4548 rows × 27 columns</p>\n",
       "</div>"
      ],
      "text/plain": [
       "            seasonality    trend  mov_avg_2   mov_std_2     mov_avg_3  \\\n",
       "Date                                                                    \n",
       "1999-01-22    13.123838  41431.0    41432.0  219.203102  41237.000000   \n",
       "1999-01-25   -10.321816  41579.2    41597.0   14.142136  41490.333333   \n",
       "1999-01-26    -8.693897  41600.0    41722.0  162.634560  41677.000000   \n",
       "1999-01-27    -1.295905  41604.6    41712.5  176.069589  41677.333333   \n",
       "1999-01-28     7.187780  41755.2    41484.5  146.371104  41602.000000   \n",
       "...                 ...      ...        ...         ...           ...   \n",
       "2016-06-22    -1.295905  43964.4    43888.0  145.663997  43900.333333   \n",
       "2016-06-23     7.187780  44103.2    43678.0  151.320851  43782.333333   \n",
       "2016-06-24    13.123838  44187.6    44060.5  692.257539  43968.666667   \n",
       "2016-06-27   -10.321816  44282.8    44584.5   48.790368  44246.666667   \n",
       "2016-06-28    -8.693897  44441.0    44516.0  145.663997  44527.333333   \n",
       "\n",
       "             mov_std_3  mov_avg_4   mov_std_4  mov_avg_5   mov_std_5  ...  \\\n",
       "Date                                                                  ...   \n",
       "1999-01-22  371.618084   41171.00  330.893739    41070.2  364.583598  ...   \n",
       "1999-01-25  185.022521   41329.50  355.375388    41258.2  346.608136  ...   \n",
       "1999-01-26  138.924440   41577.00  229.927525    41431.0  382.400314  ...   \n",
       "1999-01-27  138.601347   41654.75  121.847924    41579.2  199.183835  ...   \n",
       "1999-01-28  228.322141   41603.25  186.441009    41600.0  161.626112  ...   \n",
       "...                ...        ...         ...        ...         ...  ...   \n",
       "2016-06-22  105.191888   44041.00  294.151888    44130.8  324.367384  ...   \n",
       "2016-06-23  210.012698   43818.00  185.720220    43947.0  330.263531  ...   \n",
       "2016-06-24  514.694408   43974.25  420.394557    43964.4  364.737988  ...   \n",
       "2016-06-27  586.160672   44131.25  531.356989    44103.2  464.423514  ...   \n",
       "2016-06-28  104.853867   44288.25  485.770436    44187.6  477.107745  ...   \n",
       "\n",
       "            PLN_lag_5  PLN_lag_6  PLN_lag_7  PLN_lag_8  PLN_lag_9  PLN_lag_10  \\\n",
       "Date                                                                            \n",
       "1999-01-22    42000.0    41335.0    42033.0    40330.0    40320.0     40363.0   \n",
       "1999-01-25    40667.0    42000.0    41335.0    42033.0    40330.0     40320.0   \n",
       "1999-01-26    40973.0    40667.0    42000.0    41335.0    42033.0     40330.0   \n",
       "1999-01-27    40847.0    40973.0    40667.0    42000.0    41335.0     42033.0   \n",
       "1999-01-28    41277.0    40847.0    40973.0    40667.0    42000.0     41335.0   \n",
       "...               ...        ...        ...        ...        ...         ...   \n",
       "2016-06-22    44119.0    44332.0    43884.0    43591.0    43321.0     43228.0   \n",
       "2016-06-23    44490.0    44119.0    44332.0    43884.0    43591.0     43321.0   \n",
       "2016-06-24    44463.0    44490.0    44119.0    44332.0    43884.0     43591.0   \n",
       "2016-06-27    43925.0    44463.0    44490.0    44119.0    44332.0     43884.0   \n",
       "2016-06-28    43991.0    43925.0    44463.0    44490.0    44119.0     44332.0   \n",
       "\n",
       "            PLN_lag_11  PLN_lag_12  PLN_lag_13  PLN_lag_14  \n",
       "Date                                                        \n",
       "1999-01-22     40165.0     40065.0     40245.0     40712.0  \n",
       "1999-01-25     40363.0     40165.0     40065.0     40245.0  \n",
       "1999-01-26     40320.0     40363.0     40165.0     40065.0  \n",
       "1999-01-27     40330.0     40320.0     40363.0     40165.0  \n",
       "1999-01-28     42033.0     40330.0     40320.0     40363.0  \n",
       "...                ...         ...         ...         ...  \n",
       "2016-06-22     43486.0     43776.0     43861.0     43903.0  \n",
       "2016-06-23     43228.0     43486.0     43776.0     43861.0  \n",
       "2016-06-24     43321.0     43228.0     43486.0     43776.0  \n",
       "2016-06-27     43591.0     43321.0     43228.0     43486.0  \n",
       "2016-06-28     43884.0     43591.0     43321.0     43228.0  \n",
       "\n",
       "[4548 rows x 27 columns]"
      ]
     },
     "execution_count": 35,
     "metadata": {},
     "output_type": "execute_result"
    }
   ],
   "source": [
    "X_train"
   ]
  },
  {
   "cell_type": "code",
   "execution_count": 36,
   "metadata": {
    "scrolled": false
   },
   "outputs": [
    {
     "data": {
      "text/plain": [
       "((4548, 1), (1137, 1))"
      ]
     },
     "execution_count": 36,
     "metadata": {},
     "output_type": "execute_result"
    }
   ],
   "source": [
    "y_train.shape, y_test.shape"
   ]
  },
  {
   "cell_type": "markdown",
   "metadata": {},
   "source": [
    "#### def Combine plots"
   ]
  },
  {
   "cell_type": "code",
   "execution_count": null,
   "metadata": {},
   "outputs": [],
   "source": [
    "def combine_plots(train, test, predict = None, index = None, zoom_start = None,zoom_end = None, Title = ''):\n",
    "    def get_cmap(n, name='hsv'):\n",
    "        return plt.cm.get_cmap(name, n)\n",
    "    cmap = get_cmap(20)\n",
    "    temp_df = pd.DataFrame(index = index)\n",
    "    temp_df['test'] = test\n",
    "    temp_df['train'] = train\n",
    "    \n",
    "    temp_df[zoom_start:zoom_end].train.plot(figsize= (20,8), color = cmap(1), legend = 'Train')\n",
    "    temp_df[zoom_start:zoom_end].test.plot(color = cmap(8), alpha = 0.5, legend = 'Test')\n",
    "    if predict is not None:\n",
    "        cmap = get_cmap(len(predict)+1)\n",
    "        for i,c in enumerate(predict, start=1):\n",
    "            temp_df_pred = pd.DataFrame(c,index =test.index )\n",
    "            temp_df[f'predict_{i}'] = temp_df_pred\n",
    "            temp_df.loc[zoom_start:zoom_end,f'predict_{i}'].plot( alpha = 0.8, legend = 'Predict')#color = cmap(5*i+5),\n",
    "    plt.ylabel('pln')\n",
    "    plt.title(f'EUR/PLN Train and Test Data {Title}', size = 20)\n",
    "    plt.show()"
   ]
  },
  {
   "cell_type": "code",
   "execution_count": 141,
   "metadata": {},
   "outputs": [
    {
     "data": {
      "image/png": "[encoded data removed]",
      "text/plain": [
       "<Figure size 1440x576 with 1 Axes>"
      ]
     },
     "metadata": {
      "needs_background": "light"
     },
     "output_type": "display_data"
    }
   ],
   "source": [
    "combine_plots(y_train.PLN,y_test.PLN,index = df_pl2.index)"
   ]
  },
  {
   "cell_type": "markdown",
   "metadata": {},
   "source": [
    "### Set n_job = THREAD"
   ]
  },
  {
   "cell_type": "code",
   "execution_count": 39,
   "metadata": {},
   "outputs": [],
   "source": [
    "THREADS = 10\n",
    "VERBOSE = 1"
   ]
  },
  {
   "cell_type": "markdown",
   "metadata": {},
   "source": [
    "## Models"
   ]
  },
  {
   "cell_type": "markdown",
   "metadata": {},
   "source": [
    "#### Save model function"
   ]
  },
  {
   "cell_type": "code",
   "execution_count": 134,
   "metadata": {},
   "outputs": [],
   "source": [
    "def save_model(model, filename = None):\n",
    "    t = datetime.now()\n",
    "    time = t.strftime(\"%Y_%m_%d_%H_%M_%S\")\n",
    "    if filename is None:\n",
    "        filename = f'Models/Features/{model.best_estimator_.steps[-1][0]}_{time}.pkl'\n",
    "    else:\n",
    "        filename = f'Models/Features/{filename}_{time}.pkl'\n",
    "    outfile = open(filename,'wb')\n",
    "    pickle.dump(model,outfile)\n",
    "    outfile.close()\n",
    "    "
   ]
  },
  {
   "cell_type": "markdown",
   "metadata": {},
   "source": [
    "#### Load model function"
   ]
  },
  {
   "cell_type": "code",
   "execution_count": 119,
   "metadata": {},
   "outputs": [],
   "source": [
    "def load_model(path):\n",
    "    file_list = glob.glob(f'{path}*.pkl')\n",
    "    #print(file_list)\n",
    "    file_list_len = len(file_list)\n",
    "    models = []\n",
    "    \n",
    "    for i in range(file_list_len):\n",
    "        try:\n",
    "            pkl_file = open(file_list[i], 'rb')\n",
    "            mymodel = pickle.load(pkl_file)\n",
    "            m = re.search('\\\\\\\\(.*)\\.pkl', file_list[i])\n",
    "            model_name = 'temp'\n",
    "            if m:\n",
    "                model_name = m.group(1) \n",
    "            print(f'Model index {i}: {model_name}')\n",
    "            models.append((model_name,mymodel))\n",
    "            pkl_file.close()\n",
    "        except(e):\n",
    "            print('Load error',e)\n",
    "            pkl_file.close()\n",
    "            break\n",
    "    return models"
   ]
  },
  {
   "cell_type": "code",
   "execution_count": null,
   "metadata": {},
   "outputs": [],
   "source": []
  },
  {
   "cell_type": "markdown",
   "metadata": {},
   "source": [
    "### ElasticNet"
   ]
  },
  {
   "cell_type": "code",
   "execution_count": 118,
   "metadata": {},
   "outputs": [
    {
     "name": "stdout",
     "output_type": "stream",
     "text": [
      "Line start at: 2020-12-12 15:48:12.185448\n",
      "Fitting 5 folds for each of 240 candidates, totalling 1200 fits\n"
     ]
    },
    {
     "name": "stderr",
     "output_type": "stream",
     "text": [
      "[Parallel(n_jobs=10)]: Using backend LokyBackend with 10 concurrent workers.\n",
      "[Parallel(n_jobs=10)]: Done  30 tasks      | elapsed:    3.5s\n",
      "[Parallel(n_jobs=10)]: Done 180 tasks      | elapsed: 12.6min\n",
      "[Parallel(n_jobs=10)]: Done 430 tasks      | elapsed: 20.8min\n",
      "[Parallel(n_jobs=10)]: Done 780 tasks      | elapsed: 41.4min\n",
      "[Parallel(n_jobs=10)]: Done 1200 out of 1200 | elapsed: 63.1min finished\n"
     ]
    },
    {
     "name": "stdout",
     "output_type": "stream",
     "text": [
      "{'ElasticNet__alpha': 1.0, 'ElasticNet__tol': 0.001, 'polynomialfeatures__degree': 3, 'scale': None, 'transform': None}\n",
      "Line end at: 2020-12-12 16:51:21.200523\n",
      "The process took: 1:03:09.015075\n"
     ]
    }
   ],
   "source": [
    "start = datetime.now()\n",
    "\n",
    "print(f'Line start at: {start}')\n",
    "steps = [\n",
    "    ('transform', PowerTransformer(method='yeo-johnson')), \n",
    "    ('scale', MinMaxScaler()), \n",
    "    #('pca', PCA(n_components=0.8)), # to remove highly correlated features\n",
    "    ('polynomialfeatures', PolynomialFeatures(degree=2)),\n",
    "    ('ElasticNet', ElasticNet(alpha=1, tol=0.1))\n",
    "]\n",
    "pipeline = Pipeline(steps=steps)\n",
    "\n",
    "\n",
    "param_grid = {\n",
    "            'transform': [None,PowerTransformer(method='yeo-johnson')],\n",
    "            'scale': [None,StandardScaler()],\n",
    "            #'pca__n_components': [0.8],\n",
    "            'polynomialfeatures__degree': [1, 2,3,4],\n",
    "            'ElasticNet__tol': [0.001,0.01, 0.05, 0.1, 0.2],\n",
    "            'ElasticNet__alpha': [1., 2., 3.],\n",
    "}\n",
    "\n",
    "grid_1 = GridSearchCV(pipeline, param_grid=param_grid, cv=tss_cv,\n",
    "                    refit=True,verbose=VERBOSE,n_jobs = THREADS)\n",
    "\n",
    "grid_1.fit(X_train, y_train)\n",
    "end = datetime.now()\n",
    "save_model(grid_1)\n",
    "print(grid_1.best_params_)\n",
    "print(f'Line end at: {end}')\n",
    "print(f'The process took: {end - start}')"
   ]
  },
  {
   "cell_type": "markdown",
   "metadata": {},
   "source": [
    "### Lasso"
   ]
  },
  {
   "cell_type": "code",
   "execution_count": 149,
   "metadata": {},
   "outputs": [
    {
     "name": "stdout",
     "output_type": "stream",
     "text": [
      "Line start at: 2020-12-10 11:48:13.929181\n",
      "Fitting 5 folds for each of 1800 candidates, totalling 9000 fits\n"
     ]
    },
    {
     "name": "stderr",
     "output_type": "stream",
     "text": [
      "[Parallel(n_jobs=10)]: Using backend LokyBackend with 10 concurrent workers.\n",
      "[Parallel(n_jobs=10)]: Done  40 tasks      | elapsed:    0.4s\n",
      "[Parallel(n_jobs=10)]: Done 620 tasks      | elapsed:    8.4s\n",
      "[Parallel(n_jobs=10)]: Done 1620 tasks      | elapsed:   21.9s\n",
      "[Parallel(n_jobs=10)]: Done 3020 tasks      | elapsed:   40.7s\n",
      "[Parallel(n_jobs=10)]: Done 4820 tasks      | elapsed:  1.1min\n",
      "[Parallel(n_jobs=10)]: Done 7020 tasks      | elapsed:  1.7min\n",
      "[Parallel(n_jobs=10)]: Done 8981 out of 9000 | elapsed:  2.1min remaining:    0.2s\n"
     ]
    },
    {
     "name": "stdout",
     "output_type": "stream",
     "text": [
      "{'lasso__alpha': 1.0, 'lasso__tol': 0.001, 'pca__n_components': 0.8, 'polynomialfeatures__degree': 1, 'scale': MinMaxScaler(), 'transform': None}\n",
      "Line end at: 2020-12-10 11:50:22.794072\n",
      "The process took: 0:02:08.864891\n"
     ]
    },
    {
     "name": "stderr",
     "output_type": "stream",
     "text": [
      "[Parallel(n_jobs=10)]: Done 9000 out of 9000 | elapsed:  2.1min finished\n"
     ]
    }
   ],
   "source": [
    "start = datetime.now()\n",
    "\n",
    "print(f'Line start at: {start}')\n",
    "steps = [\n",
    "    ('transform', PowerTransformer(method='yeo-johnson')), \n",
    "    ('scale', MinMaxScaler()), \n",
    "    ('pca', PCA(n_components=0.8)), # to remove highly correlated features\n",
    "    ('polynomialfeatures', PolynomialFeatures(degree=2)),\n",
    "    ('lasso', Lasso(alpha=1, tol=0.1))\n",
    "]\n",
    "pipeline = Pipeline(steps=steps)\n",
    "\n",
    "\n",
    "param_grid = {\n",
    "            'transform': [None,PowerTransformer(method='yeo-johnson')],\n",
    "            'scale': [None, StandardScaler(), MinMaxScaler()],\n",
    "            'pca__n_components': [0.2,0.5,0.6,0.8,1.0],\n",
    "            'polynomialfeatures__degree': [1, 2, 3, 4],\n",
    "            'lasso__tol': [0.001,0.01, 0.05, 0.1, 0.2],\n",
    "            'lasso__alpha': [1., 2., 3.],\n",
    "}\n",
    "\n",
    "grid_2 = GridSearchCV(pipeline, param_grid=param_grid, cv=tss_cv,\n",
    "                    refit=True,verbose=VERBOSE,n_jobs = THREADS)\n",
    "\n",
    "grid_2.fit(X_train, y_train)\n",
    "end = datetime.now()\n",
    "save_model(grid_2)\n",
    "print(grid_2.best_params_)\n",
    "print(f'Line end at: {end}')\n",
    "print(f'The process took: {end - start}')"
   ]
  },
  {
   "cell_type": "markdown",
   "metadata": {
    "scrolled": true
   },
   "source": [
    "### Ridge"
   ]
  },
  {
   "cell_type": "code",
   "execution_count": 150,
   "metadata": {},
   "outputs": [
    {
     "name": "stdout",
     "output_type": "stream",
     "text": [
      "Line start at: 2020-12-10 11:50:23.189678\n",
      "Fitting 5 folds for each of 1800 candidates, totalling 9000 fits\n"
     ]
    },
    {
     "name": "stderr",
     "output_type": "stream",
     "text": [
      "[Parallel(n_jobs=10)]: Using backend LokyBackend with 10 concurrent workers.\n",
      "[Parallel(n_jobs=10)]: Done  40 tasks      | elapsed:    0.5s\n",
      "[Parallel(n_jobs=10)]: Done 340 tasks      | elapsed:    5.2s\n",
      "[Parallel(n_jobs=10)]: Done 840 tasks      | elapsed:   12.4s\n",
      "[Parallel(n_jobs=10)]: Done 1540 tasks      | elapsed:   23.5s\n",
      "[Parallel(n_jobs=10)]: Done 2440 tasks      | elapsed:   36.9s\n",
      "[Parallel(n_jobs=10)]: Done 3540 tasks      | elapsed:   53.3s\n",
      "[Parallel(n_jobs=10)]: Done 4840 tasks      | elapsed:  1.3min\n",
      "[Parallel(n_jobs=10)]: Done 6340 tasks      | elapsed:  1.7min\n",
      "[Parallel(n_jobs=10)]: Done 8040 tasks      | elapsed:  2.1min\n"
     ]
    },
    {
     "name": "stdout",
     "output_type": "stream",
     "text": [
      "{'pca__n_components': 0.8, 'polynomialfeatures__degree': 1, 'ridge__alpha': 1.0, 'ridge__tol': 0.001, 'scale': MinMaxScaler(), 'transform': None}\n",
      "Line end at: 2020-12-10 11:52:42.731149\n",
      "The process took: 0:02:19.541471\n"
     ]
    },
    {
     "name": "stderr",
     "output_type": "stream",
     "text": [
      "[Parallel(n_jobs=10)]: Done 9000 out of 9000 | elapsed:  2.3min finished\n"
     ]
    }
   ],
   "source": [
    "start = datetime.now()\n",
    "\n",
    "print(f'Line start at: {start}')\n",
    "steps = [\n",
    "    ('transform', PowerTransformer(method='yeo-johnson')), \n",
    "    ('scale', MinMaxScaler()), \n",
    "    ('pca', PCA(n_components=0.8)), # to remove highly correlated features\n",
    "    ('polynomialfeatures', PolynomialFeatures(degree=2)),\n",
    "    ('ridge', Ridge(alpha=1, tol=0.1))\n",
    "]\n",
    "pipeline = Pipeline(steps=steps)\n",
    "\n",
    "\n",
    "param_grid = {\n",
    "            'transform': [None,PowerTransformer(method='yeo-johnson')],\n",
    "            'scale': [None, StandardScaler(), MinMaxScaler()],\n",
    "            'pca__n_components': [0.2,0.5,0.6,0.8,1.0],\n",
    "            'polynomialfeatures__degree': [1, 2, 3, 4],\n",
    "            'ridge__tol': [0.001,0.01, 0.05, 0.1, 0.2],\n",
    "            'ridge__alpha': [1., 2., 3.],\n",
    "}\n",
    "\n",
    "grid_3 = GridSearchCV(pipeline, param_grid=param_grid, cv=tss_cv,\n",
    "                    refit=True,verbose=VERBOSE,n_jobs = THREADS)\n",
    "\n",
    "grid_3.fit(X_train, y_train)\n",
    "end = datetime.now()\n",
    "save_model(grid_3)\n",
    "print(grid_3.best_params_)\n",
    "print(f'Line end at: {end}')\n",
    "print(f'The process took: {end - start}')"
   ]
  },
  {
   "cell_type": "markdown",
   "metadata": {},
   "source": [
    "### LinearRegression"
   ]
  },
  {
   "cell_type": "code",
   "execution_count": 94,
   "metadata": {
    "scrolled": true
   },
   "outputs": [
    {
     "name": "stdout",
     "output_type": "stream",
     "text": [
      "Line start at: 2020-12-12 10:28:28.805957\n",
      "Fitting 5 folds for each of 96 candidates, totalling 480 fits\n"
     ]
    },
    {
     "name": "stderr",
     "output_type": "stream",
     "text": [
      "[Parallel(n_jobs=10)]: Using backend LokyBackend with 10 concurrent workers.\n",
      "[Parallel(n_jobs=10)]: Done  30 tasks      | elapsed:    2.5s\n"
     ]
    },
    {
     "name": "stdout",
     "output_type": "stream",
     "text": [
      "{'lr__normalize': False, 'pca__n_components': 0.8, 'polynomialfeatures__degree': 1, 'scale': MinMaxScaler(), 'transform': None}\n",
      "Line end at: 2020-12-12 10:28:36.964135\n",
      "The process took: 0:00:08.158178\n"
     ]
    },
    {
     "name": "stderr",
     "output_type": "stream",
     "text": [
      "[Parallel(n_jobs=10)]: Done 480 out of 480 | elapsed:    8.0s finished\n"
     ]
    }
   ],
   "source": [
    "start = datetime.now()\n",
    "\n",
    "print(f'Line start at: {start}')\n",
    "steps = [\n",
    "    ('transform', PowerTransformer(method='yeo-johnson')), \n",
    "    ('scale', MinMaxScaler()), \n",
    "    ('pca', PCA(n_components=0.8)), # to remove highly correlated features\n",
    "    ('polynomialfeatures', PolynomialFeatures(degree=2)),\n",
    "    ('lr', LinearRegression())\n",
    "]\n",
    "pipeline = Pipeline(steps=steps)\n",
    "\n",
    "\n",
    "param_grid = {\n",
    "            'transform': [None,PowerTransformer(method='yeo-johnson')],\n",
    "            'scale': [None, StandardScaler(), MinMaxScaler()],\n",
    "            'pca__n_components': [0.8,0.5],\n",
    "            'polynomialfeatures__degree': [1,2,3,4],\n",
    "            'lr__normalize': [False, True],\n",
    "}\n",
    "\n",
    "grid_4 = GridSearchCV(pipeline, param_grid=param_grid, cv=tss_cv,\n",
    "                    refit=True,verbose=VERBOSE,n_jobs = THREADS)\n",
    "\n",
    "grid_4.fit(X_train, y_train)\n",
    "end = datetime.now()\n",
    "save_model(grid_4)\n",
    "print(grid_4.best_params_)\n",
    "print(f'Line end at: {end}')\n",
    "print(f'The process took: {end - start}')"
   ]
  },
  {
   "cell_type": "markdown",
   "metadata": {},
   "source": [
    "### SVR - RBF"
   ]
  },
  {
   "cell_type": "code",
   "execution_count": 43,
   "metadata": {
    "scrolled": false
   },
   "outputs": [
    {
     "name": "stdout",
     "output_type": "stream",
     "text": [
      "Line start at: 2020-12-11 00:23:50.245362\n",
      "Fitting 5 folds for each of 2352 candidates, totalling 11760 fits\n"
     ]
    },
    {
     "name": "stderr",
     "output_type": "stream",
     "text": [
      "[Parallel(n_jobs=10)]: Using backend LokyBackend with 10 concurrent workers.\n",
      "[Parallel(n_jobs=10)]: Done  30 tasks      | elapsed:    4.5s\n",
      "[Parallel(n_jobs=10)]: Done 180 tasks      | elapsed:   15.2s\n",
      "[Parallel(n_jobs=10)]: Done 430 tasks      | elapsed:   34.8s\n",
      "[Parallel(n_jobs=10)]: Done 780 tasks      | elapsed:  1.1min\n",
      "[Parallel(n_jobs=10)]: Done 1230 tasks      | elapsed:  1.6min\n",
      "[Parallel(n_jobs=10)]: Done 1780 tasks      | elapsed:  2.3min\n",
      "[Parallel(n_jobs=10)]: Done 2430 tasks      | elapsed:  3.2min\n",
      "[Parallel(n_jobs=10)]: Done 3180 tasks      | elapsed:  4.2min\n",
      "[Parallel(n_jobs=10)]: Done 4030 tasks      | elapsed:  5.6min\n",
      "[Parallel(n_jobs=10)]: Done 4980 tasks      | elapsed:  7.0min\n",
      "[Parallel(n_jobs=10)]: Done 6030 tasks      | elapsed:  8.6min\n",
      "[Parallel(n_jobs=10)]: Done 7180 tasks      | elapsed: 10.3min\n",
      "[Parallel(n_jobs=10)]: Done 8430 tasks      | elapsed: 12.4min\n",
      "[Parallel(n_jobs=10)]: Done 9780 tasks      | elapsed: 14.7min\n",
      "[Parallel(n_jobs=10)]: Done 11230 tasks      | elapsed: 17.3min\n",
      "[Parallel(n_jobs=10)]: Done 11760 out of 11760 | elapsed: 18.2min finished\n"
     ]
    },
    {
     "name": "stdout",
     "output_type": "stream",
     "text": [
      "{'pca__n_components': 0.8, 'polynomialfeatures__degree': 1, 'scale': StandardScaler(), 'svr__C': 10000, 'svr__gamma': 0.0001, 'transform': None}\n",
      "Line end at: 2020-12-11 00:42:02.959204\n",
      "The process took: 0:18:12.713842\n"
     ]
    }
   ],
   "source": [
    "start = datetime.now()\n",
    "\n",
    "print(f'Line start at: {start}')\n",
    "steps = [\n",
    "    \n",
    "    ('transform', PowerTransformer(method='yeo-johnson')), \n",
    "    ('scale', MinMaxScaler()), \n",
    "    ('pca', PCA(n_components=0.8)), # to remove highly correlated features\n",
    "    ('polynomialfeatures', PolynomialFeatures(degree=2)),\n",
    "    ('svr', SVR(kernel='rbf',C=1))\n",
    "]\n",
    "pipeline = Pipeline(steps=steps)\n",
    "\n",
    "\n",
    "param_grid = {\n",
    "            'transform': [None,PowerTransformer(method='yeo-johnson')],\n",
    "            'scale': [None, StandardScaler(), MinMaxScaler()],\n",
    "            'pca__n_components': [0.2,0.8],\n",
    "            'polynomialfeatures__degree': [1, 2, 3, 4],\n",
    "            'svr__C': [ 0.01, 0.1, 1, 10, 100,1000,10000],\n",
    "            'svr__gamma': [0.0001,0.001, 0.01,1,10,100,1000]\n",
    "}\n",
    "\n",
    "grid_5 = GridSearchCV(pipeline, param_grid=param_grid, cv=tss_cv,\n",
    "                    refit=True,verbose=VERBOSE,n_jobs = THREADS)\n",
    "\n",
    "grid_5.fit(X_train, y_train)\n",
    "end = datetime.now()\n",
    "save_model(grid_5)\n",
    "print(grid_5.best_params_)\n",
    "print(f'Line end at: {end}')\n",
    "print(f'The process took: {end - start}')"
   ]
  },
  {
   "cell_type": "markdown",
   "metadata": {},
   "source": [
    "### Decision Tree"
   ]
  },
  {
   "cell_type": "code",
   "execution_count": 48,
   "metadata": {
    "scrolled": false
   },
   "outputs": [
    {
     "name": "stdout",
     "output_type": "stream",
     "text": [
      "Line start at: 2020-12-11 00:43:56.370097\n",
      "Fitting 5 folds for each of 41472 candidates, totalling 207360 fits\n"
     ]
    },
    {
     "name": "stderr",
     "output_type": "stream",
     "text": [
      "[Parallel(n_jobs=10)]: Using backend LokyBackend with 10 concurrent workers.\n",
      "[Parallel(n_jobs=10)]: Done  30 tasks      | elapsed:    2.4s\n",
      "[Parallel(n_jobs=10)]: Done 1300 tasks      | elapsed:    4.9s\n",
      "[Parallel(n_jobs=10)]: Done 5300 tasks      | elapsed:   17.4s\n",
      "[Parallel(n_jobs=10)]: Done 9120 tasks      | elapsed:   40.1s\n",
      "[Parallel(n_jobs=10)]: Done 9570 tasks      | elapsed:   50.9s\n",
      "[Parallel(n_jobs=10)]: Done 10120 tasks      | elapsed:  1.1min\n",
      "[Parallel(n_jobs=10)]: Done 10770 tasks      | elapsed:  1.3min\n",
      "[Parallel(n_jobs=10)]: Done 11520 tasks      | elapsed:  1.7min\n",
      "[Parallel(n_jobs=10)]: Done 12370 tasks      | elapsed:  2.1min\n",
      "[Parallel(n_jobs=10)]: Done 13320 tasks      | elapsed:  2.6min\n",
      "[Parallel(n_jobs=10)]: Done 14370 tasks      | elapsed:  3.0min\n",
      "[Parallel(n_jobs=10)]: Done 15520 tasks      | elapsed:  3.5min\n",
      "[Parallel(n_jobs=10)]: Done 16770 tasks      | elapsed:  4.1min\n",
      "[Parallel(n_jobs=10)]: Done 23030 tasks      | elapsed:  4.8min\n",
      "[Parallel(n_jobs=10)]: Done 27750 tasks      | elapsed:  5.8min\n",
      "[Parallel(n_jobs=10)]: Done 30850 tasks      | elapsed:  7.2min\n",
      "[Parallel(n_jobs=10)]: Done 34150 tasks      | elapsed:  8.7min\n",
      "[Parallel(n_jobs=10)]: Done 43840 tasks      | elapsed:  9.8min\n",
      "[Parallel(n_jobs=10)]: Done 45690 tasks      | elapsed: 10.7min\n",
      "[Parallel(n_jobs=10)]: Done 47640 tasks      | elapsed: 11.7min\n",
      "[Parallel(n_jobs=10)]: Done 49690 tasks      | elapsed: 12.5min\n",
      "[Parallel(n_jobs=10)]: Done 51840 tasks      | elapsed: 13.6min\n",
      "[Parallel(n_jobs=10)]: Done 62510 tasks      | elapsed: 15.0min\n",
      "[Parallel(n_jobs=10)]: Done 65540 tasks      | elapsed: 16.6min\n",
      "[Parallel(n_jobs=10)]: Done 67990 tasks      | elapsed: 17.7min\n",
      "[Parallel(n_jobs=10)]: Done 77570 tasks      | elapsed: 19.2min\n",
      "[Parallel(n_jobs=10)]: Done 82010 tasks      | elapsed: 21.4min\n",
      "[Parallel(n_jobs=10)]: Done 84760 tasks      | elapsed: 22.6min\n",
      "[Parallel(n_jobs=10)]: Done 94430 tasks      | elapsed: 24.4min\n",
      "[Parallel(n_jobs=10)]: Done 99390 tasks      | elapsed: 26.6min\n",
      "[Parallel(n_jobs=10)]: Done 102440 tasks      | elapsed: 28.1min\n",
      "[Parallel(n_jobs=10)]: Done 114230 tasks      | elapsed: 30.2min\n",
      "[Parallel(n_jobs=10)]: Done 120730 tasks      | elapsed: 33.1min\n",
      "[Parallel(n_jobs=10)]: Done 131850 tasks      | elapsed: 34.8min\n",
      "[Parallel(n_jobs=10)]: Done 135300 tasks      | elapsed: 36.5min\n",
      "[Parallel(n_jobs=10)]: Done 142710 tasks      | elapsed: 38.3min\n",
      "[Parallel(n_jobs=10)]: Done 153350 tasks      | elapsed: 41.5min\n",
      "[Parallel(n_jobs=10)]: Done 166770 tasks      | elapsed: 44.2min\n",
      "[Parallel(n_jobs=10)]: Done 178710 tasks      | elapsed: 47.5min\n",
      "[Parallel(n_jobs=10)]: Done 188290 tasks      | elapsed: 50.8min\n",
      "[Parallel(n_jobs=10)]: Done 202310 tasks      | elapsed: 54.0min\n",
      "[Parallel(n_jobs=10)]: Done 207360 out of 207360 | elapsed: 56.5min finished\n"
     ]
    },
    {
     "name": "stdout",
     "output_type": "stream",
     "text": [
      "{'pca__n_components': 0.5, 'polynomialfeatures__degree': 2, 'scale': None, 'transform': None, 'tree__ccp_alpha': 0.1, 'tree__criterion': 'friedman_mse', 'tree__max_depth': 20, 'tree__max_features': 'auto', 'tree__max_leaf_nodes': None, 'tree__min_samples_leaf': 10, 'tree__min_samples_split': 2, 'tree__splitter': 'random'}\n",
      "Line end at: 2020-12-11 01:40:25.710973\n",
      "The process took: 0:56:29.340876\n"
     ]
    }
   ],
   "source": [
    "start = datetime.now()\n",
    "\n",
    "print(f'Line start at: {start}')\n",
    "steps = [\n",
    "    ('transform', PowerTransformer(method='yeo-johnson')), \n",
    "    ('scale', MinMaxScaler()), \n",
    "    ('pca', PCA(n_components=0.8)), # to remove highly correlated features\n",
    "    ('polynomialfeatures', PolynomialFeatures(degree=2)),\n",
    "    ('tree', DecisionTreeRegressor())\n",
    "]\n",
    "pipeline = Pipeline(steps=steps)\n",
    "\n",
    "\n",
    "param_grid = {\n",
    "            'transform': [None,PowerTransformer(method='yeo-johnson')],\n",
    "            'scale': [None, StandardScaler(), MinMaxScaler()],\n",
    "            'pca__n_components': [0.8,0.5],\n",
    "            'polynomialfeatures__degree': [1, 2], #[1, 2, 3, 4],\n",
    "            \"tree__criterion\": [\"mse\", \"friedman_mse\",\"mae\"],\n",
    "            \"tree__max_depth\": [2,20,50, None], #[2, 5, 10, 15,20,30, None],\n",
    "            \"tree__min_samples_split\": [2, 15], #[2, 5, 10, 15], \n",
    "            \"tree__splitter\": [\"best\", \"random\"],\n",
    "            \"tree__min_samples_leaf\": [ 3, 10], #[ 3, 4, 5,8,10],\n",
    "            \"tree__max_features\": [\"auto\",\"sqrt\",\"log2\"],\n",
    "            \"tree__ccp_alpha\" : [0.0, 0.1],\n",
    "            \"tree__max_leaf_nodes\": [2, 3, None] #[1, 2, 5, 10, 20, None]\n",
    "}\n",
    "\n",
    "grid_6 = GridSearchCV(pipeline, param_grid=param_grid, cv=tss_cv,\n",
    "                    refit=True,verbose=VERBOSE,n_jobs = THREADS)\n",
    "\n",
    "grid_6.fit(X_train, y_train)\n",
    "end = datetime.now()\n",
    "save_model(grid_6)\n",
    "print(grid_6.best_params_)\n",
    "print(f'Line end at: {end}')\n",
    "print(f'The process took: {end - start}')"
   ]
  },
  {
   "cell_type": "markdown",
   "metadata": {},
   "source": [
    "### Random Forest"
   ]
  },
  {
   "cell_type": "code",
   "execution_count": 49,
   "metadata": {
    "scrolled": false
   },
   "outputs": [
    {
     "name": "stdout",
     "output_type": "stream",
     "text": [
      "Line start at: 2020-12-11 01:40:26.168353\n",
      "Fitting 5 folds for each of 1536 candidates, totalling 7680 fits\n"
     ]
    },
    {
     "name": "stderr",
     "output_type": "stream",
     "text": [
      "[Parallel(n_jobs=10)]: Using backend LokyBackend with 10 concurrent workers.\n",
      "[Parallel(n_jobs=10)]: Done  30 tasks      | elapsed:   18.8s\n",
      "[Parallel(n_jobs=10)]: Done 180 tasks      | elapsed:  1.9min\n",
      "[Parallel(n_jobs=10)]: Done 430 tasks      | elapsed:  3.9min\n",
      "[Parallel(n_jobs=10)]: Done 780 tasks      | elapsed:  8.0min\n",
      "[Parallel(n_jobs=10)]: Done 1230 tasks      | elapsed:  9.9min\n",
      "[Parallel(n_jobs=10)]: Done 1780 tasks      | elapsed: 10.1min\n",
      "[Parallel(n_jobs=10)]: Done 2430 tasks      | elapsed: 14.6min\n",
      "[Parallel(n_jobs=10)]: Done 3180 tasks      | elapsed: 19.5min\n",
      "[Parallel(n_jobs=10)]: Done 4030 tasks      | elapsed: 23.9min\n",
      "[Parallel(n_jobs=10)]: Done 4980 tasks      | elapsed: 37.0min\n",
      "[Parallel(n_jobs=10)]: Done 6030 tasks      | elapsed: 42.8min\n",
      "[Parallel(n_jobs=10)]: Done 7180 tasks      | elapsed: 54.6min\n",
      "[Parallel(n_jobs=10)]: Done 7680 out of 7680 | elapsed: 54.8min finished\n"
     ]
    },
    {
     "name": "stdout",
     "output_type": "stream",
     "text": [
      "{'pca__n_components': 0.8, 'polynomialfeatures__degree': 1, 'rf__ccp_alpha': 0.1, 'rf__criterion': 'mae', 'rf__max_depth': None, 'rf__max_features': 'log2', 'rf__max_leaf_nodes': None, 'rf__min_samples_leaf': 10, 'rf__min_samples_split': 15, 'rf__n_estimators': 150, 'scale': None, 'transform': None}\n",
      "Line end at: 2020-12-11 02:35:21.443159\n",
      "The process took: 0:54:55.274806\n"
     ]
    }
   ],
   "source": [
    "start = datetime.now()\n",
    "\n",
    "print(f'Line start at: {start}')\n",
    "steps = [\n",
    "    ('transform', PowerTransformer(method='yeo-johnson')), \n",
    "    ('scale', MinMaxScaler()), \n",
    "    ('pca', PCA(n_components=0.8)), # to remove highly correlated features\n",
    "    ('polynomialfeatures', PolynomialFeatures(degree=2)),\n",
    "    ('rf', RandomForestRegressor())\n",
    "]\n",
    "pipeline = Pipeline(steps=steps)\n",
    "\n",
    "\n",
    "param_grid = {\n",
    "            'transform': [None,PowerTransformer(method='yeo-johnson')],\n",
    "            'scale': [None, StandardScaler()], #MinMaxScaler()\n",
    "            'pca__n_components': [0.8],\n",
    "            'polynomialfeatures__degree': [1, 2],  #[1, 2, 3, 4],\n",
    "            'rf__n_estimators': [150],  #, 300\n",
    "            \"rf__criterion\": [\"mae\", \"msa\"],  #\n",
    "            \"rf__max_depth\": [2, None],  #[2, 30, None],\n",
    "            \"rf__min_samples_split\": [2, 15],  #[2, 5, 10, 15],\n",
    "            \"rf__min_samples_leaf\": [ 3,10],  #[ 3, 4, 5,8,10],\n",
    "            \"rf__max_features\": [\"auto\",\"log2\"],  #\"sqrt\",\n",
    "            \"rf__ccp_alpha\" : [0.0, 0.1],  #[0.0,0.05, 0.1],\n",
    "            \"rf__max_leaf_nodes\": [2,3,  None]  #[1, 2, 5, 10, 20, None]\n",
    "}\n",
    "\n",
    "grid_7 = GridSearchCV(pipeline, param_grid=param_grid, cv=tss_cv,\n",
    "                    refit=True,verbose=VERBOSE,n_jobs = THREADS)\n",
    "\n",
    "grid_7.fit(X_train, y_train)\n",
    "end = datetime.now()\n",
    "save_model(grid_7)\n",
    "print(grid_7.best_params_)\n",
    "print(f'Line end at: {end}')\n",
    "print(f'The process took: {end - start}')"
   ]
  },
  {
   "cell_type": "markdown",
   "metadata": {},
   "source": [
    "### KNN"
   ]
  },
  {
   "cell_type": "code",
   "execution_count": 50,
   "metadata": {
    "scrolled": false
   },
   "outputs": [
    {
     "name": "stdout",
     "output_type": "stream",
     "text": [
      "Line start at: 2020-12-11 02:35:21.871769\n",
      "Fitting 5 folds for each of 4608 candidates, totalling 23040 fits\n"
     ]
    },
    {
     "name": "stderr",
     "output_type": "stream",
     "text": [
      "[Parallel(n_jobs=10)]: Using backend LokyBackend with 10 concurrent workers.\n",
      "[Parallel(n_jobs=10)]: Done  40 tasks      | elapsed:    0.4s\n",
      "[Parallel(n_jobs=10)]: Done 620 tasks      | elapsed:    8.6s\n",
      "[Parallel(n_jobs=10)]: Done 1620 tasks      | elapsed:   23.9s\n",
      "[Parallel(n_jobs=10)]: Done 3020 tasks      | elapsed:   45.2s\n",
      "[Parallel(n_jobs=10)]: Done 4820 tasks      | elapsed:  1.2min\n",
      "[Parallel(n_jobs=10)]: Done 7002 tasks      | elapsed:  1.8min\n",
      "[Parallel(n_jobs=10)]: Done 7670 tasks      | elapsed:  2.1min\n",
      "[Parallel(n_jobs=10)]: Done 8420 tasks      | elapsed:  2.3min\n",
      "[Parallel(n_jobs=10)]: Done 9270 tasks      | elapsed:  2.6min\n",
      "[Parallel(n_jobs=10)]: Done 10220 tasks      | elapsed:  3.0min\n",
      "[Parallel(n_jobs=10)]: Done 11270 tasks      | elapsed:  3.4min\n",
      "[Parallel(n_jobs=10)]: Done 12420 tasks      | elapsed:  3.7min\n",
      "[Parallel(n_jobs=10)]: Done 13670 tasks      | elapsed:  4.0min\n",
      "[Parallel(n_jobs=10)]: Done 15020 tasks      | elapsed:  4.4min\n",
      "[Parallel(n_jobs=10)]: Done 16470 tasks      | elapsed:  4.8min\n",
      "[Parallel(n_jobs=10)]: Done 18020 tasks      | elapsed:  5.5min\n",
      "[Parallel(n_jobs=10)]: Done 19670 tasks      | elapsed:  6.7min\n",
      "[Parallel(n_jobs=10)]: Done 21420 tasks      | elapsed:  8.0min\n"
     ]
    },
    {
     "name": "stdout",
     "output_type": "stream",
     "text": [
      "{'knn__algorithm': 'auto', 'knn__leaf_size': 10, 'knn__metric': 'minkowski', 'knn__n_neighbors': 10, 'knn__p': 2, 'knn__weights': 'uniform', 'pca__n_components': 0.8, 'polynomialfeatures__degree': 1, 'scale': None, 'transform': None}\n",
      "Line end at: 2020-12-11 02:44:31.444985\n",
      "The process took: 0:09:09.573216\n"
     ]
    },
    {
     "name": "stderr",
     "output_type": "stream",
     "text": [
      "[Parallel(n_jobs=10)]: Done 23040 out of 23040 | elapsed:  9.2min finished\n"
     ]
    }
   ],
   "source": [
    "start = datetime.now()\n",
    "\n",
    "print(f'Line start at: {start}')\n",
    "steps = [\n",
    "    ('transform', PowerTransformer(method='yeo-johnson')), \n",
    "    ('scale', MinMaxScaler()), \n",
    "    ('pca', PCA(n_components=0.8)), # to remove highly correlated features\n",
    "    ('polynomialfeatures', PolynomialFeatures(degree=2)),\n",
    "    ('knn', KNeighborsRegressor())\n",
    "]\n",
    "pipeline = Pipeline(steps=steps)\n",
    "\n",
    "\n",
    "param_grid = {\n",
    "            'transform': [None,PowerTransformer(method='yeo-johnson')],\n",
    "            'scale': [None, StandardScaler()], #MinMaxScaler()\n",
    "            'pca__n_components': [0.8],\n",
    "            'polynomialfeatures__degree': [1, 2],  #[1, 2, 3, 4],\n",
    "            \"knn__n_neighbors\": [2, 5, 10, 20,30,40],\n",
    "            \"knn__p\" : [2,3,4],\n",
    "            \"knn__metric\": [\"minkowski\"],\n",
    "            \"knn__weights\": ['uniform','distance'],\n",
    "            \"knn__algorithm\" : [ 'auto', 'ball_tree', 'kd_tree', 'brute'],\n",
    "            \"knn__leaf_size\" : [10,20,30,40],\n",
    "}\n",
    "\n",
    "grid_8 = GridSearchCV(pipeline, param_grid=param_grid, cv=tss_cv,\n",
    "                    refit=True,verbose=VERBOSE,n_jobs = THREADS)\n",
    "\n",
    "grid_8.fit(X_train, y_train)\n",
    "end = datetime.now()\n",
    "save_model(grid_8)\n",
    "print(grid_8.best_params_)\n",
    "print(f'Line end at: {end}')\n",
    "print(f'The process took: {end - start}')"
   ]
  },
  {
   "cell_type": "code",
   "execution_count": null,
   "metadata": {},
   "outputs": [],
   "source": []
  },
  {
   "cell_type": "markdown",
   "metadata": {},
   "source": [
    "### Bagging DT"
   ]
  },
  {
   "cell_type": "code",
   "execution_count": 51,
   "metadata": {},
   "outputs": [
    {
     "name": "stdout",
     "output_type": "stream",
     "text": [
      "Line start at: 2020-12-11 02:44:31.901903\n",
      "Fitting 5 folds for each of 8192 candidates, totalling 40960 fits\n"
     ]
    },
    {
     "name": "stderr",
     "output_type": "stream",
     "text": [
      "[Parallel(n_jobs=10)]: Using backend LokyBackend with 10 concurrent workers.\n",
      "[Parallel(n_jobs=10)]: Done  40 tasks      | elapsed:    0.7s\n",
      "[Parallel(n_jobs=10)]: Done 340 tasks      | elapsed:    8.0s\n",
      "[Parallel(n_jobs=10)]: Done 760 tasks      | elapsed:   18.8s\n",
      "[Parallel(n_jobs=10)]: Done 1110 tasks      | elapsed:   27.5s\n",
      "[Parallel(n_jobs=10)]: Done 1560 tasks      | elapsed:   39.7s\n",
      "[Parallel(n_jobs=10)]: Done 2110 tasks      | elapsed:   53.9s\n",
      "[Parallel(n_jobs=10)]: Done 2760 tasks      | elapsed:  1.2min\n",
      "[Parallel(n_jobs=10)]: Done 3510 tasks      | elapsed:  1.7min\n",
      "[Parallel(n_jobs=10)]: Done 4360 tasks      | elapsed:  2.2min\n",
      "[Parallel(n_jobs=10)]: Done 5310 tasks      | elapsed:  2.7min\n",
      "[Parallel(n_jobs=10)]: Done 6360 tasks      | elapsed:  3.1min\n",
      "[Parallel(n_jobs=10)]: Done 7510 tasks      | elapsed:  3.6min\n",
      "[Parallel(n_jobs=10)]: Done 8760 tasks      | elapsed:  4.2min\n",
      "[Parallel(n_jobs=10)]: Done 10110 tasks      | elapsed:  4.9min\n",
      "[Parallel(n_jobs=10)]: Done 11560 tasks      | elapsed:  5.5min\n",
      "[Parallel(n_jobs=10)]: Done 13110 tasks      | elapsed:  6.2min\n",
      "[Parallel(n_jobs=10)]: Done 14760 tasks      | elapsed:  7.1min\n",
      "[Parallel(n_jobs=10)]: Done 16510 tasks      | elapsed:  7.8min\n",
      "[Parallel(n_jobs=10)]: Done 18360 tasks      | elapsed:  8.6min\n",
      "[Parallel(n_jobs=10)]: Done 20310 tasks      | elapsed:  9.5min\n",
      "[Parallel(n_jobs=10)]: Done 22360 tasks      | elapsed: 10.4min\n",
      "[Parallel(n_jobs=10)]: Done 24510 tasks      | elapsed: 11.6min\n",
      "[Parallel(n_jobs=10)]: Done 26760 tasks      | elapsed: 12.7min\n",
      "[Parallel(n_jobs=10)]: Done 29110 tasks      | elapsed: 13.7min\n",
      "[Parallel(n_jobs=10)]: Done 31560 tasks      | elapsed: 14.9min\n",
      "[Parallel(n_jobs=10)]: Done 34110 tasks      | elapsed: 16.1min\n",
      "[Parallel(n_jobs=10)]: Done 36760 tasks      | elapsed: 17.4min\n",
      "[Parallel(n_jobs=10)]: Done 39510 tasks      | elapsed: 18.5min\n",
      "[Parallel(n_jobs=10)]: Done 40960 out of 40960 | elapsed: 19.2min finished\n"
     ]
    },
    {
     "name": "stdout",
     "output_type": "stream",
     "text": [
      "{'BaggingRegressor_tree__base_estimator__ccp_alpha': 0.1, 'BaggingRegressor_tree__base_estimator__criterion': 'mae', 'BaggingRegressor_tree__base_estimator__max_depth': 5, 'BaggingRegressor_tree__base_estimator__max_features': 'auto', 'BaggingRegressor_tree__base_estimator__max_leaf_nodes': None, 'BaggingRegressor_tree__base_estimator__min_samples_leaf': 3, 'BaggingRegressor_tree__base_estimator__min_samples_split': 2, 'BaggingRegressor_tree__base_estimator__splitter': 'best', 'BaggingRegressor_tree__bootstrap': True, 'BaggingRegressor_tree__max_features': 1.0, 'BaggingRegressor_tree__max_samples': 0.5, 'BaggingRegressor_tree__n_estimators': 10, 'pca__n_components': 0.8, 'polynomialfeatures__degree': 1, 'scale': None, 'transform': None}\n",
      "Line end at: 2020-12-11 03:03:45.991785\n",
      "The process took: 0:19:14.089882\n"
     ]
    }
   ],
   "source": [
    "start = datetime.now()\n",
    "\n",
    "print(f'Line start at: {start}')\n",
    "steps = [\n",
    "    ('transform', PowerTransformer(method='yeo-johnson')), \n",
    "    ('scale', MinMaxScaler()), \n",
    "    ('pca', PCA(n_components=0.8)), # to remove highly correlated features\n",
    "    ('polynomialfeatures', PolynomialFeatures(degree=2)),\n",
    "    ('BaggingRegressor_tree', BaggingRegressor(DecisionTreeRegressor()))\n",
    "]\n",
    "pipeline = Pipeline(steps=steps)\n",
    "\n",
    "\n",
    "param_grid = {\n",
    "            'transform': [None,PowerTransformer(method='yeo-johnson')],\n",
    "            'scale': [None, StandardScaler()], #MinMaxScaler()\n",
    "            'pca__n_components': [0.8,0.2],\n",
    "            'polynomialfeatures__degree': [1, 2],  #[1, 2, 3, 4],\n",
    "            \"BaggingRegressor_tree__n_estimators\": [10], #[10,100,200]\n",
    "            \"BaggingRegressor_tree__max_samples\" : [0.2, 0.5],#[0.2, 0.3, 0.5, 1.0]\n",
    "            \"BaggingRegressor_tree__max_features\" : [0.2, 1.0], #0.5,\n",
    "            \"BaggingRegressor_tree__bootstrap\" : [True,False],\n",
    "    \n",
    "            \"BaggingRegressor_tree__base_estimator__max_depth\" : [None,5],#[None, 2,5,10]\n",
    "            \"BaggingRegressor_tree__base_estimator__criterion\": [\"mae\"],#[\"mse\", \"friedman_mse\",\"mae\"]\n",
    "            \"BaggingRegressor_tree__base_estimator__min_samples_split\": [2, 5],  \n",
    "            \"BaggingRegressor_tree__base_estimator__splitter\": [\"best\"],#, \"random\"\n",
    "            \"BaggingRegressor_tree__base_estimator__min_samples_leaf\": [ 3, 5],\n",
    "            \"BaggingRegressor_tree__base_estimator__max_features\": [\"auto\",\"log2\"], #\"sqrt\",\n",
    "            \"BaggingRegressor_tree__base_estimator__ccp_alpha\" : [0.0, 0.1],\n",
    "            \"BaggingRegressor_tree__base_estimator__max_leaf_nodes\": [ 2, None] #5\n",
    "}\n",
    "\n",
    "grid_9 = GridSearchCV(pipeline, param_grid=param_grid, cv=tss_cv,\n",
    "                    refit=True,verbose=VERBOSE,n_jobs = THREADS)\n",
    "\n",
    "grid_9.fit(X_train, y_train)\n",
    "end = datetime.now()\n",
    "save_model(grid_9)\n",
    "print(grid_9.best_params_)\n",
    "print(f'Line end at: {end}')\n",
    "print(f'The process took: {end - start}')"
   ]
  },
  {
   "cell_type": "markdown",
   "metadata": {},
   "source": [
    "### Bagging Ridge"
   ]
  },
  {
   "cell_type": "code",
   "execution_count": 52,
   "metadata": {},
   "outputs": [
    {
     "name": "stdout",
     "output_type": "stream",
     "text": [
      "Line start at: 2020-12-11 03:03:46.512536\n",
      "Fitting 5 folds for each of 10368 candidates, totalling 51840 fits\n"
     ]
    },
    {
     "name": "stderr",
     "output_type": "stream",
     "text": [
      "[Parallel(n_jobs=10)]: Using backend LokyBackend with 10 concurrent workers.\n",
      "[Parallel(n_jobs=10)]: Done  40 tasks      | elapsed:    0.6s\n",
      "[Parallel(n_jobs=10)]: Done 470 tasks      | elapsed:    9.6s\n",
      "[Parallel(n_jobs=10)]: Done 720 tasks      | elapsed:   18.8s\n",
      "[Parallel(n_jobs=10)]: Done 1070 tasks      | elapsed:   25.8s\n",
      "[Parallel(n_jobs=10)]: Done 1520 tasks      | elapsed:   39.6s\n",
      "[Parallel(n_jobs=10)]: Done 2070 tasks      | elapsed:   54.5s\n",
      "[Parallel(n_jobs=10)]: Done 2720 tasks      | elapsed:  1.2min\n",
      "[Parallel(n_jobs=10)]: Done 3470 tasks      | elapsed:  1.6min\n",
      "[Parallel(n_jobs=10)]: Done 4320 tasks      | elapsed:  2.0min\n",
      "[Parallel(n_jobs=10)]: Done 5270 tasks      | elapsed:  2.4min\n",
      "[Parallel(n_jobs=10)]: Done 6320 tasks      | elapsed:  2.9min\n",
      "[Parallel(n_jobs=10)]: Done 7470 tasks      | elapsed:  3.4min\n",
      "[Parallel(n_jobs=10)]: Done 8720 tasks      | elapsed:  4.1min\n",
      "[Parallel(n_jobs=10)]: Done 10070 tasks      | elapsed:  4.7min\n",
      "[Parallel(n_jobs=10)]: Done 11520 tasks      | elapsed:  5.4min\n",
      "[Parallel(n_jobs=10)]: Done 13070 tasks      | elapsed:  6.2min\n",
      "[Parallel(n_jobs=10)]: Done 14720 tasks      | elapsed:  6.9min\n",
      "[Parallel(n_jobs=10)]: Done 16470 tasks      | elapsed:  7.8min\n",
      "[Parallel(n_jobs=10)]: Done 18320 tasks      | elapsed:  8.7min\n",
      "[Parallel(n_jobs=10)]: Done 20270 tasks      | elapsed:  9.6min\n",
      "[Parallel(n_jobs=10)]: Done 22320 tasks      | elapsed: 10.6min\n",
      "[Parallel(n_jobs=10)]: Done 24470 tasks      | elapsed: 11.6min\n",
      "[Parallel(n_jobs=10)]: Done 26720 tasks      | elapsed: 12.7min\n",
      "[Parallel(n_jobs=10)]: Done 29070 tasks      | elapsed: 13.8min\n",
      "[Parallel(n_jobs=10)]: Done 31520 tasks      | elapsed: 15.0min\n",
      "[Parallel(n_jobs=10)]: Done 34070 tasks      | elapsed: 16.2min\n",
      "[Parallel(n_jobs=10)]: Done 36720 tasks      | elapsed: 17.5min\n",
      "[Parallel(n_jobs=10)]: Done 39470 tasks      | elapsed: 18.8min\n",
      "[Parallel(n_jobs=10)]: Done 42320 tasks      | elapsed: 20.1min\n",
      "[Parallel(n_jobs=10)]: Done 45270 tasks      | elapsed: 21.5min\n",
      "[Parallel(n_jobs=10)]: Done 48320 tasks      | elapsed: 23.0min\n",
      "[Parallel(n_jobs=10)]: Done 51470 tasks      | elapsed: 24.5min\n",
      "[Parallel(n_jobs=10)]: Done 51840 out of 51840 | elapsed: 24.7min finished\n"
     ]
    },
    {
     "name": "stdout",
     "output_type": "stream",
     "text": [
      "{'BaggingRegressor_Ridge__base_estimator__alpha': 1.0, 'BaggingRegressor_Ridge__base_estimator__tol': 0.2, 'BaggingRegressor_Ridge__bootstrap': True, 'BaggingRegressor_Ridge__max_features': 1.0, 'BaggingRegressor_Ridge__max_samples': 0.3, 'BaggingRegressor_Ridge__n_estimators': 10, 'pca__n_components': 0.5, 'polynomialfeatures__degree': 1, 'scale': MinMaxScaler(), 'transform': None}\n",
      "Line end at: 2020-12-11 03:28:30.309458\n",
      "The process took: 0:24:43.796922\n"
     ]
    }
   ],
   "source": [
    "start = datetime.now()\n",
    "\n",
    "print(f'Line start at: {start}')\n",
    "steps = [\n",
    "    ('transform', PowerTransformer(method='yeo-johnson')), \n",
    "    ('scale', MinMaxScaler()), \n",
    "    ('pca', PCA(n_components=0.8)), # to remove highly correlated features\n",
    "    ('polynomialfeatures', PolynomialFeatures(degree=2)),\n",
    "    ('BaggingRegressor_Ridge', BaggingRegressor(Ridge()))\n",
    "]\n",
    "pipeline = Pipeline(steps=steps)\n",
    "\n",
    "\n",
    "param_grid = {\n",
    "            'transform': [None,PowerTransformer(method='yeo-johnson')],\n",
    "            'scale': [None, StandardScaler(),MinMaxScaler()], #MinMaxScaler()\n",
    "            'pca__n_components': [0.5,0.6,0.7,0.8],\n",
    "            'polynomialfeatures__degree': [1, 2],  #[1, 2, 3, 4],\n",
    "            \"BaggingRegressor_Ridge__n_estimators\": [10,50,100],#,200\n",
    "            \"BaggingRegressor_Ridge__max_samples\" : [0.2, 0.3],#[0.2, 0.3, 0.5, 1.0]\n",
    "            \"BaggingRegressor_Ridge__max_features\" : [0.2,  0.5,  1.0],\n",
    "            \"BaggingRegressor_Ridge__bootstrap\" : [True,False],\n",
    "            'BaggingRegressor_Ridge__base_estimator__tol': [0.001,0.01, 0.2],#[0.001,0.01, 0.05, 0.1, 0.2]# 0.05, 0.1,\n",
    "            'BaggingRegressor_Ridge__base_estimator__alpha': [1., 3.],#2.,\n",
    "\n",
    "}\n",
    "\n",
    "grid_10 = GridSearchCV(pipeline, param_grid=param_grid, cv=tss_cv,\n",
    "                    refit=True,verbose=VERBOSE,n_jobs = THREADS)\n",
    "\n",
    "grid_10.fit(X_train, y_train)\n",
    "end = datetime.now()\n",
    "save_model(grid_10)\n",
    "print(grid_10.best_params_)\n",
    "print(f'Line end at: {end}')\n",
    "print(f'The process took: {end - start}')"
   ]
  },
  {
   "cell_type": "markdown",
   "metadata": {},
   "source": [
    "### Extra Tree"
   ]
  },
  {
   "cell_type": "code",
   "execution_count": 53,
   "metadata": {
    "scrolled": false
   },
   "outputs": [
    {
     "name": "stdout",
     "output_type": "stream",
     "text": [
      "Line start at: 2020-12-11 03:28:30.901883\n",
      "Fitting 5 folds for each of 23040 candidates, totalling 115200 fits\n"
     ]
    },
    {
     "name": "stderr",
     "output_type": "stream",
     "text": [
      "[Parallel(n_jobs=10)]: Using backend LokyBackend with 10 concurrent workers.\n",
      "[Parallel(n_jobs=10)]: Done  40 tasks      | elapsed:    0.5s\n",
      "[Parallel(n_jobs=10)]: Done 350 tasks      | elapsed:    7.6s\n",
      "[Parallel(n_jobs=10)]: Done 600 tasks      | elapsed:   14.1s\n",
      "[Parallel(n_jobs=10)]: Done 950 tasks      | elapsed:   24.2s\n",
      "[Parallel(n_jobs=10)]: Done 1400 tasks      | elapsed:   35.1s\n",
      "[Parallel(n_jobs=10)]: Done 1950 tasks      | elapsed:   49.1s\n",
      "[Parallel(n_jobs=10)]: Done 2600 tasks      | elapsed:  1.1min\n",
      "[Parallel(n_jobs=10)]: Done 3350 tasks      | elapsed:  1.4min\n",
      "[Parallel(n_jobs=10)]: Done 4200 tasks      | elapsed:  1.8min\n",
      "[Parallel(n_jobs=10)]: Done 5150 tasks      | elapsed:  2.2min\n",
      "[Parallel(n_jobs=10)]: Done 6200 tasks      | elapsed:  2.7min\n",
      "[Parallel(n_jobs=10)]: Done 7350 tasks      | elapsed:  3.2min\n",
      "[Parallel(n_jobs=10)]: Done 8600 tasks      | elapsed:  3.7min\n",
      "[Parallel(n_jobs=10)]: Done 9950 tasks      | elapsed:  4.3min\n",
      "[Parallel(n_jobs=10)]: Done 11400 tasks      | elapsed:  5.0min\n",
      "[Parallel(n_jobs=10)]: Done 12950 tasks      | elapsed:  5.7min\n",
      "[Parallel(n_jobs=10)]: Done 14600 tasks      | elapsed:  6.7min\n",
      "[Parallel(n_jobs=10)]: Done 16350 tasks      | elapsed:  9.9min\n",
      "[Parallel(n_jobs=10)]: Done 18200 tasks      | elapsed: 13.5min\n",
      "[Parallel(n_jobs=10)]: Done 20150 tasks      | elapsed: 17.2min\n",
      "[Parallel(n_jobs=10)]: Done 22200 tasks      | elapsed: 21.4min\n",
      "[Parallel(n_jobs=10)]: Done 24350 tasks      | elapsed: 25.8min\n",
      "[Parallel(n_jobs=10)]: Done 26600 tasks      | elapsed: 30.3min\n",
      "[Parallel(n_jobs=10)]: Done 28950 tasks      | elapsed: 35.2min\n",
      "[Parallel(n_jobs=10)]: Done 31400 tasks      | elapsed: 36.2min\n",
      "[Parallel(n_jobs=10)]: Done 33950 tasks      | elapsed: 37.4min\n",
      "[Parallel(n_jobs=10)]: Done 36600 tasks      | elapsed: 38.6min\n",
      "[Parallel(n_jobs=10)]: Done 39350 tasks      | elapsed: 39.9min\n",
      "[Parallel(n_jobs=10)]: Done 42200 tasks      | elapsed: 41.3min\n",
      "[Parallel(n_jobs=10)]: Done 45150 tasks      | elapsed: 45.2min\n",
      "[Parallel(n_jobs=10)]: Done 48200 tasks      | elapsed: 50.9min\n",
      "[Parallel(n_jobs=10)]: Done 51350 tasks      | elapsed: 57.2min\n",
      "[Parallel(n_jobs=10)]: Done 54600 tasks      | elapsed: 63.7min\n",
      "[Parallel(n_jobs=10)]: Done 57950 tasks      | elapsed: 70.7min\n",
      "[Parallel(n_jobs=10)]: Done 61400 tasks      | elapsed: 72.0min\n",
      "[Parallel(n_jobs=10)]: Done 64950 tasks      | elapsed: 73.4min\n",
      "[Parallel(n_jobs=10)]: Done 68600 tasks      | elapsed: 74.8min\n",
      "[Parallel(n_jobs=10)]: Done 72350 tasks      | elapsed: 77.2min\n",
      "[Parallel(n_jobs=10)]: Done 76200 tasks      | elapsed: 91.8min\n",
      "[Parallel(n_jobs=10)]: Done 80150 tasks      | elapsed: 107.5min\n",
      "[Parallel(n_jobs=10)]: Done 84200 tasks      | elapsed: 124.3min\n",
      "[Parallel(n_jobs=10)]: Done 88350 tasks      | elapsed: 134.8min\n",
      "[Parallel(n_jobs=10)]: Done 92600 tasks      | elapsed: 136.5min\n",
      "[Parallel(n_jobs=10)]: Done 96950 tasks      | elapsed: 138.4min\n",
      "[Parallel(n_jobs=10)]: Done 101400 tasks      | elapsed: 142.2min\n",
      "[Parallel(n_jobs=10)]: Done 105950 tasks      | elapsed: 159.1min\n",
      "[Parallel(n_jobs=10)]: Done 110600 tasks      | elapsed: 179.0min\n",
      "[Parallel(n_jobs=10)]: Done 115200 out of 115200 | elapsed: 199.0min finished\n"
     ]
    },
    {
     "name": "stdout",
     "output_type": "stream",
     "text": [
      "{'ExtraTrees__bootstrap': False, 'ExtraTrees__ccp_alpha': 0.0, 'ExtraTrees__criterion': 'mse', 'ExtraTrees__max_depth': 10, 'ExtraTrees__max_features': 'auto', 'ExtraTrees__max_leaf_nodes': None, 'ExtraTrees__n_estimators': 100, 'pca__n_components': 0.2, 'polynomialfeatures__degree': 1, 'scale': MinMaxScaler(), 'transform': None}\n",
      "Line end at: 2020-12-11 06:47:31.365003\n",
      "The process took: 3:19:00.463120\n"
     ]
    }
   ],
   "source": [
    "start = datetime.now()\n",
    "\n",
    "print(f'Line start at: {start}')\n",
    "steps = [\n",
    "    ('transform', PowerTransformer(method='yeo-johnson')), \n",
    "    ('scale', MinMaxScaler()), \n",
    "    ('pca', PCA(n_components=0.8)), # to remove highly correlated features\n",
    "    ('polynomialfeatures', PolynomialFeatures(degree=2)),\n",
    "    ('ExtraTrees', ExtraTreesRegressor())\n",
    "]\n",
    "pipeline = Pipeline(steps=steps)\n",
    "\n",
    "\n",
    "param_grid = {\n",
    "            'transform': [None,PowerTransformer(method='yeo-johnson')],\n",
    "            'scale': [None, StandardScaler(),MinMaxScaler()], #MinMaxScaler()\n",
    "            'pca__n_components': [0.2,0.8],\n",
    "            'polynomialfeatures__degree': [1, 2],  #[1, 2, 3, 4],\n",
    "            \"ExtraTrees__n_estimators\": [10,100],#[1,10,100,200],\n",
    "            \"ExtraTrees__max_depth\": [4,10,12,14,None],#[4,8,10,12,None]\n",
    "            \"ExtraTrees__criterion\": [\"mse\", \"mae\"],\n",
    "            \"ExtraTrees__max_features\": [\"auto\",\"log2\",\"sqrt\"],#[\"auto\",\"sqrt\",\"log2\"],\n",
    "            \"ExtraTrees__ccp_alpha\" : [0.0, 0.1],#[0.0,0.05, 0.1],\n",
    "            \"ExtraTrees__max_leaf_nodes\": [ 2, 5,10,None],#[ 2, 5, 10, None],\n",
    "            \"ExtraTrees__bootstrap\" : [True, False]\n",
    "\n",
    "}\n",
    "\n",
    "grid_11 = GridSearchCV(pipeline, param_grid=param_grid, cv=tss_cv,\n",
    "                    refit=True,verbose=VERBOSE,n_jobs = THREADS)\n",
    "\n",
    "grid_11.fit(X_train, y_train)\n",
    "end = datetime.now()\n",
    "save_model(grid_11)\n",
    "print(grid_11.best_params_)\n",
    "print(f'Line end at: {end}')\n",
    "print(f'The process took: {end - start}')"
   ]
  },
  {
   "cell_type": "markdown",
   "metadata": {},
   "source": [
    "### Ada Boost"
   ]
  },
  {
   "cell_type": "code",
   "execution_count": 54,
   "metadata": {
    "scrolled": false
   },
   "outputs": [
    {
     "name": "stdout",
     "output_type": "stream",
     "text": [
      "Line start at: 2020-12-11 06:47:31.933031\n",
      "Fitting 5 folds for each of 4860 candidates, totalling 24300 fits\n"
     ]
    },
    {
     "name": "stderr",
     "output_type": "stream",
     "text": [
      "[Parallel(n_jobs=10)]: Using backend LokyBackend with 10 concurrent workers.\n",
      "[Parallel(n_jobs=10)]: Done  40 tasks      | elapsed:    1.2s\n",
      "[Parallel(n_jobs=10)]: Done 340 tasks      | elapsed:   12.2s\n",
      "[Parallel(n_jobs=10)]: Done 630 tasks      | elapsed:   27.7s\n",
      "[Parallel(n_jobs=10)]: Done 980 tasks      | elapsed:   52.8s\n",
      "[Parallel(n_jobs=10)]: Done 1430 tasks      | elapsed:  1.4min\n",
      "[Parallel(n_jobs=10)]: Done 1980 tasks      | elapsed:  1.8min\n",
      "[Parallel(n_jobs=10)]: Done 2630 tasks      | elapsed:  2.9min\n",
      "[Parallel(n_jobs=10)]: Done 3380 tasks      | elapsed:  3.7min\n",
      "[Parallel(n_jobs=10)]: Done 4230 tasks      | elapsed:  5.8min\n",
      "[Parallel(n_jobs=10)]: Done 5180 tasks      | elapsed:  6.6min\n",
      "[Parallel(n_jobs=10)]: Done 6230 tasks      | elapsed:  7.5min\n",
      "[Parallel(n_jobs=10)]: Done 7380 tasks      | elapsed:  9.1min\n",
      "[Parallel(n_jobs=10)]: Done 8630 tasks      | elapsed: 11.4min\n",
      "[Parallel(n_jobs=10)]: Done 9980 tasks      | elapsed: 12.4min\n",
      "[Parallel(n_jobs=10)]: Done 11430 tasks      | elapsed: 14.5min\n",
      "[Parallel(n_jobs=10)]: Done 12980 tasks      | elapsed: 16.9min\n",
      "[Parallel(n_jobs=10)]: Done 14630 tasks      | elapsed: 18.5min\n",
      "[Parallel(n_jobs=10)]: Done 16380 tasks      | elapsed: 21.8min\n",
      "[Parallel(n_jobs=10)]: Done 18230 tasks      | elapsed: 23.0min\n",
      "[Parallel(n_jobs=10)]: Done 20180 tasks      | elapsed: 26.8min\n",
      "[Parallel(n_jobs=10)]: Done 22230 tasks      | elapsed: 28.3min\n",
      "[Parallel(n_jobs=10)]: Done 24300 out of 24300 | elapsed: 32.4min finished\n"
     ]
    },
    {
     "name": "stdout",
     "output_type": "stream",
     "text": [
      "{'AdaBoost__learning_rate': 0.5, 'AdaBoost__loss': 'linear', 'AdaBoost__n_estimators': 500, 'pca__n_components': 0.6, 'polynomialfeatures__degree': 1, 'scale': MinMaxScaler()}\n",
      "Line end at: 2020-12-11 07:19:59.183299\n",
      "The process took: 0:32:27.250268\n"
     ]
    }
   ],
   "source": [
    "start = datetime.now()\n",
    "\n",
    "print(f'Line start at: {start}')\n",
    "steps = [\n",
    "    ('transform', PowerTransformer(method='yeo-johnson')), \n",
    "    ('scale', MinMaxScaler()), \n",
    "    ('pca', PCA(n_components=0.8)), # to remove highly correlated features\n",
    "    ('polynomialfeatures', PolynomialFeatures(degree=2)),\n",
    "    ('AdaBoost', AdaBoostRegressor())\n",
    "]\n",
    "pipeline = Pipeline(steps=steps)\n",
    "\n",
    "\n",
    "param_grid = {\n",
    "            'scale': [None, StandardScaler(),MinMaxScaler()], #MinMaxScaler()\n",
    "            'pca__n_components': [0.2,0.5,0.6,0.8,1.0],\n",
    "            'polynomialfeatures__degree': [1, 2],  #[1, 2, 3, 4],\n",
    "            \"AdaBoost__n_estimators\": [10, 50,70, 100,200,300,400,500,1200],#[10, 50, 100,200,300,400,500,1000,1200],\n",
    "            \"AdaBoost__learning_rate\": [0.1,0.2,0.3, 0.5, 0.9,1.0],#[0.1,0.2,0.3, 0.5, 0.6, 0.7, 0.9,1.0]\n",
    "            \"AdaBoost__loss\" : [\"linear\",\"square\",\"exponential\"]\n",
    "\n",
    "}\n",
    "\n",
    "grid_12 = GridSearchCV(pipeline, param_grid=param_grid, cv=tss_cv,\n",
    "                    refit=True,verbose=VERBOSE,n_jobs = THREADS)\n",
    "\n",
    "grid_12.fit(X_train, y_train)\n",
    "end = datetime.now()\n",
    "save_model(grid_12)\n",
    "print(grid_12.best_params_)\n",
    "print(f'Line end at: {end}')\n",
    "print(f'The process took: {end - start}')"
   ]
  },
  {
   "cell_type": "markdown",
   "metadata": {},
   "source": [
    "### Gradient Boost"
   ]
  },
  {
   "cell_type": "code",
   "execution_count": 55,
   "metadata": {},
   "outputs": [
    {
     "name": "stdout",
     "output_type": "stream",
     "text": [
      "Line start at: 2020-12-11 07:19:59.764513\n",
      "Fitting 5 folds for each of 26880 candidates, totalling 134400 fits\n"
     ]
    },
    {
     "name": "stderr",
     "output_type": "stream",
     "text": [
      "[Parallel(n_jobs=10)]: Using backend LokyBackend with 10 concurrent workers.\n",
      "[Parallel(n_jobs=10)]: Done  40 tasks      | elapsed:    0.4s\n",
      "[Parallel(n_jobs=10)]: Done 620 tasks      | elapsed:    9.2s\n",
      "[Parallel(n_jobs=10)]: Done 1050 tasks      | elapsed:   20.9s\n",
      "[Parallel(n_jobs=10)]: Done 1400 tasks      | elapsed:   41.5s\n",
      "[Parallel(n_jobs=10)]: Done 1850 tasks      | elapsed:   49.0s\n",
      "[Parallel(n_jobs=10)]: Done 2400 tasks      | elapsed:  1.1min\n",
      "[Parallel(n_jobs=10)]: Done 3050 tasks      | elapsed:  1.7min\n",
      "[Parallel(n_jobs=10)]: Done 3800 tasks      | elapsed:  2.1min\n",
      "[Parallel(n_jobs=10)]: Done 4650 tasks      | elapsed:  2.9min\n",
      "[Parallel(n_jobs=10)]: Done 5600 tasks      | elapsed:  3.7min\n",
      "[Parallel(n_jobs=10)]: Done 6650 tasks      | elapsed:  4.1min\n",
      "[Parallel(n_jobs=10)]: Done 7800 tasks      | elapsed:  4.7min\n",
      "[Parallel(n_jobs=10)]: Done 9050 tasks      | elapsed:  5.6min\n",
      "[Parallel(n_jobs=10)]: Done 10400 tasks      | elapsed:  6.7min\n",
      "[Parallel(n_jobs=10)]: Done 11850 tasks      | elapsed:  7.6min\n",
      "[Parallel(n_jobs=10)]: Done 13400 tasks      | elapsed:  8.5min\n",
      "[Parallel(n_jobs=10)]: Done 15050 tasks      | elapsed:  9.6min\n",
      "[Parallel(n_jobs=10)]: Done 16800 tasks      | elapsed: 11.2min\n",
      "[Parallel(n_jobs=10)]: Done 18650 tasks      | elapsed: 12.0min\n",
      "[Parallel(n_jobs=10)]: Done 20600 tasks      | elapsed: 13.3min\n",
      "[Parallel(n_jobs=10)]: Done 23013 tasks      | elapsed: 15.1min\n",
      "[Parallel(n_jobs=10)]: Done 25690 tasks      | elapsed: 16.7min\n",
      "[Parallel(n_jobs=10)]: Done 27940 tasks      | elapsed: 18.5min\n",
      "[Parallel(n_jobs=10)]: Done 30290 tasks      | elapsed: 19.7min\n",
      "[Parallel(n_jobs=10)]: Done 32740 tasks      | elapsed: 21.6min\n",
      "[Parallel(n_jobs=10)]: Done 35290 tasks      | elapsed: 23.2min\n",
      "[Parallel(n_jobs=10)]: Done 37940 tasks      | elapsed: 25.3min\n",
      "[Parallel(n_jobs=10)]: Done 41030 tasks      | elapsed: 27.0min\n",
      "[Parallel(n_jobs=10)]: Done 43880 tasks      | elapsed: 29.1min\n",
      "[Parallel(n_jobs=10)]: Done 46830 tasks      | elapsed: 30.8min\n",
      "[Parallel(n_jobs=10)]: Done 49880 tasks      | elapsed: 33.0min\n",
      "[Parallel(n_jobs=10)]: Done 53030 tasks      | elapsed: 35.0min\n",
      "[Parallel(n_jobs=10)]: Done 56280 tasks      | elapsed: 37.5min\n",
      "[Parallel(n_jobs=10)]: Done 59630 tasks      | elapsed: 39.4min\n",
      "[Parallel(n_jobs=10)]: Done 63080 tasks      | elapsed: 41.9min\n",
      "[Parallel(n_jobs=10)]: Done 66630 tasks      | elapsed: 44.2min\n",
      "[Parallel(n_jobs=10)]: Done 70280 tasks      | elapsed: 46.6min\n",
      "[Parallel(n_jobs=10)]: Done 74030 tasks      | elapsed: 49.1min\n",
      "[Parallel(n_jobs=10)]: Done 78200 tasks      | elapsed: 52.0min\n",
      "[Parallel(n_jobs=10)]: Done 82150 tasks      | elapsed: 54.4min\n",
      "[Parallel(n_jobs=10)]: Done 86200 tasks      | elapsed: 57.1min\n",
      "[Parallel(n_jobs=10)]: Done 90350 tasks      | elapsed: 61.0min\n",
      "[Parallel(n_jobs=10)]: Done 94600 tasks      | elapsed: 110.5min\n",
      "[Parallel(n_jobs=10)]: Done 98950 tasks      | elapsed: 161.8min\n",
      "[Parallel(n_jobs=10)]: Done 103400 tasks      | elapsed: 223.1min\n",
      "[Parallel(n_jobs=10)]: Done 107950 tasks      | elapsed: 291.5min\n",
      "[Parallel(n_jobs=10)]: Done 112600 tasks      | elapsed: 353.0min\n",
      "[Parallel(n_jobs=10)]: Done 117350 tasks      | elapsed: 415.6min\n",
      "[Parallel(n_jobs=10)]: Done 122200 tasks      | elapsed: 483.7min\n",
      "[Parallel(n_jobs=10)]: Done 127150 tasks      | elapsed: 547.2min\n",
      "[Parallel(n_jobs=10)]: Done 132200 tasks      | elapsed: 620.4min\n",
      "[Parallel(n_jobs=10)]: Done 134400 out of 134400 | elapsed: 662.3min finished\n"
     ]
    },
    {
     "name": "stdout",
     "output_type": "stream",
     "text": [
      "{'GradientBoosting__criterion': 'mse', 'GradientBoosting__learning_rate': 0.5, 'GradientBoosting__loss': 'huber', 'GradientBoosting__n_estimators': 50, 'GradientBoosting__subsample': 0.9, 'pca__n_components': 0.8, 'polynomialfeatures__degree': 2, 'scale': None, 'transform': None}\n",
      "Line end at: 2020-12-11 18:22:21.255693\n",
      "The process took: 11:02:21.491180\n"
     ]
    }
   ],
   "source": [
    "start = datetime.now()\n",
    "\n",
    "print(f'Line start at: {start}')\n",
    "steps = [\n",
    "    ('transform', PowerTransformer(method='yeo-johnson')), \n",
    "    ('scale', MinMaxScaler()), \n",
    "    ('pca', PCA(n_components=0.8)), # to remove highly correlated features\n",
    "    ('polynomialfeatures', PolynomialFeatures(degree=2)),\n",
    "    ('GradientBoosting', GradientBoostingRegressor())\n",
    "]\n",
    "pipeline = Pipeline(steps=steps)\n",
    "\n",
    "\n",
    "param_grid = {\n",
    "            'transform': [None,PowerTransformer(method='yeo-johnson')],\n",
    "            'scale': [None, StandardScaler()], #MinMaxScaler()\n",
    "            'pca__n_components': [0.8],\n",
    "            'polynomialfeatures__degree': [1, 2],  #[1, 2, 3, 4],\n",
    "            \"GradientBoosting__n_estimators\": [5,10, 50, 100,250],#10, 50,\n",
    "            \"GradientBoosting__learning_rate\": [0.05,0.1,0.3, 0.5,0.7,0.8, 0.9, 1],# 0.7,0.8, 0.9, 1\n",
    "            \"GradientBoosting__loss\":['ls', 'lad','huber','quantile'],#['ls', 'lad','huber','quantile'],\n",
    "            \"GradientBoosting__criterion\":['friedman_mse', 'mse', 'mae'],\n",
    "            \"GradientBoosting__subsample\": [0.0,0.1,0.3,0.5,0.8,  0.9, 1],#\n",
    "\n",
    "}\n",
    "\n",
    "grid_13 = GridSearchCV(pipeline, param_grid=param_grid, cv=tss_cv,\n",
    "                    refit=True,verbose=VERBOSE,n_jobs = THREADS)\n",
    "\n",
    "grid_13.fit(X_train, y_train)\n",
    "end = datetime.now()\n",
    "save_model(grid_13)\n",
    "print(grid_13.best_params_)\n",
    "print(f'Line end at: {end}')\n",
    "print(f'The process took: {end - start}')"
   ]
  },
  {
   "cell_type": "markdown",
   "metadata": {},
   "source": [
    "### XGB Param Grid"
   ]
  },
  {
   "cell_type": "code",
   "execution_count": 114,
   "metadata": {},
   "outputs": [
    {
     "name": "stdout",
     "output_type": "stream",
     "text": [
      "Line start at: 2020-12-12 12:36:40.166918\n",
      "Fitting 5 folds for each of 1000 candidates, totalling 5000 fits\n"
     ]
    },
    {
     "name": "stderr",
     "output_type": "stream",
     "text": [
      "[Parallel(n_jobs=10)]: Using backend LokyBackend with 10 concurrent workers.\n",
      "[Parallel(n_jobs=10)]: Done  42 tasks      | elapsed:   20.4s\n",
      "[Parallel(n_jobs=10)]: Done 199 tasks      | elapsed:  1.5min\n",
      "[Parallel(n_jobs=10)]: Done 450 tasks      | elapsed:  7.5min\n",
      "[Parallel(n_jobs=10)]: Done 800 tasks      | elapsed: 16.4min\n",
      "[Parallel(n_jobs=10)]: Done 1250 tasks      | elapsed: 22.0min\n",
      "[Parallel(n_jobs=10)]: Done 1800 tasks      | elapsed: 34.6min\n",
      "[Parallel(n_jobs=10)]: Done 2450 tasks      | elapsed: 48.1min\n",
      "[Parallel(n_jobs=10)]: Done 3200 tasks      | elapsed: 68.3min\n",
      "[Parallel(n_jobs=10)]: Done 4050 tasks      | elapsed: 88.3min\n",
      "[Parallel(n_jobs=10)]: Done 5000 out of 5000 | elapsed: 109.5min finished\n"
     ]
    },
    {
     "name": "stdout",
     "output_type": "stream",
     "text": [
      "{'transform': None, 'scale': MinMaxScaler(), 'polynomialfeatures__degree': 1, 'pca__n_components': None, 'XGB_PG__subsample': 0.5, 'XGB_PG__n_estimators': 1100, 'XGB_PG__min_child_weight': 8, 'XGB_PG__max_depth': 100, 'XGB_PG__learning_rate': 0.01, 'XGB_PG__gamma': 0.5, 'XGB_PG__colsample_bytree': 1}\n",
      "Line end at: 2020-12-12 14:26:19.477329\n",
      "The process took: 1:49:39.310411\n"
     ]
    }
   ],
   "source": [
    "start = datetime.now()\n",
    "\n",
    "print(f'Line start at: {start}')\n",
    "steps = [\n",
    "    ('transform', PowerTransformer(method='yeo-johnson')), \n",
    "    ('scale', MinMaxScaler()), \n",
    "    ('pca', PCA(n_components=0.8)), # to remove highly correlated features\n",
    "    ('polynomialfeatures', PolynomialFeatures(degree=2)),\n",
    "    ('XGB_PG', XGBRegressor())\n",
    "]\n",
    "pipeline = Pipeline(steps=steps)\n",
    "\n",
    "\n",
    "param_grid = {\n",
    "    'transform': [None,PowerTransformer(method='yeo-johnson')],\n",
    "    'scale': [None, StandardScaler(),MinMaxScaler()], #MinMaxScaler()\n",
    "    'pca__n_components': [0.2,0.5,0.8,None],\n",
    "    'polynomialfeatures__degree': [1, 2],  #[1, 2, 3, 4],\n",
    "    'XGB_PG__max_depth': [3, 5, 8, 10,20,30,100],\n",
    "    'XGB_PG__learning_rate': [0.001, 0.01, 0.05, 0.1, 0.2],#[0.001, 0.01, 0.05, 0.1, 0.2, 0.3,0.4,0.5,0.6],\n",
    "    'XGB_PG__n_estimators': [50, 100, 200, 350, 400,500,900,1000,1100],\n",
    "    'XGB_PG__gamma': [0,0.3, 0.5,0.8, 1,1.2],\n",
    "    'XGB_PG__colsample_bytree': [1, 0.8, 0.5, 0.3],\n",
    "    'XGB_PG__subsample': [1, 0.8, 0.5],\n",
    "    'XGB_PG__min_child_weight': [1,2, 5, 8,10,12]\n",
    "}\n",
    "\n",
    "grid_14 = RandomizedSearchCV(\n",
    "                    n_iter=1000, estimator=pipeline,\n",
    "                    param_distributions=param_grid,\n",
    "                    cv=tss_cv,\n",
    "                    refit=True,verbose=VERBOSE,n_jobs = THREADS)\n",
    "\n",
    "grid_14.fit(X_train, y_train)\n",
    "end = datetime.now()\n",
    "save_model(grid_14)\n",
    "print(grid_14.best_params_)\n",
    "print(f'Line end at: {end}')\n",
    "print(f'The process took: {end - start}')"
   ]
  },
  {
   "cell_type": "markdown",
   "metadata": {},
   "source": [
    "### XGB Param Distribution"
   ]
  },
  {
   "cell_type": "code",
   "execution_count": 113,
   "metadata": {},
   "outputs": [
    {
     "name": "stdout",
     "output_type": "stream",
     "text": [
      "Line start at: 2020-12-12 12:18:00.516571\n",
      "Fitting 5 folds for each of 1000 candidates, totalling 5000 fits\n"
     ]
    },
    {
     "name": "stderr",
     "output_type": "stream",
     "text": [
      "[Parallel(n_jobs=10)]: Using backend LokyBackend with 10 concurrent workers.\n",
      "[Parallel(n_jobs=10)]: Done  30 tasks      | elapsed:    7.1s\n",
      "[Parallel(n_jobs=10)]: Done 180 tasks      | elapsed:   37.0s\n",
      "[Parallel(n_jobs=10)]: Done 430 tasks      | elapsed:  1.6min\n",
      "[Parallel(n_jobs=10)]: Done 780 tasks      | elapsed:  2.9min\n",
      "[Parallel(n_jobs=10)]: Done 1230 tasks      | elapsed:  4.5min\n",
      "[Parallel(n_jobs=10)]: Done 1780 tasks      | elapsed:  6.5min\n",
      "[Parallel(n_jobs=10)]: Done 2430 tasks      | elapsed:  8.9min\n",
      "[Parallel(n_jobs=10)]: Done 3180 tasks      | elapsed: 11.7min\n",
      "[Parallel(n_jobs=10)]: Done 4030 tasks      | elapsed: 15.0min\n",
      "[Parallel(n_jobs=10)]: Done 4980 tasks      | elapsed: 18.5min\n",
      "[Parallel(n_jobs=10)]: Done 5000 out of 5000 | elapsed: 18.6min finished\n"
     ]
    },
    {
     "name": "stdout",
     "output_type": "stream",
     "text": [
      "{'XGB_PD__colsample_bytree': 0.8569795056194531, 'XGB_PD__gamma': 0.7911738554668034, 'XGB_PD__learning_rate': 0.023644714182442243, 'XGB_PD__max_depth': 5, 'XGB_PD__min_child_weight': 1, 'XGB_PD__n_estimators': 381, 'XGB_PD__subsample': 0.928111377151126, 'pca__n_components': 0.8, 'polynomialfeatures__degree': 3, 'scale': MinMaxScaler(), 'transform': None}\n",
      "Line end at: 2020-12-12 12:36:38.764113\n",
      "The process took: 0:18:38.247542\n"
     ]
    }
   ],
   "source": [
    "start = datetime.now()\n",
    "\n",
    "print(f'Line start at: {start}')\n",
    "steps = [\n",
    "    ('transform', PowerTransformer(method='yeo-johnson')), \n",
    "    ('scale', MinMaxScaler()), \n",
    "    ('pca', PCA(n_components=0.8)), # to remove highly correlated features\n",
    "    ('polynomialfeatures', PolynomialFeatures(degree=2)),\n",
    "    ('XGB_PD', XGBRegressor())\n",
    "]\n",
    "pipeline = Pipeline(steps=steps)\n",
    "\n",
    "\n",
    "param_distribution = {\n",
    "    'transform': [None,PowerTransformer(method='yeo-johnson')],\n",
    "    'scale': [None, StandardScaler(),MinMaxScaler()], #MinMaxScaler()\n",
    "    'pca__n_components': [0.2,0.5,0.8],\n",
    "    'polynomialfeatures__degree': [1, 2,3],  #[1, 2, 3, 4],\n",
    "    'XGB_PD__max_depth': randint(3, 15),\n",
    "    'XGB_PD__learning_rate': uniform(0.001, 0.1-0.001),\n",
    "    'XGB_PD__n_estimators': randint(300, 1600),\n",
    "    'XGB_PD__gamma': uniform(0,2.1),\n",
    "    'XGB_PD__colsample_bytree': uniform(0.5, 0.5),\n",
    "    'XGB_PD__subsample': uniform(0.5, 0.5),\n",
    "    'XGB_PD__min_child_weight': randint(1, 12)\n",
    "}\n",
    "\n",
    "grid_15 = RandomizedSearchCV(\n",
    "                    n_iter=1000, estimator=pipeline,\n",
    "                    param_distributions=param_distribution,\n",
    "                    cv=tss_cv,\n",
    "                    refit=True,verbose=VERBOSE,n_jobs = THREADS)\n",
    "\n",
    "grid_15.fit(X_train, y_train)\n",
    "end = datetime.now()\n",
    "save_model(grid_15)\n",
    "print(grid_15.best_params_)\n",
    "print(f'Line end at: {end}')\n",
    "print(f'The process took: {end - start}')"
   ]
  },
  {
   "cell_type": "markdown",
   "metadata": {},
   "source": [
    "### MLPRegressor"
   ]
  },
  {
   "cell_type": "code",
   "execution_count": 58,
   "metadata": {},
   "outputs": [
    {
     "name": "stdout",
     "output_type": "stream",
     "text": [
      "Line start at: 2020-12-11 18:43:00.734401\n",
      "Fitting 5 folds for each of 3600 candidates, totalling 18000 fits\n"
     ]
    },
    {
     "name": "stderr",
     "output_type": "stream",
     "text": [
      "[Parallel(n_jobs=10)]: Using backend LokyBackend with 10 concurrent workers.\n",
      "[Parallel(n_jobs=10)]: Done  30 tasks      | elapsed:   31.0s\n",
      "[Parallel(n_jobs=10)]: Done 180 tasks      | elapsed:  3.4min\n",
      "[Parallel(n_jobs=10)]: Done 430 tasks      | elapsed:  8.3min\n",
      "[Parallel(n_jobs=10)]: Done 780 tasks      | elapsed: 16.3min\n",
      "[Parallel(n_jobs=10)]: Done 1230 tasks      | elapsed: 23.3min\n",
      "[Parallel(n_jobs=10)]: Done 1780 tasks      | elapsed: 36.4min\n",
      "[Parallel(n_jobs=10)]: Done 2430 tasks      | elapsed: 48.7min\n",
      "[Parallel(n_jobs=10)]: Done 3180 tasks      | elapsed: 64.5min\n",
      "[Parallel(n_jobs=10)]: Done 4030 tasks      | elapsed: 81.5min\n",
      "[Parallel(n_jobs=10)]: Done 4980 tasks      | elapsed: 94.2min\n",
      "[Parallel(n_jobs=10)]: Done 6030 tasks      | elapsed: 100.3min\n",
      "[Parallel(n_jobs=10)]: Done 7180 tasks      | elapsed: 107.0min\n",
      "[Parallel(n_jobs=10)]: Done 8430 tasks      | elapsed: 113.7min\n",
      "[Parallel(n_jobs=10)]: Done 9780 tasks      | elapsed: 138.4min\n",
      "[Parallel(n_jobs=10)]: Done 11230 tasks      | elapsed: 172.8min\n",
      "[Parallel(n_jobs=10)]: Done 12780 tasks      | elapsed: 206.1min\n",
      "[Parallel(n_jobs=10)]: Done 14430 tasks      | elapsed: 246.0min\n",
      "[Parallel(n_jobs=10)]: Done 16180 tasks      | elapsed: 286.4min\n",
      "[Parallel(n_jobs=10)]: Done 18000 out of 18000 | elapsed: 327.2min finished\n"
     ]
    },
    {
     "name": "stdout",
     "output_type": "stream",
     "text": [
      "{'MLPRegressor__activation': 'identity', 'MLPRegressor__alpha': 0.1, 'MLPRegressor__hidden_layer_sizes': (100, 200, 100), 'pca__n_components': 0.8, 'polynomialfeatures__degree': 2, 'scale': StandardScaler(), 'transform': None}\n",
      "Line end at: 2020-12-12 00:10:18.178401\n",
      "The process took: 5:27:17.444000\n"
     ]
    }
   ],
   "source": [
    "start = datetime.now()\n",
    "\n",
    "print(f'Line start at: {start}')\n",
    "steps = [\n",
    "    ('transform', PowerTransformer(method='yeo-johnson')), \n",
    "    ('scale', MinMaxScaler()), \n",
    "    ('pca', PCA(n_components=0.8)), # to remove highly correlated features\n",
    "    ('polynomialfeatures', PolynomialFeatures(degree=2)),\n",
    "    ('MLPRegressor', MLPRegressor(hidden_layer_sizes=(100,100,100),activation='tanh',alpha=0.0001))\n",
    "]\n",
    "pipeline = Pipeline(steps=steps)\n",
    "\n",
    "\n",
    "param_grid = {\n",
    "            'transform': [None,PowerTransformer(method='yeo-johnson')],\n",
    "            'scale': [None, StandardScaler(),MinMaxScaler()], #MinMaxScaler()\n",
    "            'pca__n_components': [0.2,0.5,0.8],\n",
    "            'polynomialfeatures__degree': [1, 2],  #[1, 2, 3, 4],\n",
    "            'MLPRegressor__hidden_layer_sizes': [(100,100,100),(100,200,100),(50,300,50)],#,(100,200,100),(50,100,20),(50,300,10)\n",
    "            'MLPRegressor__alpha': [0.01, 0.1,1,2,10,20],\n",
    "            'MLPRegressor__activation': ['relu','identity','logistic','tanh'],\n",
    "            #'MLPRegressor__solver': ['lbfgs','sgd','adam'],\n",
    "            #'MLPRegressor__learning_rate': ['constant','invscaling','adaptive'],\n",
    "            #'MLPRegressor__max_iter': [200,300,150],\n",
    "    \n",
    "}\n",
    "\n",
    "grid_16 = GridSearchCV(pipeline, param_grid=param_grid, cv=tss_cv,\n",
    "                    refit=True,verbose=VERBOSE,n_jobs = THREADS)\n",
    "\n",
    "grid_16.fit(X_train, y_train)\n",
    "end = datetime.now()\n",
    "save_model(grid_16)\n",
    "print(grid_16.best_params_)\n",
    "print(f'Line end at: {end}')\n",
    "print(f'The process took: {end - start}')"
   ]
  },
  {
   "cell_type": "markdown",
   "metadata": {},
   "source": [
    "## METRICS"
   ]
  },
  {
   "cell_type": "markdown",
   "metadata": {},
   "source": [
    "### Read Models from files"
   ]
  },
  {
   "cell_type": "markdown",
   "metadata": {},
   "source": [
    "Unfortunately, at the early stage of the project, I did not save the learned models for comparison, so I leave the tables of results from the early stages of learning."
   ]
  },
  {
   "cell_type": "code",
   "execution_count": 439,
   "metadata": {},
   "outputs": [
    {
     "name": "stdout",
     "output_type": "stream",
     "text": [
      "['Models/Features\\\\ElasticNet_features.pkl', 'Models/Features\\\\lasso_features.pkl', 'Models/Features\\\\lr_features.pkl', 'Models/Features\\\\ridge_features.pkl']\n"
     ]
    },
    {
     "data": {
      "text/html": [
       "<div>\n",
       "<style scoped>\n",
       "    .dataframe tbody tr th:only-of-type {\n",
       "        vertical-align: middle;\n",
       "    }\n",
       "\n",
       "    .dataframe tbody tr th {\n",
       "        vertical-align: top;\n",
       "    }\n",
       "\n",
       "    .dataframe thead th {\n",
       "        text-align: right;\n",
       "    }\n",
       "</style>\n",
       "<table border=\"1\" class=\"dataframe\">\n",
       "  <thead>\n",
       "    <tr style=\"text-align: right;\">\n",
       "      <th></th>\n",
       "      <th>Method</th>\n",
       "      <th>r2</th>\n",
       "      <th>explained_variance_score</th>\n",
       "      <th>median_absolute_error</th>\n",
       "      <th>mean_squared_error</th>\n",
       "      <th>mean_absolute_error</th>\n",
       "    </tr>\n",
       "  </thead>\n",
       "  <tbody>\n",
       "    <tr>\n",
       "      <th>1</th>\n",
       "      <td>lasso_features</td>\n",
       "      <td>0.939317</td>\n",
       "      <td>0.939668</td>\n",
       "      <td>114.541327</td>\n",
       "      <td>234.888519</td>\n",
       "      <td>163.295012</td>\n",
       "    </tr>\n",
       "    <tr>\n",
       "      <th>3</th>\n",
       "      <td>ridge_features</td>\n",
       "      <td>0.928056</td>\n",
       "      <td>0.930379</td>\n",
       "      <td>126.574876</td>\n",
       "      <td>255.754103</td>\n",
       "      <td>180.253655</td>\n",
       "    </tr>\n",
       "    <tr>\n",
       "      <th>2</th>\n",
       "      <td>lr_features</td>\n",
       "      <td>0.906339</td>\n",
       "      <td>0.906346</td>\n",
       "      <td>175.485504</td>\n",
       "      <td>291.814287</td>\n",
       "      <td>219.701301</td>\n",
       "    </tr>\n",
       "    <tr>\n",
       "      <th>0</th>\n",
       "      <td>ElasticNet_features</td>\n",
       "      <td>0.807984</td>\n",
       "      <td>0.842781</td>\n",
       "      <td>173.971537</td>\n",
       "      <td>417.826299</td>\n",
       "      <td>284.064182</td>\n",
       "    </tr>\n",
       "  </tbody>\n",
       "</table>\n",
       "</div>"
      ],
      "text/plain": [
       "                Method        r2  explained_variance_score  \\\n",
       "1       lasso_features  0.939317                  0.939668   \n",
       "3       ridge_features  0.928056                  0.930379   \n",
       "2          lr_features  0.906339                  0.906346   \n",
       "0  ElasticNet_features  0.807984                  0.842781   \n",
       "\n",
       "   median_absolute_error  mean_squared_error  mean_absolute_error  \n",
       "1             114.541327          234.888519           163.295012  \n",
       "3             126.574876          255.754103           180.253655  \n",
       "2             175.485504          291.814287           219.701301  \n",
       "0             173.971537          417.826299           284.064182  "
      ]
     },
     "execution_count": 439,
     "metadata": {},
     "output_type": "execute_result"
    }
   ],
   "source": [
    "#Basic models settings "
   ]
  },
  {
   "cell_type": "code",
   "execution_count": 563,
   "metadata": {
    "scrolled": false
   },
   "outputs": [
    {
     "name": "stdout",
     "output_type": "stream",
     "text": [
      "['Models/Features\\\\ElasticNet_features.pkl', 'Models/Features\\\\lasso_features.pkl', 'Models/Features\\\\lr_features.pkl', 'Models/Features\\\\MLPRegressor_features.pkl', 'Models/Features\\\\ridge_features.pkl']\n"
     ]
    },
    {
     "data": {
      "text/html": [
       "<div>\n",
       "<style scoped>\n",
       "    .dataframe tbody tr th:only-of-type {\n",
       "        vertical-align: middle;\n",
       "    }\n",
       "\n",
       "    .dataframe tbody tr th {\n",
       "        vertical-align: top;\n",
       "    }\n",
       "\n",
       "    .dataframe thead th {\n",
       "        text-align: right;\n",
       "    }\n",
       "</style>\n",
       "<table border=\"1\" class=\"dataframe\">\n",
       "  <thead>\n",
       "    <tr style=\"text-align: right;\">\n",
       "      <th></th>\n",
       "      <th>Method</th>\n",
       "      <th>r2</th>\n",
       "      <th>explained_variance_score</th>\n",
       "      <th>median_absolute_error</th>\n",
       "      <th>mean_squared_error</th>\n",
       "      <th>mean_absolute_error</th>\n",
       "    </tr>\n",
       "  </thead>\n",
       "  <tbody>\n",
       "    <tr>\n",
       "      <th>0</th>\n",
       "      <td>ElasticNet_features</td>\n",
       "      <td>0.866803</td>\n",
       "      <td>0.926996</td>\n",
       "      <td>221.781892</td>\n",
       "      <td>347.996058</td>\n",
       "      <td>269.921886</td>\n",
       "    </tr>\n",
       "    <tr>\n",
       "      <th>2</th>\n",
       "      <td>lr_features</td>\n",
       "      <td>0.829860</td>\n",
       "      <td>0.908188</td>\n",
       "      <td>265.650074</td>\n",
       "      <td>393.305207</td>\n",
       "      <td>316.103094</td>\n",
       "    </tr>\n",
       "    <tr>\n",
       "      <th>4</th>\n",
       "      <td>ridge_features</td>\n",
       "      <td>0.828272</td>\n",
       "      <td>0.907972</td>\n",
       "      <td>266.951866</td>\n",
       "      <td>395.136341</td>\n",
       "      <td>317.460937</td>\n",
       "    </tr>\n",
       "    <tr>\n",
       "      <th>1</th>\n",
       "      <td>lasso_features</td>\n",
       "      <td>0.799662</td>\n",
       "      <td>0.907213</td>\n",
       "      <td>296.139384</td>\n",
       "      <td>426.784069</td>\n",
       "      <td>345.538678</td>\n",
       "    </tr>\n",
       "    <tr>\n",
       "      <th>3</th>\n",
       "      <td>MLPRegressor_features</td>\n",
       "      <td>0.754742</td>\n",
       "      <td>0.920341</td>\n",
       "      <td>401.015618</td>\n",
       "      <td>472.213185</td>\n",
       "      <td>409.617597</td>\n",
       "    </tr>\n",
       "  </tbody>\n",
       "</table>\n",
       "</div>"
      ],
      "text/plain": [
       "                  Method        r2  explained_variance_score  \\\n",
       "0    ElasticNet_features  0.866803                  0.926996   \n",
       "2            lr_features  0.829860                  0.908188   \n",
       "4         ridge_features  0.828272                  0.907972   \n",
       "1         lasso_features  0.799662                  0.907213   \n",
       "3  MLPRegressor_features  0.754742                  0.920341   \n",
       "\n",
       "   median_absolute_error  mean_squared_error  mean_absolute_error  \n",
       "0             221.781892          347.996058           269.921886  \n",
       "2             265.650074          393.305207           316.103094  \n",
       "4             266.951866          395.136341           317.460937  \n",
       "1             296.139384          426.784069           345.538678  \n",
       "3             401.015618          472.213185           409.617597  "
      ]
     },
     "execution_count": 563,
     "metadata": {},
     "output_type": "execute_result"
    }
   ],
   "source": [
    "#Historical data"
   ]
  },
  {
   "cell_type": "code",
   "execution_count": 590,
   "metadata": {},
   "outputs": [
    {
     "name": "stdout",
     "output_type": "stream",
     "text": [
      "['Models/Features\\\\ElasticNet_features.pkl', 'Models/Features\\\\lasso_features.pkl', 'Models/Features\\\\lr_features.pkl', 'Models/Features\\\\MLPRegressor_features.pkl', 'Models/Features\\\\ridge_features.pkl', 'Models/Features\\\\XGB_PG_features.pkl']\n"
     ]
    },
    {
     "data": {
      "text/html": [
       "<div>\n",
       "<style scoped>\n",
       "    .dataframe tbody tr th:only-of-type {\n",
       "        vertical-align: middle;\n",
       "    }\n",
       "\n",
       "    .dataframe tbody tr th {\n",
       "        vertical-align: top;\n",
       "    }\n",
       "\n",
       "    .dataframe thead th {\n",
       "        text-align: right;\n",
       "    }\n",
       "</style>\n",
       "<table border=\"1\" class=\"dataframe\">\n",
       "  <thead>\n",
       "    <tr style=\"text-align: right;\">\n",
       "      <th></th>\n",
       "      <th>Method</th>\n",
       "      <th>r2</th>\n",
       "      <th>explained_variance_score</th>\n",
       "      <th>median_absolute_error</th>\n",
       "      <th>mean_squared_error</th>\n",
       "      <th>mean_absolute_error</th>\n",
       "    </tr>\n",
       "  </thead>\n",
       "  <tbody>\n",
       "    <tr>\n",
       "      <th>5</th>\n",
       "      <td>XGB_PG_features</td>\n",
       "      <td>8.463031e-01</td>\n",
       "      <td>8.702956e-01</td>\n",
       "      <td>197.263672</td>\n",
       "      <td>3.738170e+02</td>\n",
       "      <td>2.800268e+02</td>\n",
       "    </tr>\n",
       "    <tr>\n",
       "      <th>2</th>\n",
       "      <td>lr_features</td>\n",
       "      <td>-2.898881e+06</td>\n",
       "      <td>-2.585823e+06</td>\n",
       "      <td>859.525812</td>\n",
       "      <td>1.623461e+06</td>\n",
       "      <td>5.347362e+05</td>\n",
       "    </tr>\n",
       "    <tr>\n",
       "      <th>4</th>\n",
       "      <td>ridge_features</td>\n",
       "      <td>-2.898919e+06</td>\n",
       "      <td>-2.585857e+06</td>\n",
       "      <td>859.306127</td>\n",
       "      <td>1.623471e+06</td>\n",
       "      <td>5.347397e+05</td>\n",
       "    </tr>\n",
       "    <tr>\n",
       "      <th>1</th>\n",
       "      <td>lasso_features</td>\n",
       "      <td>-2.899859e+06</td>\n",
       "      <td>-2.586695e+06</td>\n",
       "      <td>857.342516</td>\n",
       "      <td>1.623735e+06</td>\n",
       "      <td>5.348255e+05</td>\n",
       "    </tr>\n",
       "    <tr>\n",
       "      <th>0</th>\n",
       "      <td>ElasticNet_features</td>\n",
       "      <td>-5.262896e+10</td>\n",
       "      <td>-4.741755e+10</td>\n",
       "      <td>467.933084</td>\n",
       "      <td>2.187454e+08</td>\n",
       "      <td>6.883490e+07</td>\n",
       "    </tr>\n",
       "    <tr>\n",
       "      <th>3</th>\n",
       "      <td>MLPRegressor_features</td>\n",
       "      <td>-4.995212e+15</td>\n",
       "      <td>-4.500757e+15</td>\n",
       "      <td>7981.002322</td>\n",
       "      <td>6.739124e+10</td>\n",
       "      <td>2.120263e+10</td>\n",
       "    </tr>\n",
       "  </tbody>\n",
       "</table>\n",
       "</div>"
      ],
      "text/plain": [
       "                  Method            r2  explained_variance_score  \\\n",
       "5        XGB_PG_features  8.463031e-01              8.702956e-01   \n",
       "2            lr_features -2.898881e+06             -2.585823e+06   \n",
       "4         ridge_features -2.898919e+06             -2.585857e+06   \n",
       "1         lasso_features -2.899859e+06             -2.586695e+06   \n",
       "0    ElasticNet_features -5.262896e+10             -4.741755e+10   \n",
       "3  MLPRegressor_features -4.995212e+15             -4.500757e+15   \n",
       "\n",
       "   median_absolute_error  mean_squared_error  mean_absolute_error  \n",
       "5             197.263672        3.738170e+02         2.800268e+02  \n",
       "2             859.525812        1.623461e+06         5.347362e+05  \n",
       "4             859.306127        1.623471e+06         5.347397e+05  \n",
       "1             857.342516        1.623735e+06         5.348255e+05  \n",
       "0             467.933084        2.187454e+08         6.883490e+07  \n",
       "3            7981.002322        6.739124e+10         2.120263e+10  "
      ]
     },
     "execution_count": 590,
     "metadata": {},
     "output_type": "execute_result"
    }
   ],
   "source": [
    "# Models with extra features PCA and Scaling"
   ]
  },
  {
   "cell_type": "code",
   "execution_count": 630,
   "metadata": {
    "scrolled": true
   },
   "outputs": [
    {
     "name": "stdout",
     "output_type": "stream",
     "text": [
      "['Models/Features\\\\ElasticNet_features.pkl', 'Models/Features\\\\lasso_features.pkl', 'Models/Features\\\\lr_features.pkl', 'Models/Features\\\\MLPRegressor_features.pkl', 'Models/Features\\\\ridge_features.pkl', 'Models/Features\\\\XGB_PG_features.pkl']\n"
     ]
    },
    {
     "data": {
      "text/html": [
       "<div>\n",
       "<style scoped>\n",
       "    .dataframe tbody tr th:only-of-type {\n",
       "        vertical-align: middle;\n",
       "    }\n",
       "\n",
       "    .dataframe tbody tr th {\n",
       "        vertical-align: top;\n",
       "    }\n",
       "\n",
       "    .dataframe thead th {\n",
       "        text-align: right;\n",
       "    }\n",
       "</style>\n",
       "<table border=\"1\" class=\"dataframe\">\n",
       "  <thead>\n",
       "    <tr style=\"text-align: right;\">\n",
       "      <th></th>\n",
       "      <th>Method</th>\n",
       "      <th>r2</th>\n",
       "      <th>explained_variance_score</th>\n",
       "      <th>median_absolute_error</th>\n",
       "      <th>mean_squared_error</th>\n",
       "      <th>mean_absolute_error</th>\n",
       "    </tr>\n",
       "  </thead>\n",
       "  <tbody>\n",
       "    <tr>\n",
       "      <th>2</th>\n",
       "      <td>lr_features</td>\n",
       "      <td>0.847930</td>\n",
       "      <td>0.869863</td>\n",
       "      <td>278.068856</td>\n",
       "      <td>371.833911</td>\n",
       "      <td>301.445634</td>\n",
       "    </tr>\n",
       "    <tr>\n",
       "      <th>0</th>\n",
       "      <td>ElasticNet_features</td>\n",
       "      <td>0.742464</td>\n",
       "      <td>0.748943</td>\n",
       "      <td>205.981275</td>\n",
       "      <td>483.888457</td>\n",
       "      <td>323.807147</td>\n",
       "    </tr>\n",
       "    <tr>\n",
       "      <th>5</th>\n",
       "      <td>XGB_PG_features</td>\n",
       "      <td>-0.348955</td>\n",
       "      <td>-0.169790</td>\n",
       "      <td>291.714844</td>\n",
       "      <td>1107.453070</td>\n",
       "      <td>700.937611</td>\n",
       "    </tr>\n",
       "    <tr>\n",
       "      <th>3</th>\n",
       "      <td>MLPRegressor_features</td>\n",
       "      <td>-0.552869</td>\n",
       "      <td>0.466368</td>\n",
       "      <td>702.471414</td>\n",
       "      <td>1188.211910</td>\n",
       "      <td>963.442466</td>\n",
       "    </tr>\n",
       "    <tr>\n",
       "      <th>4</th>\n",
       "      <td>ridge_features</td>\n",
       "      <td>-2.789042</td>\n",
       "      <td>-0.231945</td>\n",
       "      <td>1093.410053</td>\n",
       "      <td>1856.056694</td>\n",
       "      <td>1525.359418</td>\n",
       "    </tr>\n",
       "    <tr>\n",
       "      <th>1</th>\n",
       "      <td>lasso_features</td>\n",
       "      <td>-2.804390</td>\n",
       "      <td>-0.236040</td>\n",
       "      <td>1096.022028</td>\n",
       "      <td>1859.812014</td>\n",
       "      <td>1528.704695</td>\n",
       "    </tr>\n",
       "  </tbody>\n",
       "</table>\n",
       "</div>"
      ],
      "text/plain": [
       "                  Method        r2  explained_variance_score  \\\n",
       "2            lr_features  0.847930                  0.869863   \n",
       "0    ElasticNet_features  0.742464                  0.748943   \n",
       "5        XGB_PG_features -0.348955                 -0.169790   \n",
       "3  MLPRegressor_features -0.552869                  0.466368   \n",
       "4         ridge_features -2.789042                 -0.231945   \n",
       "1         lasso_features -2.804390                 -0.236040   \n",
       "\n",
       "   median_absolute_error  mean_squared_error  mean_absolute_error  \n",
       "2             278.068856          371.833911           301.445634  \n",
       "0             205.981275          483.888457           323.807147  \n",
       "5             291.714844         1107.453070           700.937611  \n",
       "3             702.471414         1188.211910           963.442466  \n",
       "4            1093.410053         1856.056694          1525.359418  \n",
       "1            1096.022028         1859.812014          1528.704695  "
      ]
     },
     "execution_count": 630,
     "metadata": {},
     "output_type": "execute_result"
    }
   ],
   "source": [
    "# Testing different features and PCA settings"
   ]
  },
  {
   "cell_type": "markdown",
   "metadata": {},
   "source": [
    "### Loading results"
   ]
  },
  {
   "cell_type": "code",
   "execution_count": 139,
   "metadata": {},
   "outputs": [],
   "source": []
  },
  {
   "cell_type": "code",
   "execution_count": 129,
   "metadata": {
    "scrolled": false
   },
   "outputs": [
    {
     "name": "stdout",
     "output_type": "stream",
     "text": [
      "Model index 0: AdaBoost_features\n",
      "Model index 1: BaggingRegressor_Ridge_features\n",
      "Model index 2: BaggingRegressor_tree_features\n",
      "Model index 3: ElasticNet_2020_12_12_16_51_21\n",
      "Model index 4: ElasticNet_features\n",
      "Model index 5: ExtraTrees_features\n",
      "Model index 6: GradientBoosting_features\n",
      "Model index 7: knn_features\n",
      "Model index 8: lasso_features\n",
      "Model index 9: lr_features\n",
      "Model index 10: lr_features_None_PCA\n",
      "Model index 11: MLPRegressor_features\n",
      "Model index 12: rf_features\n",
      "Model index 13: ridge_features\n",
      "Model index 14: svr_features\n",
      "Model index 15: tree_features\n",
      "Model index 16: XGB_PD_2020_12_12_12_36_38\n",
      "Model index 17: XGB_PD_features\n",
      "Model index 18: XGB_PG_2020_12_12_14_26_19\n",
      "Model index 19: XGB_PG_features\n"
     ]
    },
    {
     "data": {
      "text/html": [
       "<div>\n",
       "<style scoped>\n",
       "    .dataframe tbody tr th:only-of-type {\n",
       "        vertical-align: middle;\n",
       "    }\n",
       "\n",
       "    .dataframe tbody tr th {\n",
       "        vertical-align: top;\n",
       "    }\n",
       "\n",
       "    .dataframe thead th {\n",
       "        text-align: right;\n",
       "    }\n",
       "</style>\n",
       "<table border=\"1\" class=\"dataframe\">\n",
       "  <thead>\n",
       "    <tr style=\"text-align: right;\">\n",
       "      <th></th>\n",
       "      <th>Method</th>\n",
       "      <th>r2</th>\n",
       "      <th>explained_variance_score</th>\n",
       "      <th>median_absolute_error</th>\n",
       "      <th>mean_squared_error</th>\n",
       "      <th>mean_absolute_error</th>\n",
       "    </tr>\n",
       "  </thead>\n",
       "  <tbody>\n",
       "    <tr>\n",
       "      <th>10</th>\n",
       "      <td>lr_features_None_PCA</td>\n",
       "      <td>0.997160</td>\n",
       "      <td>0.997163</td>\n",
       "      <td>26.336822</td>\n",
       "      <td>50.676823</td>\n",
       "      <td>36.252926</td>\n",
       "    </tr>\n",
       "    <tr>\n",
       "      <th>3</th>\n",
       "      <td>ElasticNet_2020_12_12_16_51_21</td>\n",
       "      <td>0.995959</td>\n",
       "      <td>0.995968</td>\n",
       "      <td>32.513976</td>\n",
       "      <td>60.455324</td>\n",
       "      <td>43.813032</td>\n",
       "    </tr>\n",
       "    <tr>\n",
       "      <th>18</th>\n",
       "      <td>XGB_PG_2020_12_12_14_26_19</td>\n",
       "      <td>0.993240</td>\n",
       "      <td>0.993244</td>\n",
       "      <td>48.296875</td>\n",
       "      <td>78.193053</td>\n",
       "      <td>58.268507</td>\n",
       "    </tr>\n",
       "    <tr>\n",
       "      <th>14</th>\n",
       "      <td>svr_features</td>\n",
       "      <td>0.937659</td>\n",
       "      <td>0.940609</td>\n",
       "      <td>137.040547</td>\n",
       "      <td>237.450856</td>\n",
       "      <td>175.963331</td>\n",
       "    </tr>\n",
       "    <tr>\n",
       "      <th>1</th>\n",
       "      <td>BaggingRegressor_Ridge_features</td>\n",
       "      <td>0.935907</td>\n",
       "      <td>0.936314</td>\n",
       "      <td>132.650267</td>\n",
       "      <td>240.764137</td>\n",
       "      <td>170.352320</td>\n",
       "    </tr>\n",
       "    <tr>\n",
       "      <th>9</th>\n",
       "      <td>lr_features</td>\n",
       "      <td>0.935823</td>\n",
       "      <td>0.936278</td>\n",
       "      <td>132.551078</td>\n",
       "      <td>240.921425</td>\n",
       "      <td>170.532260</td>\n",
       "    </tr>\n",
       "    <tr>\n",
       "      <th>8</th>\n",
       "      <td>lasso_features</td>\n",
       "      <td>0.935797</td>\n",
       "      <td>0.936302</td>\n",
       "      <td>132.288639</td>\n",
       "      <td>240.970478</td>\n",
       "      <td>170.452915</td>\n",
       "    </tr>\n",
       "    <tr>\n",
       "      <th>13</th>\n",
       "      <td>ridge_features</td>\n",
       "      <td>0.935776</td>\n",
       "      <td>0.936273</td>\n",
       "      <td>132.524216</td>\n",
       "      <td>241.010425</td>\n",
       "      <td>170.546005</td>\n",
       "    </tr>\n",
       "    <tr>\n",
       "      <th>11</th>\n",
       "      <td>MLPRegressor_features</td>\n",
       "      <td>0.934123</td>\n",
       "      <td>0.934929</td>\n",
       "      <td>145.747585</td>\n",
       "      <td>244.092161</td>\n",
       "      <td>180.632944</td>\n",
       "    </tr>\n",
       "    <tr>\n",
       "      <th>4</th>\n",
       "      <td>ElasticNet_features</td>\n",
       "      <td>0.933362</td>\n",
       "      <td>0.933409</td>\n",
       "      <td>135.236485</td>\n",
       "      <td>245.498786</td>\n",
       "      <td>173.775489</td>\n",
       "    </tr>\n",
       "    <tr>\n",
       "      <th>16</th>\n",
       "      <td>XGB_PD_2020_12_12_12_36_38</td>\n",
       "      <td>0.930062</td>\n",
       "      <td>0.932727</td>\n",
       "      <td>134.250000</td>\n",
       "      <td>251.502935</td>\n",
       "      <td>178.801424</td>\n",
       "    </tr>\n",
       "    <tr>\n",
       "      <th>5</th>\n",
       "      <td>ExtraTrees_features</td>\n",
       "      <td>0.928664</td>\n",
       "      <td>0.930021</td>\n",
       "      <td>138.667450</td>\n",
       "      <td>254.004546</td>\n",
       "      <td>179.475986</td>\n",
       "    </tr>\n",
       "    <tr>\n",
       "      <th>19</th>\n",
       "      <td>XGB_PG_features</td>\n",
       "      <td>0.926444</td>\n",
       "      <td>0.927002</td>\n",
       "      <td>138.441406</td>\n",
       "      <td>257.927111</td>\n",
       "      <td>183.009572</td>\n",
       "    </tr>\n",
       "    <tr>\n",
       "      <th>17</th>\n",
       "      <td>XGB_PD_features</td>\n",
       "      <td>0.924679</td>\n",
       "      <td>0.924844</td>\n",
       "      <td>145.109375</td>\n",
       "      <td>261.002322</td>\n",
       "      <td>187.272146</td>\n",
       "    </tr>\n",
       "    <tr>\n",
       "      <th>12</th>\n",
       "      <td>rf_features</td>\n",
       "      <td>0.921916</td>\n",
       "      <td>0.922941</td>\n",
       "      <td>150.336667</td>\n",
       "      <td>265.747532</td>\n",
       "      <td>192.538772</td>\n",
       "    </tr>\n",
       "    <tr>\n",
       "      <th>6</th>\n",
       "      <td>GradientBoosting_features</td>\n",
       "      <td>0.921503</td>\n",
       "      <td>0.922606</td>\n",
       "      <td>140.006431</td>\n",
       "      <td>266.448228</td>\n",
       "      <td>186.480877</td>\n",
       "    </tr>\n",
       "    <tr>\n",
       "      <th>2</th>\n",
       "      <td>BaggingRegressor_tree_features</td>\n",
       "      <td>0.920691</td>\n",
       "      <td>0.922815</td>\n",
       "      <td>140.050000</td>\n",
       "      <td>267.822901</td>\n",
       "      <td>189.880255</td>\n",
       "    </tr>\n",
       "    <tr>\n",
       "      <th>15</th>\n",
       "      <td>tree_features</td>\n",
       "      <td>0.920145</td>\n",
       "      <td>0.920300</td>\n",
       "      <td>160.550000</td>\n",
       "      <td>268.743641</td>\n",
       "      <td>194.716362</td>\n",
       "    </tr>\n",
       "    <tr>\n",
       "      <th>7</th>\n",
       "      <td>knn_features</td>\n",
       "      <td>0.913185</td>\n",
       "      <td>0.913204</td>\n",
       "      <td>157.300000</td>\n",
       "      <td>280.211175</td>\n",
       "      <td>203.991645</td>\n",
       "    </tr>\n",
       "    <tr>\n",
       "      <th>0</th>\n",
       "      <td>AdaBoost_features</td>\n",
       "      <td>0.909385</td>\n",
       "      <td>0.911018</td>\n",
       "      <td>174.811203</td>\n",
       "      <td>286.277805</td>\n",
       "      <td>216.083579</td>\n",
       "    </tr>\n",
       "  </tbody>\n",
       "</table>\n",
       "</div>"
      ],
      "text/plain": [
       "                             Method        r2  explained_variance_score  \\\n",
       "10             lr_features_None_PCA  0.997160                  0.997163   \n",
       "3    ElasticNet_2020_12_12_16_51_21  0.995959                  0.995968   \n",
       "18       XGB_PG_2020_12_12_14_26_19  0.993240                  0.993244   \n",
       "14                     svr_features  0.937659                  0.940609   \n",
       "1   BaggingRegressor_Ridge_features  0.935907                  0.936314   \n",
       "9                       lr_features  0.935823                  0.936278   \n",
       "8                    lasso_features  0.935797                  0.936302   \n",
       "13                   ridge_features  0.935776                  0.936273   \n",
       "11            MLPRegressor_features  0.934123                  0.934929   \n",
       "4               ElasticNet_features  0.933362                  0.933409   \n",
       "16       XGB_PD_2020_12_12_12_36_38  0.930062                  0.932727   \n",
       "5               ExtraTrees_features  0.928664                  0.930021   \n",
       "19                  XGB_PG_features  0.926444                  0.927002   \n",
       "17                  XGB_PD_features  0.924679                  0.924844   \n",
       "12                      rf_features  0.921916                  0.922941   \n",
       "6         GradientBoosting_features  0.921503                  0.922606   \n",
       "2    BaggingRegressor_tree_features  0.920691                  0.922815   \n",
       "15                    tree_features  0.920145                  0.920300   \n",
       "7                      knn_features  0.913185                  0.913204   \n",
       "0                 AdaBoost_features  0.909385                  0.911018   \n",
       "\n",
       "    median_absolute_error  mean_squared_error  mean_absolute_error  \n",
       "10              26.336822           50.676823            36.252926  \n",
       "3               32.513976           60.455324            43.813032  \n",
       "18              48.296875           78.193053            58.268507  \n",
       "14             137.040547          237.450856           175.963331  \n",
       "1              132.650267          240.764137           170.352320  \n",
       "9              132.551078          240.921425           170.532260  \n",
       "8              132.288639          240.970478           170.452915  \n",
       "13             132.524216          241.010425           170.546005  \n",
       "11             145.747585          244.092161           180.632944  \n",
       "4              135.236485          245.498786           173.775489  \n",
       "16             134.250000          251.502935           178.801424  \n",
       "5              138.667450          254.004546           179.475986  \n",
       "19             138.441406          257.927111           183.009572  \n",
       "17             145.109375          261.002322           187.272146  \n",
       "12             150.336667          265.747532           192.538772  \n",
       "6              140.006431          266.448228           186.480877  \n",
       "2              140.050000          267.822901           189.880255  \n",
       "15             160.550000          268.743641           194.716362  \n",
       "7              157.300000          280.211175           203.991645  \n",
       "0              174.811203          286.277805           216.083579  "
      ]
     },
     "execution_count": 129,
     "metadata": {},
     "output_type": "execute_result"
    }
   ],
   "source": [
    "models_from_files = load_model('Models/Features/')\n",
    "file_r2 = []\n",
    "file_explained_variance_score = []\n",
    "file_median_absolute_error = []\n",
    "file_mean_squared_error = []\n",
    "file_mean_absolute_error = []\n",
    "file_labels = []\n",
    "df_predictrions = pd.DataFrame(index = X_test.index)\n",
    "df_predictrions['test'] = y_test\n",
    "for name, model in models_from_files:\n",
    "    file_labels.append(name)\n",
    "    file_r2.append(metrics.r2_score(y_test, model.predict(X_test)))\n",
    "    file_explained_variance_score.append(metrics.explained_variance_score(y_test, model.predict(X_test)))\n",
    "    file_median_absolute_error.append( metrics.median_absolute_error(y_test, model.predict(X_test)))\n",
    "    file_mean_squared_error.append(np.sqrt(metrics.mean_squared_error(y_test, model.predict(X_test))))\n",
    "    file_mean_absolute_error.append(metrics.mean_absolute_error(y_test, model.predict(X_test)))\n",
    "    df_predictrions[name] = model.predict(X_test)\n",
    "file_d = {'r2': file_r2, \n",
    "     'explained_variance_score': file_explained_variance_score, \n",
    "     'median_absolute_error': file_median_absolute_error,\n",
    "     'mean_squared_error' : file_mean_squared_error,\n",
    "     'mean_absolute_error' : file_mean_absolute_error,\n",
    "    }\n",
    "\n",
    "file_df_score = pd.DataFrame(data=file_d)\n",
    "file_df_score.insert(loc=0, column='Method', value=file_labels)\n",
    "file_df_score.sort_values(by = 'r2',ascending=False)"
   ]
  },
  {
   "cell_type": "code",
   "execution_count": 117,
   "metadata": {
    "scrolled": false
   },
   "outputs": [
    {
     "data": {
      "image/png": "[encoded data removed]",
      "text/plain": [
       "<Figure size 1440x720 with 1 Axes>"
      ]
     },
     "metadata": {
      "needs_background": "light"
     },
     "output_type": "display_data"
    }
   ],
   "source": [
    "df_predictrions.loc['2020-06':,['test','lr_features_None_PCA','lr_features','XGB_PG_2020_12_12_14_26_19']].plot(figsize = (20,10))\n",
    "plt.show()"
   ]
  },
  {
   "cell_type": "markdown",
   "metadata": {},
   "source": [
    "### Last model -  Voting Regressor"
   ]
  },
  {
   "cell_type": "code",
   "execution_count": 137,
   "metadata": {},
   "outputs": [
    {
     "name": "stdout",
     "output_type": "stream",
     "text": [
      "Line start at: 2020-12-12 17:13:37.033929\n",
      "Line end at: 2020-12-12 17:14:07.419206\n",
      "The process took: 0:00:30.385277\n"
     ]
    }
   ],
   "source": [
    "start = datetime.now()\n",
    "\n",
    "print(f'Line start at: {start}')\n",
    "\n",
    "vr_estimators = [\n",
    "                ('LinearRegression', models_from_files[10][1].best_estimator_),\n",
    "                ('ElasticNet', models_from_files[3][1].best_estimator_),\n",
    "                ('XGB_PG', models_from_files[18][1].best_estimator_),\n",
    "               ]\n",
    "\n",
    "voting_clf_soft = VotingRegressor(\n",
    "                                estimators=vr_estimators,\n",
    "                                verbose=VERBOSE,\n",
    "                                n_jobs = THREADS)\n",
    "\n",
    "\n",
    "voting_clf_soft.fit(X_train, y_train)\n",
    "end = datetime.now()\n",
    "\n",
    "save_model(voting_clf_soft,filename='VotingRegressor')\n",
    "print(f'Line end at: {end}')\n",
    "print(f'The process took: {end - start}')"
   ]
  },
  {
   "cell_type": "code",
   "execution_count": 138,
   "metadata": {
    "scrolled": false
   },
   "outputs": [
    {
     "name": "stdout",
     "output_type": "stream",
     "text": [
      "Model index 0: AdaBoost_features\n",
      "Model index 1: BaggingRegressor_Ridge_features\n",
      "Model index 2: BaggingRegressor_tree_features\n",
      "Model index 3: ElasticNet_2020_12_12_16_51_21\n",
      "Model index 4: ElasticNet_features\n",
      "Model index 5: ExtraTrees_features\n",
      "Model index 6: GradientBoosting_features\n",
      "Model index 7: knn_features\n",
      "Model index 8: lasso_features\n",
      "Model index 9: lr_features\n",
      "Model index 10: lr_features_None_PCA\n",
      "Model index 11: MLPRegressor_features\n",
      "Model index 12: rf_features\n",
      "Model index 13: ridge_features\n",
      "Model index 14: svr_features\n",
      "Model index 15: tree_features\n",
      "Model index 16: VotingRegressor_2020_12_12_17_14_07\n",
      "Model index 17: XGB_PD_2020_12_12_12_36_38\n",
      "Model index 18: XGB_PD_features\n",
      "Model index 19: XGB_PG_2020_12_12_14_26_19\n",
      "Model index 20: XGB_PG_features\n"
     ]
    },
    {
     "data": {
      "text/html": [
       "<div>\n",
       "<style scoped>\n",
       "    .dataframe tbody tr th:only-of-type {\n",
       "        vertical-align: middle;\n",
       "    }\n",
       "\n",
       "    .dataframe tbody tr th {\n",
       "        vertical-align: top;\n",
       "    }\n",
       "\n",
       "    .dataframe thead th {\n",
       "        text-align: right;\n",
       "    }\n",
       "</style>\n",
       "<table border=\"1\" class=\"dataframe\">\n",
       "  <thead>\n",
       "    <tr style=\"text-align: right;\">\n",
       "      <th></th>\n",
       "      <th>Method</th>\n",
       "      <th>r2</th>\n",
       "      <th>explained_variance_score</th>\n",
       "      <th>median_absolute_error</th>\n",
       "      <th>mean_squared_error</th>\n",
       "      <th>mean_absolute_error</th>\n",
       "    </tr>\n",
       "  </thead>\n",
       "  <tbody>\n",
       "    <tr>\n",
       "      <th>10</th>\n",
       "      <td>lr_features_None_PCA</td>\n",
       "      <td>0.997160</td>\n",
       "      <td>0.997163</td>\n",
       "      <td>26.336822</td>\n",
       "      <td>50.676823</td>\n",
       "      <td>36.252926</td>\n",
       "    </tr>\n",
       "    <tr>\n",
       "      <th>16</th>\n",
       "      <td>VotingRegressor_2020_12_12_17_14_07</td>\n",
       "      <td>0.996895</td>\n",
       "      <td>0.996896</td>\n",
       "      <td>28.663578</td>\n",
       "      <td>52.996309</td>\n",
       "      <td>38.372624</td>\n",
       "    </tr>\n",
       "    <tr>\n",
       "      <th>3</th>\n",
       "      <td>ElasticNet_2020_12_12_16_51_21</td>\n",
       "      <td>0.995959</td>\n",
       "      <td>0.995968</td>\n",
       "      <td>32.513976</td>\n",
       "      <td>60.455324</td>\n",
       "      <td>43.813032</td>\n",
       "    </tr>\n",
       "    <tr>\n",
       "      <th>19</th>\n",
       "      <td>XGB_PG_2020_12_12_14_26_19</td>\n",
       "      <td>0.993240</td>\n",
       "      <td>0.993244</td>\n",
       "      <td>48.296875</td>\n",
       "      <td>78.193053</td>\n",
       "      <td>58.268507</td>\n",
       "    </tr>\n",
       "    <tr>\n",
       "      <th>14</th>\n",
       "      <td>svr_features</td>\n",
       "      <td>0.937659</td>\n",
       "      <td>0.940609</td>\n",
       "      <td>137.040547</td>\n",
       "      <td>237.450856</td>\n",
       "      <td>175.963331</td>\n",
       "    </tr>\n",
       "    <tr>\n",
       "      <th>1</th>\n",
       "      <td>BaggingRegressor_Ridge_features</td>\n",
       "      <td>0.935907</td>\n",
       "      <td>0.936314</td>\n",
       "      <td>132.650267</td>\n",
       "      <td>240.764137</td>\n",
       "      <td>170.352320</td>\n",
       "    </tr>\n",
       "    <tr>\n",
       "      <th>9</th>\n",
       "      <td>lr_features</td>\n",
       "      <td>0.935823</td>\n",
       "      <td>0.936278</td>\n",
       "      <td>132.551078</td>\n",
       "      <td>240.921425</td>\n",
       "      <td>170.532260</td>\n",
       "    </tr>\n",
       "    <tr>\n",
       "      <th>8</th>\n",
       "      <td>lasso_features</td>\n",
       "      <td>0.935797</td>\n",
       "      <td>0.936302</td>\n",
       "      <td>132.288639</td>\n",
       "      <td>240.970478</td>\n",
       "      <td>170.452915</td>\n",
       "    </tr>\n",
       "    <tr>\n",
       "      <th>13</th>\n",
       "      <td>ridge_features</td>\n",
       "      <td>0.935776</td>\n",
       "      <td>0.936273</td>\n",
       "      <td>132.524216</td>\n",
       "      <td>241.010425</td>\n",
       "      <td>170.546005</td>\n",
       "    </tr>\n",
       "    <tr>\n",
       "      <th>11</th>\n",
       "      <td>MLPRegressor_features</td>\n",
       "      <td>0.934123</td>\n",
       "      <td>0.934929</td>\n",
       "      <td>145.747585</td>\n",
       "      <td>244.092161</td>\n",
       "      <td>180.632944</td>\n",
       "    </tr>\n",
       "    <tr>\n",
       "      <th>4</th>\n",
       "      <td>ElasticNet_features</td>\n",
       "      <td>0.933362</td>\n",
       "      <td>0.933409</td>\n",
       "      <td>135.236485</td>\n",
       "      <td>245.498786</td>\n",
       "      <td>173.775489</td>\n",
       "    </tr>\n",
       "    <tr>\n",
       "      <th>17</th>\n",
       "      <td>XGB_PD_2020_12_12_12_36_38</td>\n",
       "      <td>0.930062</td>\n",
       "      <td>0.932727</td>\n",
       "      <td>134.250000</td>\n",
       "      <td>251.502935</td>\n",
       "      <td>178.801424</td>\n",
       "    </tr>\n",
       "    <tr>\n",
       "      <th>5</th>\n",
       "      <td>ExtraTrees_features</td>\n",
       "      <td>0.928664</td>\n",
       "      <td>0.930021</td>\n",
       "      <td>138.667450</td>\n",
       "      <td>254.004546</td>\n",
       "      <td>179.475986</td>\n",
       "    </tr>\n",
       "    <tr>\n",
       "      <th>20</th>\n",
       "      <td>XGB_PG_features</td>\n",
       "      <td>0.926444</td>\n",
       "      <td>0.927002</td>\n",
       "      <td>138.441406</td>\n",
       "      <td>257.927111</td>\n",
       "      <td>183.009572</td>\n",
       "    </tr>\n",
       "    <tr>\n",
       "      <th>18</th>\n",
       "      <td>XGB_PD_features</td>\n",
       "      <td>0.924679</td>\n",
       "      <td>0.924844</td>\n",
       "      <td>145.109375</td>\n",
       "      <td>261.002322</td>\n",
       "      <td>187.272146</td>\n",
       "    </tr>\n",
       "    <tr>\n",
       "      <th>12</th>\n",
       "      <td>rf_features</td>\n",
       "      <td>0.921916</td>\n",
       "      <td>0.922941</td>\n",
       "      <td>150.336667</td>\n",
       "      <td>265.747532</td>\n",
       "      <td>192.538772</td>\n",
       "    </tr>\n",
       "    <tr>\n",
       "      <th>6</th>\n",
       "      <td>GradientBoosting_features</td>\n",
       "      <td>0.921503</td>\n",
       "      <td>0.922606</td>\n",
       "      <td>140.006431</td>\n",
       "      <td>266.448228</td>\n",
       "      <td>186.480877</td>\n",
       "    </tr>\n",
       "    <tr>\n",
       "      <th>2</th>\n",
       "      <td>BaggingRegressor_tree_features</td>\n",
       "      <td>0.920691</td>\n",
       "      <td>0.922815</td>\n",
       "      <td>140.050000</td>\n",
       "      <td>267.822901</td>\n",
       "      <td>189.880255</td>\n",
       "    </tr>\n",
       "    <tr>\n",
       "      <th>15</th>\n",
       "      <td>tree_features</td>\n",
       "      <td>0.920145</td>\n",
       "      <td>0.920300</td>\n",
       "      <td>160.550000</td>\n",
       "      <td>268.743641</td>\n",
       "      <td>194.716362</td>\n",
       "    </tr>\n",
       "    <tr>\n",
       "      <th>7</th>\n",
       "      <td>knn_features</td>\n",
       "      <td>0.913185</td>\n",
       "      <td>0.913204</td>\n",
       "      <td>157.300000</td>\n",
       "      <td>280.211175</td>\n",
       "      <td>203.991645</td>\n",
       "    </tr>\n",
       "    <tr>\n",
       "      <th>0</th>\n",
       "      <td>AdaBoost_features</td>\n",
       "      <td>0.909385</td>\n",
       "      <td>0.911018</td>\n",
       "      <td>174.811203</td>\n",
       "      <td>286.277805</td>\n",
       "      <td>216.083579</td>\n",
       "    </tr>\n",
       "  </tbody>\n",
       "</table>\n",
       "</div>"
      ],
      "text/plain": [
       "                                 Method        r2  explained_variance_score  \\\n",
       "10                 lr_features_None_PCA  0.997160                  0.997163   \n",
       "16  VotingRegressor_2020_12_12_17_14_07  0.996895                  0.996896   \n",
       "3        ElasticNet_2020_12_12_16_51_21  0.995959                  0.995968   \n",
       "19           XGB_PG_2020_12_12_14_26_19  0.993240                  0.993244   \n",
       "14                         svr_features  0.937659                  0.940609   \n",
       "1       BaggingRegressor_Ridge_features  0.935907                  0.936314   \n",
       "9                           lr_features  0.935823                  0.936278   \n",
       "8                        lasso_features  0.935797                  0.936302   \n",
       "13                       ridge_features  0.935776                  0.936273   \n",
       "11                MLPRegressor_features  0.934123                  0.934929   \n",
       "4                   ElasticNet_features  0.933362                  0.933409   \n",
       "17           XGB_PD_2020_12_12_12_36_38  0.930062                  0.932727   \n",
       "5                   ExtraTrees_features  0.928664                  0.930021   \n",
       "20                      XGB_PG_features  0.926444                  0.927002   \n",
       "18                      XGB_PD_features  0.924679                  0.924844   \n",
       "12                          rf_features  0.921916                  0.922941   \n",
       "6             GradientBoosting_features  0.921503                  0.922606   \n",
       "2        BaggingRegressor_tree_features  0.920691                  0.922815   \n",
       "15                        tree_features  0.920145                  0.920300   \n",
       "7                          knn_features  0.913185                  0.913204   \n",
       "0                     AdaBoost_features  0.909385                  0.911018   \n",
       "\n",
       "    median_absolute_error  mean_squared_error  mean_absolute_error  \n",
       "10              26.336822           50.676823            36.252926  \n",
       "16              28.663578           52.996309            38.372624  \n",
       "3               32.513976           60.455324            43.813032  \n",
       "19              48.296875           78.193053            58.268507  \n",
       "14             137.040547          237.450856           175.963331  \n",
       "1              132.650267          240.764137           170.352320  \n",
       "9              132.551078          240.921425           170.532260  \n",
       "8              132.288639          240.970478           170.452915  \n",
       "13             132.524216          241.010425           170.546005  \n",
       "11             145.747585          244.092161           180.632944  \n",
       "4              135.236485          245.498786           173.775489  \n",
       "17             134.250000          251.502935           178.801424  \n",
       "5              138.667450          254.004546           179.475986  \n",
       "20             138.441406          257.927111           183.009572  \n",
       "18             145.109375          261.002322           187.272146  \n",
       "12             150.336667          265.747532           192.538772  \n",
       "6              140.006431          266.448228           186.480877  \n",
       "2              140.050000          267.822901           189.880255  \n",
       "15             160.550000          268.743641           194.716362  \n",
       "7              157.300000          280.211175           203.991645  \n",
       "0              174.811203          286.277805           216.083579  "
      ]
     },
     "execution_count": 138,
     "metadata": {},
     "output_type": "execute_result"
    }
   ],
   "source": [
    "models_from_files = load_model('Models/Features/')\n",
    "file_r2 = []\n",
    "file_explained_variance_score = []\n",
    "file_median_absolute_error = []\n",
    "file_mean_squared_error = []\n",
    "file_mean_absolute_error = []\n",
    "file_labels = []\n",
    "df_predictrions = pd.DataFrame(index = X_test.index)\n",
    "df_predictrions['test'] = y_test\n",
    "for name, model in models_from_files:\n",
    "    file_labels.append(name)\n",
    "    file_r2.append(metrics.r2_score(y_test, model.predict(X_test)))\n",
    "    file_explained_variance_score.append(metrics.explained_variance_score(y_test, model.predict(X_test)))\n",
    "    file_median_absolute_error.append( metrics.median_absolute_error(y_test, model.predict(X_test)))\n",
    "    file_mean_squared_error.append(np.sqrt(metrics.mean_squared_error(y_test, model.predict(X_test))))\n",
    "    file_mean_absolute_error.append(metrics.mean_absolute_error(y_test, model.predict(X_test)))\n",
    "    df_predictrions[name] = model.predict(X_test)\n",
    "file_d = {'r2': file_r2, \n",
    "     'explained_variance_score': file_explained_variance_score, \n",
    "     'median_absolute_error': file_median_absolute_error,\n",
    "     'mean_squared_error' : file_mean_squared_error,\n",
    "     'mean_absolute_error' : file_mean_absolute_error,\n",
    "    }\n",
    "\n",
    "file_df_score = pd.DataFrame(data=file_d)\n",
    "file_df_score.insert(loc=0, column='Method', value=file_labels)\n",
    "file_df_score.sort_values(by = 'r2',ascending=False)"
   ]
  },
  {
   "cell_type": "code",
   "execution_count": 146,
   "metadata": {},
   "outputs": [
    {
     "data": {
      "text/plain": [
       "Index(['test', 'AdaBoost_features', 'BaggingRegressor_Ridge_features',\n",
       "       'BaggingRegressor_tree_features', 'ElasticNet_2020_12_12_16_51_21',\n",
       "       'ElasticNet_features', 'ExtraTrees_features',\n",
       "       'GradientBoosting_features', 'knn_features', 'lasso_features',\n",
       "       'lr_features', 'lr_features_None_PCA', 'MLPRegressor_features',\n",
       "       'rf_features', 'ridge_features', 'svr_features', 'tree_features',\n",
       "       'VotingRegressor_2020_12_12_17_14_07', 'XGB_PD_2020_12_12_12_36_38',\n",
       "       'XGB_PD_features', 'XGB_PG_2020_12_12_14_26_19', 'XGB_PG_features'],\n",
       "      dtype='object')"
      ]
     },
     "execution_count": 146,
     "metadata": {},
     "output_type": "execute_result"
    }
   ],
   "source": [
    "df_predictrions."
   ]
  },
  {
   "cell_type": "code",
   "execution_count": 153,
   "metadata": {
    "scrolled": false
   },
   "outputs": [
    {
     "data": {
      "image/png": "[encoded data removed]",
      "text/plain": [
       "<Figure size 1440x576 with 1 Axes>"
      ]
     },
     "metadata": {
      "needs_background": "light"
     },
     "output_type": "display_data"
    }
   ],
   "source": [
    "combine_plots(y_train.PLN, y_test.PLN,\n",
    "              predict=[df_predictrions['lr_features_None_PCA'].values,\n",
    "                       df_predictrions['VotingRegressor_2020_12_12_17_14_07'].values,\n",
    "                       df_predictrions['AdaBoost_features'].values,\n",
    "                      ],\n",
    "              index = df_pl2.index,\n",
    "              zoom_start='2016-06',\n",
    "              zoom_end='2016-09')"
   ]
  },
  {
   "cell_type": "markdown",
   "metadata": {},
   "source": [
    "## Naive Forecast"
   ]
  },
  {
   "cell_type": "code",
   "execution_count": 161,
   "metadata": {},
   "outputs": [],
   "source": [
    "def naive_forecast(ts, period):\n",
    "    actual = ts[period:]\n",
    "    preds = ts.shift(period)[period:]\n",
    "    return np.sqrt(metrics.mean_squared_error(actual, preds))"
   ]
  },
  {
   "cell_type": "code",
   "execution_count": 163,
   "metadata": {},
   "outputs": [
    {
     "data": {
      "text/plain": [
       "123.77045641138174"
      ]
     },
     "execution_count": 163,
     "metadata": {},
     "output_type": "execute_result"
    }
   ],
   "source": [
    "naive_forecast(y_test, period=1)"
   ]
  },
  {
   "cell_type": "markdown",
   "metadata": {},
   "source": [
    "### Baseline Performance"
   ]
  },
  {
   "cell_type": "code",
   "execution_count": 164,
   "metadata": {},
   "outputs": [
    {
     "name": "stdout",
     "output_type": "stream",
     "text": [
      "1: 123.77045641138174\n",
      "2: 178.90721883574713\n",
      "3: 226.6395583696488\n",
      "4: 267.34210887438803\n",
      "5: 302.2981907208083\n",
      "6: 336.03467175117703\n",
      "7: 364.1051000656339\n"
     ]
    }
   ],
   "source": [
    "for i in range(1,8):\n",
    "    print(f'{i}: {naive_forecast(y_test, period=i)}')"
   ]
  },
  {
   "cell_type": "markdown",
   "metadata": {},
   "source": [
    "## Forcast for Linear Regression"
   ]
  },
  {
   "cell_type": "code",
   "execution_count": 170,
   "metadata": {},
   "outputs": [],
   "source": [
    "def prepare_data(X, y, period, split_ratio=0.8):\n",
    "    # define index border between train and test\n",
    "    split_index = int(split_ratio*X.shape[0])\n",
    "    \n",
    "    # shift the features; remove missing values by slicing; target should be aligned with features\n",
    "    X_shift = X.shift(period)[period:]\n",
    "    y_shift = y[period:]\n",
    "    \n",
    "    # split original features and target on index\n",
    "    X_train, X_test = X_shift[:split_index], X_shift[split_index:]\n",
    "    y_train, y_test = y_shift[:split_index], y_shift[split_index:]\n",
    "    \n",
    "    return X_train, y_train, X_test, y_test"
   ]
  },
  {
   "cell_type": "code",
   "execution_count": 167,
   "metadata": {},
   "outputs": [
    {
     "data": {
      "text/plain": [
       "{'lr__normalize': False,\n",
       " 'pca__n_components': None,\n",
       " 'polynomialfeatures__degree': 1,\n",
       " 'scale': None,\n",
       " 'transform': None}"
      ]
     },
     "execution_count": 167,
     "metadata": {},
     "output_type": "execute_result"
    }
   ],
   "source": [
    "models_from_files[10][1].best_params_"
   ]
  },
  {
   "cell_type": "code",
   "execution_count": 169,
   "metadata": {},
   "outputs": [
    {
     "data": {
      "text/plain": [
       "Pipeline(steps=[('transform', PowerTransformer()), ('scale', MinMaxScaler()),\n",
       "                ('pca', PCA(n_components=0.8)),\n",
       "                ('polynomialfeatures', PolynomialFeatures()),\n",
       "                ('lr', LinearRegression())])"
      ]
     },
     "execution_count": 169,
     "metadata": {},
     "output_type": "execute_result"
    }
   ],
   "source": [
    "models_from_files[10][1].estimator"
   ]
  },
  {
   "cell_type": "code",
   "execution_count": 203,
   "metadata": {
    "scrolled": false
   },
   "outputs": [
    {
     "name": "stdout",
     "output_type": "stream",
     "text": [
      "Period: 1\n",
      "Forecast: 44997 +/- 55.19997410890959\n",
      "Period: 2\n",
      "Forecast: 44936 +/- 55.147857500632995\n",
      "Period: 3\n",
      "Forecast: 44947 +/- 137.96823730981095\n",
      "Period: 4\n",
      "Forecast: 44971 +/- 196.22825662292962\n",
      "Period: 5\n",
      "Forecast: 45002 +/- 245.2435536272864\n",
      "Period: 6\n",
      "Forecast: 45005 +/- 288.2075044541287\n",
      "Period: 7\n",
      "Forecast: 44993 +/- 328.12383539279244\n"
     ]
    }
   ],
   "source": [
    "# pipeline definition\n",
    "steps = [\n",
    "    ('transform', PowerTransformer(method='yeo-johnson')), \n",
    "    ('scale', MinMaxScaler()), \n",
    "    ('pca', PCA(n_components=0.9)), # to remove highly correlated features\n",
    "    ('polynomialfeatures', PolynomialFeatures(degree=2)),\n",
    "    ('lr', LinearRegression())\n",
    "]\n",
    "pipeline = Pipeline(steps=steps)\n",
    "\n",
    "lr_preds = []\n",
    "for period in range(1,8):\n",
    "    X_train, y_train, X_test, y_test = prepare_data(X, y, period=period, split_ratio=0.8)\n",
    "\n",
    "    params = {\n",
    "            'transform': [None],\n",
    "            'scale': [None],\n",
    "            'pca__n_components': [None],\n",
    "            'polynomialfeatures__degree': [1],\n",
    "            'lr__normalize': [False],\n",
    "    }\n",
    "    \n",
    "    cv = TimeSeriesSplit(n_splits=5).split(X_train)\n",
    "    grid_lr = GridSearchCV(pipeline, param_grid=params, cv=cv, verbose=0)\n",
    "    grid_lr.fit(X_train, y_train)\n",
    "    lr_model = grid_lr.best_estimator_\n",
    "    score = np.sqrt(metrics.mean_squared_error(lr_model.predict(X_test), y_test))\n",
    "    pred = lr_model.predict(X.tail(1))[0][0]\n",
    "    test_val = y_test.tail(1).values[0]\n",
    "    lr_preds.append(pred)\n",
    "    print(f'Period: {period}')\n",
    "    print(f'Forecast: {round(pred)} +/- {score}')\n",
    "    \n",
    "    "
   ]
  },
  {
   "cell_type": "code",
   "execution_count": 196,
   "metadata": {},
   "outputs": [
    {
     "data": {
      "text/html": [
       "<div>\n",
       "<style scoped>\n",
       "    .dataframe tbody tr th:only-of-type {\n",
       "        vertical-align: middle;\n",
       "    }\n",
       "\n",
       "    .dataframe tbody tr th {\n",
       "        vertical-align: top;\n",
       "    }\n",
       "\n",
       "    .dataframe thead th {\n",
       "        text-align: right;\n",
       "    }\n",
       "</style>\n",
       "<table border=\"1\" class=\"dataframe\">\n",
       "  <thead>\n",
       "    <tr style=\"text-align: right;\">\n",
       "      <th></th>\n",
       "      <th>PLN</th>\n",
       "    </tr>\n",
       "    <tr>\n",
       "      <th>Date</th>\n",
       "      <th></th>\n",
       "    </tr>\n",
       "  </thead>\n",
       "  <tbody>\n",
       "    <tr>\n",
       "      <th>2020-11-05</th>\n",
       "      <td>45134.0</td>\n",
       "    </tr>\n",
       "  </tbody>\n",
       "</table>\n",
       "</div>"
      ],
      "text/plain": [
       "                PLN\n",
       "Date               \n",
       "2020-11-05  45134.0"
      ]
     },
     "execution_count": 196,
     "metadata": {},
     "output_type": "execute_result"
    }
   ],
   "source": [
    "y_test.tail(1)"
   ]
  },
  {
   "cell_type": "code",
   "execution_count": 197,
   "metadata": {
    "scrolled": false
   },
   "outputs": [
    {
     "data": {
      "text/html": [
       "<div>\n",
       "<style scoped>\n",
       "    .dataframe tbody tr th:only-of-type {\n",
       "        vertical-align: middle;\n",
       "    }\n",
       "\n",
       "    .dataframe tbody tr th {\n",
       "        vertical-align: top;\n",
       "    }\n",
       "\n",
       "    .dataframe thead th {\n",
       "        text-align: right;\n",
       "    }\n",
       "</style>\n",
       "<table border=\"1\" class=\"dataframe\">\n",
       "  <thead>\n",
       "    <tr style=\"text-align: right;\">\n",
       "      <th></th>\n",
       "      <th>PLN</th>\n",
       "    </tr>\n",
       "    <tr>\n",
       "      <th>Date</th>\n",
       "      <th></th>\n",
       "    </tr>\n",
       "  </thead>\n",
       "  <tbody>\n",
       "    <tr>\n",
       "      <th>2020-11-03</th>\n",
       "      <td>45680.0</td>\n",
       "    </tr>\n",
       "    <tr>\n",
       "      <th>2020-11-04</th>\n",
       "      <td>45368.0</td>\n",
       "    </tr>\n",
       "    <tr>\n",
       "      <th>2020-11-05</th>\n",
       "      <td>45134.0</td>\n",
       "    </tr>\n",
       "    <tr>\n",
       "      <th>2020-11-06</th>\n",
       "      <td>45263.0</td>\n",
       "    </tr>\n",
       "    <tr>\n",
       "      <th>2020-11-09</th>\n",
       "      <td>44670.0</td>\n",
       "    </tr>\n",
       "  </tbody>\n",
       "</table>\n",
       "</div>"
      ],
      "text/plain": [
       "                PLN\n",
       "Date               \n",
       "2020-11-03  45680.0\n",
       "2020-11-04  45368.0\n",
       "2020-11-05  45134.0\n",
       "2020-11-06  45263.0\n",
       "2020-11-09  44670.0"
      ]
     },
     "execution_count": 197,
     "metadata": {},
     "output_type": "execute_result"
    }
   ],
   "source": [
    "df_pl.tail(5)"
   ]
  },
  {
   "cell_type": "code",
   "execution_count": 199,
   "metadata": {},
   "outputs": [
    {
     "data": {
      "text/plain": [
       "{'pca__n_components': 0.8,\n",
       " 'polynomialfeatures__degree': 1,\n",
       " 'scale': StandardScaler(),\n",
       " 'svr__C': 10000,\n",
       " 'svr__gamma': 0.0001,\n",
       " 'transform': None}"
      ]
     },
     "execution_count": 199,
     "metadata": {},
     "output_type": "execute_result"
    }
   ],
   "source": [
    "models_from_files[14][1].best_params_"
   ]
  },
  {
   "cell_type": "markdown",
   "metadata": {},
   "source": [
    "## Forcast for SVR - RBF"
   ]
  },
  {
   "cell_type": "code",
   "execution_count": 201,
   "metadata": {
    "scrolled": false
   },
   "outputs": [
    {
     "name": "stdout",
     "output_type": "stream",
     "text": [
      "Period: 1\n",
      "Forecast: 45864 +/- 108.26315018194815\n",
      "Period: 2\n",
      "Forecast: 45818 +/- 113.81211113076493\n",
      "Period: 3\n",
      "Forecast: 45816 +/- 171.70899022846044\n",
      "Period: 4\n",
      "Forecast: 45809 +/- 218.92122370317472\n",
      "Period: 5\n",
      "Forecast: 45792 +/- 259.93159611416513\n",
      "Period: 6\n",
      "Forecast: 45803 +/- 295.5348683648941\n",
      "Period: 7\n",
      "Forecast: 45810 +/- 328.12383539279244\n"
     ]
    }
   ],
   "source": [
    "# pipeline definition\n",
    "steps = [\n",
    "    ('transform', PowerTransformer(method='yeo-johnson')), \n",
    "    ('scale', MinMaxScaler()), \n",
    "    ('pca', PCA(n_components=0.9)), # to remove highly correlated features\n",
    "    ('polynomialfeatures', PolynomialFeatures(degree=2)),\n",
    "    ('svr', SVR(kernel='rbf',C=1))\n",
    "]\n",
    "pipeline = Pipeline(steps=steps)\n",
    "\n",
    "svr_preds = []\n",
    "for period in range(1,8):\n",
    "    X_train, y_train, X_test, y_test = prepare_data(X, y, period=period, split_ratio=0.8)\n",
    "\n",
    "    params = {\n",
    "            'transform': [None],\n",
    "            'scale': [StandardScaler()],\n",
    "            'pca__n_components': [0.8],\n",
    "            'polynomialfeatures__degree': [1],\n",
    "            'svr__C': [10000],\n",
    "            'svr__gamma': [0.0001]\n",
    "}\n",
    "    \n",
    "    cv = TimeSeriesSplit(n_splits=5).split(X_train)\n",
    "    grid_svr = GridSearchCV(pipeline, param_grid=params, cv=cv, verbose=0)\n",
    "    grid_svr.fit(X_train, y_train)\n",
    "    svr_model = grid_svr.best_estimator_\n",
    "    score_svr = np.sqrt(metrics.mean_squared_error(lr_model.predict(X_test), y_test))\n",
    "    pred_svr = svr_model.predict(X.tail(1))[0]\n",
    "    test_val = y_test.tail(1).values[0]\n",
    "    svr_preds.append(pred_svr)\n",
    "    print(f'Period: {period}')\n",
    "    print(f'Forecast: {round(pred_svr)} +/- {score_svr}')\n",
    "    \n",
    "    \n",
    "\n",
    "\n",
    "    \n",
    "    "
   ]
  },
  {
   "cell_type": "markdown",
   "metadata": {},
   "source": [
    "### Comparison"
   ]
  },
  {
   "cell_type": "code",
   "execution_count": 224,
   "metadata": {},
   "outputs": [
    {
     "data": {
      "text/plain": [
       "array([44997.01616096, 44935.98383904])"
      ]
     },
     "execution_count": 224,
     "metadata": {},
     "output_type": "execute_result"
    }
   ],
   "source": [
    "lr_result = np.array(lr_preds[:2])\n",
    "lr_result"
   ]
  },
  {
   "cell_type": "code",
   "execution_count": 225,
   "metadata": {},
   "outputs": [
    {
     "data": {
      "text/plain": [
       "array([45864.05085464, 45817.87323634])"
      ]
     },
     "execution_count": 225,
     "metadata": {},
     "output_type": "execute_result"
    }
   ],
   "source": [
    "svr_result = np.array(svr_preds[:2])\n",
    "svr_result"
   ]
  },
  {
   "cell_type": "code",
   "execution_count": 226,
   "metadata": {},
   "outputs": [
    {
     "data": {
      "text/plain": [
       "array([45267.42154732, 45268.0400499 ])"
      ]
     },
     "execution_count": 226,
     "metadata": {},
     "output_type": "execute_result"
    }
   ],
   "source": [
    "ARIMA_0_1_1 = np.array([45267.42154732, 45268.0400499])\n",
    "ARIMA_0_1_1"
   ]
  },
  {
   "cell_type": "code",
   "execution_count": 228,
   "metadata": {},
   "outputs": [
    {
     "data": {
      "text/plain": [
       "array([45263., 44670.])"
      ]
     },
     "execution_count": 228,
     "metadata": {},
     "output_type": "execute_result"
    }
   ],
   "source": [
    "#real data\n",
    "real = [i[0] for i in df_pl.tail(2).values.tolist()]\n",
    "real = np.array(real)\n",
    "real"
   ]
  },
  {
   "cell_type": "code",
   "execution_count": 223,
   "metadata": {},
   "outputs": [
    {
     "data": {
      "text/plain": [
       "array([ 265.98383904, -265.98383904])"
      ]
     },
     "execution_count": 223,
     "metadata": {},
     "output_type": "execute_result"
    }
   ],
   "source": []
  },
  {
   "cell_type": "code",
   "execution_count": 230,
   "metadata": {},
   "outputs": [
    {
     "name": "stdout",
     "output_type": "stream",
     "text": [
      "Differences for LR model [265.98383904 265.98383904]\n",
      "Differences for SVR model [ 601.05085464 1147.87323634]\n",
      "Differences for ARIMA_0_1_1 model [  4.42154732 598.0400499 ]\n"
     ]
    }
   ],
   "source": [
    "print(f'Differences for LR model {np.abs(lr_result - real)}')\n",
    "print(f'Differences for SVR model {np.abs(svr_result - real)}')\n",
    "print(f'Differences for ARIMA_0_1_1 model {np.abs(ARIMA_0_1_1 - real)}')"
   ]
  },
  {
   "cell_type": "markdown",
   "metadata": {},
   "source": [
    "We see that for first prediction ARIMA model have the best result. For second prediction LR look better."
   ]
  },
  {
   "cell_type": "code",
   "execution_count": null,
   "metadata": {},
   "outputs": [],
   "source": []
  },
  {
   "cell_type": "markdown",
   "metadata": {},
   "source": [
    "# Conclusions\n",
    "\n",
    "The project presents many tools for the analysis and processing of time series data.\n",
    "\n",
    "Thinking with common sense, I did not count for long-term predictions. Given the high volatility of the PLN currency, it is necessary to refit the model frequently. I intend to develop my model with new methods and predictive techniques as well as expand the ones already presented in the project.\n",
    "\n",
    "1. Appropriate collection and preparation of data helps in working freely with data. If there is more data than we need at the beginning, it can be helpful in later work along with the development of the project.\n",
    "\n",
    "2. Pure ARIMA model without cyclical refitting is not a good tool for long-term forecasting for foreign exchange. Because it can only show the trend.\n",
    "\n",
    "3. A good solution is to expand the ARIMA model to the ARIMAX model, which, thanks to additional data, can better predict future events.\n",
    "\n",
    "The Machine Learning approach is also an effective predictive tool but:\n",
    "\n",
    "1. Data transformations do not always improve predictions of Machine Learning models. Most models do not use scaling and no power functions to improve data quality.\n",
    "\n",
    "2. The introduction of additional variables did not improve the prediction of Machine Learning models which requires further investigation. Because I was hoping that, just like in reality, external factors affect exchange rates and the same effect could be captured in Machine Learning models.\n",
    "3. There are several ML models that better cope with the investigated problem, eg Linear Regression.\n",
    "\n",
    "General\n",
    "\n",
    "1. It would be worth expanding the model with NLP tools to take into account the statements of politicians and people who have an impact on the country's monetary policy.\n",
    "2. It is also worth acquiring professional knowledge in the field of currency exchange for a better interpretation of changes in the market\n",
    "3. It is also worth looking for a better source of data such as yahoo finance, which provides a library that allows you to load interest as the currency data as well as the stock market indices, the disadvantage is the lack of Polish stock exchange indices.\n",
    "\n",
    "We encourage you to follow this project in the future as I intend to develop it."
   ]
  },
  {
   "cell_type": "code",
   "execution_count": null,
   "metadata": {},
   "outputs": [],
   "source": []
  },
  {
   "cell_type": "code",
   "execution_count": null,
   "metadata": {},
   "outputs": [],
   "source": []
  },
  {
   "cell_type": "code",
   "execution_count": null,
   "metadata": {},
   "outputs": [],
   "source": []
  }
 ],
 "metadata": {
  "kernelspec": {
   "display_name": "Python 3",
   "language": "python",
   "name": "python3"
  },
  "language_info": {
   "codemirror_mode": {
    "name": "ipython",
    "version": 3
   },
   "file_extension": ".py",
   "mimetype": "text/x-python",
   "name": "python",
   "nbconvert_exporter": "python",
   "pygments_lexer": "ipython3",
   "version": "3.8.5"
  },
  "toc": {
   "base_numbering": 1,
   "nav_menu": {},
   "number_sections": true,
   "sideBar": true,
   "skip_h1_title": false,
   "title_cell": "Table of Contents",
   "title_sidebar": "Contents",
   "toc_cell": false,
   "toc_position": {
    "height": "calc(100% - 180px)",
    "left": "10px",
    "top": "150px",
    "width": "349.034px"
   },
   "toc_section_display": true,
   "toc_window_display": true
  },
  "varInspector": {
   "cols": {
    "lenName": 16,
    "lenType": 16,
    "lenVar": 40
   },
   "kernels_config": {
    "python": {
     "delete_cmd_postfix": "",
     "delete_cmd_prefix": "del ",
     "library": "var_list.py",
     "varRefreshCmd": "print(var_dic_list())"
    },
    "r": {
     "delete_cmd_postfix": ") ",
     "delete_cmd_prefix": "rm(",
     "library": "var_list.r",
     "varRefreshCmd": "cat(var_dic_list()) "
    }
   },
   "types_to_exclude": [
    "module",
    "function",
    "builtin_function_or_method",
    "instance",
    "_Feature"
   ],
   "window_display": false
  }
 },
 "nbformat": 4,
 "nbformat_minor": 4
}
